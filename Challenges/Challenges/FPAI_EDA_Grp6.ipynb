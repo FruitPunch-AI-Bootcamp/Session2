{
 "cells": [
  {
   "cell_type": "markdown",
   "metadata": {},
   "source": [
    "# Happiness \n",
    "\n",
    "Happiness is a very vague concept especially when it applies to a community. Your team is made of a group of psychologist who have trained for a year in data analysis, working in a Mental Health institution in Asia. You have as goals to understand what are the factors that influence happiness in this continent and why some countries are score higher than others. You are given the data of global happiness score to extract the relevant one for your study.\n",
    "\n",
    "The data available is HS.xlsx"
   ]
  },
  {
   "cell_type": "markdown",
   "metadata": {},
   "source": [
    "## You are constrained to use only plotly express for your plots"
   ]
  },
  {
   "cell_type": "code",
   "execution_count": 1,
   "metadata": {},
   "outputs": [],
   "source": [
    "## Load the relevant packages\n",
    "import warnings\n",
    "warnings.filterwarnings('ignore')"
   ]
  },
  {
   "cell_type": "markdown",
   "metadata": {},
   "source": [
    "# Data Transformation"
   ]
  },
  {
   "cell_type": "code",
   "execution_count": 3,
   "metadata": {},
   "outputs": [],
   "source": [
    "## import the data and fill missing data with zero\n"
   ]
  },
  {
   "cell_type": "markdown",
   "metadata": {},
   "source": [
    "## 1. Complete the column Region for 2017 to 2019"
   ]
  },
  {
   "cell_type": "code",
   "execution_count": 5,
   "metadata": {},
   "outputs": [
    {
     "data": {
      "text/html": [
       "<div>\n",
       "<style scoped>\n",
       "    .dataframe tbody tr th:only-of-type {\n",
       "        vertical-align: middle;\n",
       "    }\n",
       "\n",
       "    .dataframe tbody tr th {\n",
       "        vertical-align: top;\n",
       "    }\n",
       "\n",
       "    .dataframe thead th {\n",
       "        text-align: right;\n",
       "    }\n",
       "</style>\n",
       "<table border=\"1\" class=\"dataframe\">\n",
       "  <thead>\n",
       "    <tr style=\"text-align: right;\">\n",
       "      <th></th>\n",
       "      <th>Happiness Rank</th>\n",
       "      <th>Country</th>\n",
       "      <th>Region</th>\n",
       "      <th>Happiness Score</th>\n",
       "      <th>Economy (GDP per Capita)</th>\n",
       "      <th>Family</th>\n",
       "      <th>Health (Life Expectancy)</th>\n",
       "      <th>Freedom</th>\n",
       "      <th>Generosity</th>\n",
       "      <th>Trust (Government Corruption)</th>\n",
       "      <th>Year</th>\n",
       "    </tr>\n",
       "  </thead>\n",
       "  <tbody>\n",
       "    <tr>\n",
       "      <th>470</th>\n",
       "      <td>1</td>\n",
       "      <td>Finland</td>\n",
       "      <td>Western Europe</td>\n",
       "      <td>7.632</td>\n",
       "      <td>1.305</td>\n",
       "      <td>1.592</td>\n",
       "      <td>0.874</td>\n",
       "      <td>0.0</td>\n",
       "      <td>0.202</td>\n",
       "      <td>0.0</td>\n",
       "      <td>2018</td>\n",
       "    </tr>\n",
       "    <tr>\n",
       "      <th>471</th>\n",
       "      <td>2</td>\n",
       "      <td>Norway</td>\n",
       "      <td>Western Europe</td>\n",
       "      <td>7.594</td>\n",
       "      <td>1.456</td>\n",
       "      <td>1.582</td>\n",
       "      <td>0.861</td>\n",
       "      <td>0.0</td>\n",
       "      <td>0.286</td>\n",
       "      <td>0.0</td>\n",
       "      <td>2018</td>\n",
       "    </tr>\n",
       "    <tr>\n",
       "      <th>472</th>\n",
       "      <td>3</td>\n",
       "      <td>Denmark</td>\n",
       "      <td>Western Europe</td>\n",
       "      <td>7.555</td>\n",
       "      <td>1.351</td>\n",
       "      <td>1.590</td>\n",
       "      <td>0.868</td>\n",
       "      <td>0.0</td>\n",
       "      <td>0.284</td>\n",
       "      <td>0.0</td>\n",
       "      <td>2018</td>\n",
       "    </tr>\n",
       "    <tr>\n",
       "      <th>473</th>\n",
       "      <td>4</td>\n",
       "      <td>Iceland</td>\n",
       "      <td>Western Europe</td>\n",
       "      <td>7.495</td>\n",
       "      <td>1.343</td>\n",
       "      <td>1.644</td>\n",
       "      <td>0.914</td>\n",
       "      <td>0.0</td>\n",
       "      <td>0.353</td>\n",
       "      <td>0.0</td>\n",
       "      <td>2018</td>\n",
       "    </tr>\n",
       "    <tr>\n",
       "      <th>474</th>\n",
       "      <td>5</td>\n",
       "      <td>Switzerland</td>\n",
       "      <td>Western Europe</td>\n",
       "      <td>7.487</td>\n",
       "      <td>1.420</td>\n",
       "      <td>1.549</td>\n",
       "      <td>0.927</td>\n",
       "      <td>0.0</td>\n",
       "      <td>0.256</td>\n",
       "      <td>0.0</td>\n",
       "      <td>2018</td>\n",
       "    </tr>\n",
       "  </tbody>\n",
       "</table>\n",
       "</div>"
      ],
      "text/plain": [
       "    Happiness Rank      Country          Region  Happiness Score  \\\n",
       "470              1      Finland  Western Europe            7.632   \n",
       "471              2       Norway  Western Europe            7.594   \n",
       "472              3      Denmark  Western Europe            7.555   \n",
       "473              4      Iceland  Western Europe            7.495   \n",
       "474              5  Switzerland  Western Europe            7.487   \n",
       "\n",
       "     Economy (GDP per Capita)  Family  Health (Life Expectancy)  Freedom  \\\n",
       "470                     1.305   1.592                     0.874      0.0   \n",
       "471                     1.456   1.582                     0.861      0.0   \n",
       "472                     1.351   1.590                     0.868      0.0   \n",
       "473                     1.343   1.644                     0.914      0.0   \n",
       "474                     1.420   1.549                     0.927      0.0   \n",
       "\n",
       "     Generosity  Trust (Government Corruption)  Year  \n",
       "470       0.202                            0.0  2018  \n",
       "471       0.286                            0.0  2018  \n",
       "472       0.284                            0.0  2018  \n",
       "473       0.353                            0.0  2018  \n",
       "474       0.256                            0.0  2018  "
      ]
     },
     "execution_count": 5,
     "metadata": {},
     "output_type": "execute_result"
    }
   ],
   "source": [
    "### Your data doesnt have values for region from the year 2017 to 2019\n",
    "## 1. your team needs to assign the right regions to the countries in the year 2017 to 2019\n",
    "\n",
    "df[df.Year==2018].head()"
   ]
  },
  {
   "cell_type": "markdown",
   "metadata": {},
   "source": [
    "## 2. Select Countries in Asia Region"
   ]
  },
  {
   "cell_type": "code",
   "execution_count": 6,
   "metadata": {},
   "outputs": [],
   "source": [
    "## Check how the the continent Asia is represented in the column Region"
   ]
  },
  {
   "cell_type": "code",
   "execution_count": 8,
   "metadata": {},
   "outputs": [
    {
     "data": {
      "text/html": [
       "<div>\n",
       "<style scoped>\n",
       "    .dataframe tbody tr th:only-of-type {\n",
       "        vertical-align: middle;\n",
       "    }\n",
       "\n",
       "    .dataframe tbody tr th {\n",
       "        vertical-align: top;\n",
       "    }\n",
       "\n",
       "    .dataframe thead th {\n",
       "        text-align: right;\n",
       "    }\n",
       "</style>\n",
       "<table border=\"1\" class=\"dataframe\">\n",
       "  <thead>\n",
       "    <tr style=\"text-align: right;\">\n",
       "      <th></th>\n",
       "      <th>Happiness Rank</th>\n",
       "      <th>Country</th>\n",
       "      <th>Region</th>\n",
       "      <th>Happiness Score</th>\n",
       "      <th>Economy (GDP per Capita)</th>\n",
       "      <th>Family</th>\n",
       "      <th>Health (Life Expectancy)</th>\n",
       "      <th>Freedom</th>\n",
       "      <th>Generosity</th>\n",
       "      <th>Trust (Government Corruption)</th>\n",
       "      <th>Year</th>\n",
       "    </tr>\n",
       "  </thead>\n",
       "  <tbody>\n",
       "    <tr>\n",
       "      <th>23</th>\n",
       "      <td>24</td>\n",
       "      <td>Singapore</td>\n",
       "      <td>Southeastern Asia</td>\n",
       "      <td>6.798</td>\n",
       "      <td>1.52186</td>\n",
       "      <td>1.02000</td>\n",
       "      <td>1.02525</td>\n",
       "      <td>0.54252</td>\n",
       "      <td>0.31105</td>\n",
       "      <td>0.49210</td>\n",
       "      <td>2015</td>\n",
       "    </tr>\n",
       "    <tr>\n",
       "      <th>33</th>\n",
       "      <td>34</td>\n",
       "      <td>Thailand</td>\n",
       "      <td>Southeastern Asia</td>\n",
       "      <td>6.455</td>\n",
       "      <td>0.96690</td>\n",
       "      <td>1.26504</td>\n",
       "      <td>0.73850</td>\n",
       "      <td>0.55664</td>\n",
       "      <td>0.57630</td>\n",
       "      <td>0.03187</td>\n",
       "      <td>2015</td>\n",
       "    </tr>\n",
       "    <tr>\n",
       "      <th>60</th>\n",
       "      <td>61</td>\n",
       "      <td>Malaysia</td>\n",
       "      <td>Southeastern Asia</td>\n",
       "      <td>5.770</td>\n",
       "      <td>1.12486</td>\n",
       "      <td>1.07023</td>\n",
       "      <td>0.72394</td>\n",
       "      <td>0.53024</td>\n",
       "      <td>0.33075</td>\n",
       "      <td>0.10501</td>\n",
       "      <td>2015</td>\n",
       "    </tr>\n",
       "    <tr>\n",
       "      <th>73</th>\n",
       "      <td>74</td>\n",
       "      <td>Indonesia</td>\n",
       "      <td>Southeastern Asia</td>\n",
       "      <td>5.399</td>\n",
       "      <td>0.82827</td>\n",
       "      <td>1.08708</td>\n",
       "      <td>0.63793</td>\n",
       "      <td>0.46611</td>\n",
       "      <td>0.51535</td>\n",
       "      <td>0.00000</td>\n",
       "      <td>2015</td>\n",
       "    </tr>\n",
       "    <tr>\n",
       "      <th>74</th>\n",
       "      <td>75</td>\n",
       "      <td>Vietnam</td>\n",
       "      <td>Southeastern Asia</td>\n",
       "      <td>5.360</td>\n",
       "      <td>0.63216</td>\n",
       "      <td>0.91226</td>\n",
       "      <td>0.74676</td>\n",
       "      <td>0.59444</td>\n",
       "      <td>0.16860</td>\n",
       "      <td>0.10441</td>\n",
       "      <td>2015</td>\n",
       "    </tr>\n",
       "  </tbody>\n",
       "</table>\n",
       "</div>"
      ],
      "text/plain": [
       "   Happiness Rank    Country             Region  Happiness Score  \\\n",
       "23             24  Singapore  Southeastern Asia            6.798   \n",
       "33             34   Thailand  Southeastern Asia            6.455   \n",
       "60             61   Malaysia  Southeastern Asia            5.770   \n",
       "73             74  Indonesia  Southeastern Asia            5.399   \n",
       "74             75    Vietnam  Southeastern Asia            5.360   \n",
       "\n",
       "    Economy (GDP per Capita)   Family  Health (Life Expectancy)  Freedom  \\\n",
       "23                   1.52186  1.02000                   1.02525  0.54252   \n",
       "33                   0.96690  1.26504                   0.73850  0.55664   \n",
       "60                   1.12486  1.07023                   0.72394  0.53024   \n",
       "73                   0.82827  1.08708                   0.63793  0.46611   \n",
       "74                   0.63216  0.91226                   0.74676  0.59444   \n",
       "\n",
       "    Generosity  Trust (Government Corruption)  Year  \n",
       "23     0.31105                        0.49210  2015  \n",
       "33     0.57630                        0.03187  2015  \n",
       "60     0.33075                        0.10501  2015  \n",
       "73     0.51535                        0.00000  2015  \n",
       "74     0.16860                        0.10441  2015  "
      ]
     },
     "execution_count": 8,
     "metadata": {},
     "output_type": "execute_result"
    }
   ],
   "source": [
    "## Creat a new dataset df_asia which contains data on only Asian countries for all the years\n",
    "\n",
    "df_asia.head()"
   ]
  },
  {
   "cell_type": "markdown",
   "metadata": {},
   "source": [
    "# Data Visualization"
   ]
  },
  {
   "cell_type": "markdown",
   "metadata": {},
   "source": [
    "## 3. Plot a bubble graph of Generosity VS Family, the size should be Economy (GDP per Capita) and diffrent colours for countries"
   ]
  },
  {
   "cell_type": "code",
   "execution_count": 10,
   "metadata": {},
   "outputs": [],
   "source": [
    "## Remember Plotly express\n",
    "## Describe insights"
   ]
  },
  {
   "cell_type": "markdown",
   "metadata": {},
   "source": [
    "## 4. Animated Graph"
   ]
  },
  {
   "cell_type": "code",
   "execution_count": 11,
   "metadata": {},
   "outputs": [
    {
     "data": {
      "application/vnd.plotly.v1+json": {
       "config": {
        "plotlyServerURL": "https://plot.ly"
       },
       "data": [
        {
         "hovertemplate": "Country=Singapore<br>Year=2015<br>Economy (GDP per Capita)=%{marker.size}<br>Generosity=%{y}<extra></extra>",
         "ids": [
          "Singapore"
         ],
         "legendgroup": "Singapore",
         "marker": {
          "color": "#636efa",
          "size": [
           1.52186
          ],
          "sizemode": "area",
          "sizeref": 0.007521234088473867,
          "symbol": "circle"
         },
         "mode": "markers",
         "name": "Singapore",
         "showlegend": true,
         "type": "scatter",
         "x": [
          1.52186
         ],
         "xaxis": "x",
         "y": [
          0.31105
         ],
         "yaxis": "y"
        },
        {
         "hovertemplate": "Country=Thailand<br>Year=2015<br>Economy (GDP per Capita)=%{marker.size}<br>Generosity=%{y}<extra></extra>",
         "ids": [
          "Thailand"
         ],
         "legendgroup": "Thailand",
         "marker": {
          "color": "#EF553B",
          "size": [
           0.9669
          ],
          "sizemode": "area",
          "sizeref": 0.007521234088473867,
          "symbol": "circle"
         },
         "mode": "markers",
         "name": "Thailand",
         "showlegend": true,
         "type": "scatter",
         "x": [
          0.9669
         ],
         "xaxis": "x",
         "y": [
          0.5763
         ],
         "yaxis": "y"
        },
        {
         "hovertemplate": "Country=Malaysia<br>Year=2015<br>Economy (GDP per Capita)=%{marker.size}<br>Generosity=%{y}<extra></extra>",
         "ids": [
          "Malaysia"
         ],
         "legendgroup": "Malaysia",
         "marker": {
          "color": "#00cc96",
          "size": [
           1.12486
          ],
          "sizemode": "area",
          "sizeref": 0.007521234088473867,
          "symbol": "circle"
         },
         "mode": "markers",
         "name": "Malaysia",
         "showlegend": true,
         "type": "scatter",
         "x": [
          1.12486
         ],
         "xaxis": "x",
         "y": [
          0.33075
         ],
         "yaxis": "y"
        },
        {
         "hovertemplate": "Country=Indonesia<br>Year=2015<br>Economy (GDP per Capita)=%{marker.size}<br>Generosity=%{y}<extra></extra>",
         "ids": [
          "Indonesia"
         ],
         "legendgroup": "Indonesia",
         "marker": {
          "color": "#ab63fa",
          "size": [
           0.8282700000000001
          ],
          "sizemode": "area",
          "sizeref": 0.007521234088473867,
          "symbol": "circle"
         },
         "mode": "markers",
         "name": "Indonesia",
         "showlegend": true,
         "type": "scatter",
         "x": [
          0.8282700000000001
         ],
         "xaxis": "x",
         "y": [
          0.51535
         ],
         "yaxis": "y"
        },
        {
         "hovertemplate": "Country=Vietnam<br>Year=2015<br>Economy (GDP per Capita)=%{marker.size}<br>Generosity=%{y}<extra></extra>",
         "ids": [
          "Vietnam"
         ],
         "legendgroup": "Vietnam",
         "marker": {
          "color": "#FFA15A",
          "size": [
           0.63216
          ],
          "sizemode": "area",
          "sizeref": 0.007521234088473867,
          "symbol": "circle"
         },
         "mode": "markers",
         "name": "Vietnam",
         "showlegend": true,
         "type": "scatter",
         "x": [
          0.63216
         ],
         "xaxis": "x",
         "y": [
          0.1686
         ],
         "yaxis": "y"
        },
        {
         "hovertemplate": "Country=Bhutan<br>Year=2015<br>Economy (GDP per Capita)=%{marker.size}<br>Generosity=%{y}<extra></extra>",
         "ids": [
          "Bhutan"
         ],
         "legendgroup": "Bhutan",
         "marker": {
          "color": "#19d3f3",
          "size": [
           0.77042
          ],
          "sizemode": "area",
          "sizeref": 0.007521234088473867,
          "symbol": "circle"
         },
         "mode": "markers",
         "name": "Bhutan",
         "showlegend": true,
         "type": "scatter",
         "x": [
          0.77042
         ],
         "xaxis": "x",
         "y": [
          0.47998
         ],
         "yaxis": "y"
        },
        {
         "hovertemplate": "Country=Pakistan<br>Year=2015<br>Economy (GDP per Capita)=%{marker.size}<br>Generosity=%{y}<extra></extra>",
         "ids": [
          "Pakistan"
         ],
         "legendgroup": "Pakistan",
         "marker": {
          "color": "#FF6692",
          "size": [
           0.59543
          ],
          "sizemode": "area",
          "sizeref": 0.007521234088473867,
          "symbol": "circle"
         },
         "mode": "markers",
         "name": "Pakistan",
         "showlegend": true,
         "type": "scatter",
         "x": [
          0.59543
         ],
         "xaxis": "x",
         "y": [
          0.33671
         ],
         "yaxis": "y"
        },
        {
         "hovertemplate": "Country=Philippines<br>Year=2015<br>Economy (GDP per Capita)=%{marker.size}<br>Generosity=%{y}<extra></extra>",
         "ids": [
          "Philippines"
         ],
         "legendgroup": "Philippines",
         "marker": {
          "color": "#B6E880",
          "size": [
           0.70532
          ],
          "sizemode": "area",
          "sizeref": 0.007521234088473867,
          "symbol": "circle"
         },
         "mode": "markers",
         "name": "Philippines",
         "showlegend": true,
         "type": "scatter",
         "x": [
          0.70532
         ],
         "xaxis": "x",
         "y": [
          0.24991
         ],
         "yaxis": "y"
        },
        {
         "hovertemplate": "Country=Laos<br>Year=2015<br>Economy (GDP per Capita)=%{marker.size}<br>Generosity=%{y}<extra></extra>",
         "ids": [
          "Laos"
         ],
         "legendgroup": "Laos",
         "marker": {
          "color": "#FF97FF",
          "size": [
           0.5906600000000001
          ],
          "sizemode": "area",
          "sizeref": 0.007521234088473867,
          "symbol": "circle"
         },
         "mode": "markers",
         "name": "Laos",
         "showlegend": true,
         "type": "scatter",
         "x": [
          0.5906600000000001
         ],
         "xaxis": "x",
         "y": [
          0.42192
         ],
         "yaxis": "y"
        },
        {
         "hovertemplate": "Country=Bangladesh<br>Year=2015<br>Economy (GDP per Capita)=%{marker.size}<br>Generosity=%{y}<extra></extra>",
         "ids": [
          "Bangladesh"
         ],
         "legendgroup": "Bangladesh",
         "marker": {
          "color": "#FECB52",
          "size": [
           0.39753
          ],
          "sizemode": "area",
          "sizeref": 0.007521234088473867,
          "symbol": "circle"
         },
         "mode": "markers",
         "name": "Bangladesh",
         "showlegend": true,
         "type": "scatter",
         "x": [
          0.39753
         ],
         "xaxis": "x",
         "y": [
          0.21222
         ],
         "yaxis": "y"
        },
        {
         "hovertemplate": "Country=India<br>Year=2015<br>Economy (GDP per Capita)=%{marker.size}<br>Generosity=%{y}<extra></extra>",
         "ids": [
          "India"
         ],
         "legendgroup": "India",
         "marker": {
          "color": "#636efa",
          "size": [
           0.64499
          ],
          "sizemode": "area",
          "sizeref": 0.007521234088473867,
          "symbol": "circle"
         },
         "mode": "markers",
         "name": "India",
         "showlegend": true,
         "type": "scatter",
         "x": [
          0.64499
         ],
         "xaxis": "x",
         "y": [
          0.26475
         ],
         "yaxis": "y"
        },
        {
         "hovertemplate": "Country=Nepal<br>Year=2015<br>Economy (GDP per Capita)=%{marker.size}<br>Generosity=%{y}<extra></extra>",
         "ids": [
          "Nepal"
         ],
         "legendgroup": "Nepal",
         "marker": {
          "color": "#EF553B",
          "size": [
           0.35997
          ],
          "sizemode": "area",
          "sizeref": 0.007521234088473867,
          "symbol": "circle"
         },
         "mode": "markers",
         "name": "Nepal",
         "showlegend": true,
         "type": "scatter",
         "x": [
          0.35997
         ],
         "xaxis": "x",
         "y": [
          0.32296
         ],
         "yaxis": "y"
        },
        {
         "hovertemplate": "Country=Myanmar<br>Year=2015<br>Economy (GDP per Capita)=%{marker.size}<br>Generosity=%{y}<extra></extra>",
         "ids": [
          "Myanmar"
         ],
         "legendgroup": "Myanmar",
         "marker": {
          "color": "#00cc96",
          "size": [
           0.27108000000000004
          ],
          "sizemode": "area",
          "sizeref": 0.007521234088473867,
          "symbol": "circle"
         },
         "mode": "markers",
         "name": "Myanmar",
         "showlegend": true,
         "type": "scatter",
         "x": [
          0.27108000000000004
         ],
         "xaxis": "x",
         "y": [
          0.79588
         ],
         "yaxis": "y"
        },
        {
         "hovertemplate": "Country=Sri Lanka<br>Year=2015<br>Economy (GDP per Capita)=%{marker.size}<br>Generosity=%{y}<extra></extra>",
         "ids": [
          "Sri Lanka"
         ],
         "legendgroup": "Sri Lanka",
         "marker": {
          "color": "#ab63fa",
          "size": [
           0.83524
          ],
          "sizemode": "area",
          "sizeref": 0.007521234088473867,
          "symbol": "circle"
         },
         "mode": "markers",
         "name": "Sri Lanka",
         "showlegend": true,
         "type": "scatter",
         "x": [
          0.83524
         ],
         "xaxis": "x",
         "y": [
          0.40828
         ],
         "yaxis": "y"
        },
        {
         "hovertemplate": "Country=Cambodia<br>Year=2015<br>Economy (GDP per Capita)=%{marker.size}<br>Generosity=%{y}<extra></extra>",
         "ids": [
          "Cambodia"
         ],
         "legendgroup": "Cambodia",
         "marker": {
          "color": "#FFA15A",
          "size": [
           0.46038
          ],
          "sizemode": "area",
          "sizeref": 0.007521234088473867,
          "symbol": "circle"
         },
         "mode": "markers",
         "name": "Cambodia",
         "showlegend": true,
         "type": "scatter",
         "x": [
          0.46038
         ],
         "xaxis": "x",
         "y": [
          0.40359
         ],
         "yaxis": "y"
        },
        {
         "hovertemplate": "Country=Afghanistan<br>Year=2015<br>Economy (GDP per Capita)=%{marker.size}<br>Generosity=%{y}<extra></extra>",
         "ids": [
          "Afghanistan"
         ],
         "legendgroup": "Afghanistan",
         "marker": {
          "color": "#19d3f3",
          "size": [
           0.31982
          ],
          "sizemode": "area",
          "sizeref": 0.007521234088473867,
          "symbol": "circle"
         },
         "mode": "markers",
         "name": "Afghanistan",
         "showlegend": true,
         "type": "scatter",
         "x": [
          0.31982
         ],
         "xaxis": "x",
         "y": [
          0.3651
         ],
         "yaxis": "y"
        }
       ],
       "frames": [
        {
         "data": [
          {
           "hovertemplate": "Country=Singapore<br>Year=2015<br>Economy (GDP per Capita)=%{marker.size}<br>Generosity=%{y}<extra></extra>",
           "ids": [
            "Singapore"
           ],
           "legendgroup": "Singapore",
           "marker": {
            "color": "#636efa",
            "size": [
             1.52186
            ],
            "sizemode": "area",
            "sizeref": 0.007521234088473867,
            "symbol": "circle"
           },
           "mode": "markers",
           "name": "Singapore",
           "showlegend": true,
           "type": "scatter",
           "x": [
            1.52186
           ],
           "xaxis": "x",
           "y": [
            0.31105
           ],
           "yaxis": "y"
          },
          {
           "hovertemplate": "Country=Thailand<br>Year=2015<br>Economy (GDP per Capita)=%{marker.size}<br>Generosity=%{y}<extra></extra>",
           "ids": [
            "Thailand"
           ],
           "legendgroup": "Thailand",
           "marker": {
            "color": "#EF553B",
            "size": [
             0.9669
            ],
            "sizemode": "area",
            "sizeref": 0.007521234088473867,
            "symbol": "circle"
           },
           "mode": "markers",
           "name": "Thailand",
           "showlegend": true,
           "type": "scatter",
           "x": [
            0.9669
           ],
           "xaxis": "x",
           "y": [
            0.5763
           ],
           "yaxis": "y"
          },
          {
           "hovertemplate": "Country=Malaysia<br>Year=2015<br>Economy (GDP per Capita)=%{marker.size}<br>Generosity=%{y}<extra></extra>",
           "ids": [
            "Malaysia"
           ],
           "legendgroup": "Malaysia",
           "marker": {
            "color": "#00cc96",
            "size": [
             1.12486
            ],
            "sizemode": "area",
            "sizeref": 0.007521234088473867,
            "symbol": "circle"
           },
           "mode": "markers",
           "name": "Malaysia",
           "showlegend": true,
           "type": "scatter",
           "x": [
            1.12486
           ],
           "xaxis": "x",
           "y": [
            0.33075
           ],
           "yaxis": "y"
          },
          {
           "hovertemplate": "Country=Indonesia<br>Year=2015<br>Economy (GDP per Capita)=%{marker.size}<br>Generosity=%{y}<extra></extra>",
           "ids": [
            "Indonesia"
           ],
           "legendgroup": "Indonesia",
           "marker": {
            "color": "#ab63fa",
            "size": [
             0.8282700000000001
            ],
            "sizemode": "area",
            "sizeref": 0.007521234088473867,
            "symbol": "circle"
           },
           "mode": "markers",
           "name": "Indonesia",
           "showlegend": true,
           "type": "scatter",
           "x": [
            0.8282700000000001
           ],
           "xaxis": "x",
           "y": [
            0.51535
           ],
           "yaxis": "y"
          },
          {
           "hovertemplate": "Country=Vietnam<br>Year=2015<br>Economy (GDP per Capita)=%{marker.size}<br>Generosity=%{y}<extra></extra>",
           "ids": [
            "Vietnam"
           ],
           "legendgroup": "Vietnam",
           "marker": {
            "color": "#FFA15A",
            "size": [
             0.63216
            ],
            "sizemode": "area",
            "sizeref": 0.007521234088473867,
            "symbol": "circle"
           },
           "mode": "markers",
           "name": "Vietnam",
           "showlegend": true,
           "type": "scatter",
           "x": [
            0.63216
           ],
           "xaxis": "x",
           "y": [
            0.1686
           ],
           "yaxis": "y"
          },
          {
           "hovertemplate": "Country=Bhutan<br>Year=2015<br>Economy (GDP per Capita)=%{marker.size}<br>Generosity=%{y}<extra></extra>",
           "ids": [
            "Bhutan"
           ],
           "legendgroup": "Bhutan",
           "marker": {
            "color": "#19d3f3",
            "size": [
             0.77042
            ],
            "sizemode": "area",
            "sizeref": 0.007521234088473867,
            "symbol": "circle"
           },
           "mode": "markers",
           "name": "Bhutan",
           "showlegend": true,
           "type": "scatter",
           "x": [
            0.77042
           ],
           "xaxis": "x",
           "y": [
            0.47998
           ],
           "yaxis": "y"
          },
          {
           "hovertemplate": "Country=Pakistan<br>Year=2015<br>Economy (GDP per Capita)=%{marker.size}<br>Generosity=%{y}<extra></extra>",
           "ids": [
            "Pakistan"
           ],
           "legendgroup": "Pakistan",
           "marker": {
            "color": "#FF6692",
            "size": [
             0.59543
            ],
            "sizemode": "area",
            "sizeref": 0.007521234088473867,
            "symbol": "circle"
           },
           "mode": "markers",
           "name": "Pakistan",
           "showlegend": true,
           "type": "scatter",
           "x": [
            0.59543
           ],
           "xaxis": "x",
           "y": [
            0.33671
           ],
           "yaxis": "y"
          },
          {
           "hovertemplate": "Country=Philippines<br>Year=2015<br>Economy (GDP per Capita)=%{marker.size}<br>Generosity=%{y}<extra></extra>",
           "ids": [
            "Philippines"
           ],
           "legendgroup": "Philippines",
           "marker": {
            "color": "#B6E880",
            "size": [
             0.70532
            ],
            "sizemode": "area",
            "sizeref": 0.007521234088473867,
            "symbol": "circle"
           },
           "mode": "markers",
           "name": "Philippines",
           "showlegend": true,
           "type": "scatter",
           "x": [
            0.70532
           ],
           "xaxis": "x",
           "y": [
            0.24991
           ],
           "yaxis": "y"
          },
          {
           "hovertemplate": "Country=Laos<br>Year=2015<br>Economy (GDP per Capita)=%{marker.size}<br>Generosity=%{y}<extra></extra>",
           "ids": [
            "Laos"
           ],
           "legendgroup": "Laos",
           "marker": {
            "color": "#FF97FF",
            "size": [
             0.5906600000000001
            ],
            "sizemode": "area",
            "sizeref": 0.007521234088473867,
            "symbol": "circle"
           },
           "mode": "markers",
           "name": "Laos",
           "showlegend": true,
           "type": "scatter",
           "x": [
            0.5906600000000001
           ],
           "xaxis": "x",
           "y": [
            0.42192
           ],
           "yaxis": "y"
          },
          {
           "hovertemplate": "Country=Bangladesh<br>Year=2015<br>Economy (GDP per Capita)=%{marker.size}<br>Generosity=%{y}<extra></extra>",
           "ids": [
            "Bangladesh"
           ],
           "legendgroup": "Bangladesh",
           "marker": {
            "color": "#FECB52",
            "size": [
             0.39753
            ],
            "sizemode": "area",
            "sizeref": 0.007521234088473867,
            "symbol": "circle"
           },
           "mode": "markers",
           "name": "Bangladesh",
           "showlegend": true,
           "type": "scatter",
           "x": [
            0.39753
           ],
           "xaxis": "x",
           "y": [
            0.21222
           ],
           "yaxis": "y"
          },
          {
           "hovertemplate": "Country=India<br>Year=2015<br>Economy (GDP per Capita)=%{marker.size}<br>Generosity=%{y}<extra></extra>",
           "ids": [
            "India"
           ],
           "legendgroup": "India",
           "marker": {
            "color": "#636efa",
            "size": [
             0.64499
            ],
            "sizemode": "area",
            "sizeref": 0.007521234088473867,
            "symbol": "circle"
           },
           "mode": "markers",
           "name": "India",
           "showlegend": true,
           "type": "scatter",
           "x": [
            0.64499
           ],
           "xaxis": "x",
           "y": [
            0.26475
           ],
           "yaxis": "y"
          },
          {
           "hovertemplate": "Country=Nepal<br>Year=2015<br>Economy (GDP per Capita)=%{marker.size}<br>Generosity=%{y}<extra></extra>",
           "ids": [
            "Nepal"
           ],
           "legendgroup": "Nepal",
           "marker": {
            "color": "#EF553B",
            "size": [
             0.35997
            ],
            "sizemode": "area",
            "sizeref": 0.007521234088473867,
            "symbol": "circle"
           },
           "mode": "markers",
           "name": "Nepal",
           "showlegend": true,
           "type": "scatter",
           "x": [
            0.35997
           ],
           "xaxis": "x",
           "y": [
            0.32296
           ],
           "yaxis": "y"
          },
          {
           "hovertemplate": "Country=Myanmar<br>Year=2015<br>Economy (GDP per Capita)=%{marker.size}<br>Generosity=%{y}<extra></extra>",
           "ids": [
            "Myanmar"
           ],
           "legendgroup": "Myanmar",
           "marker": {
            "color": "#00cc96",
            "size": [
             0.27108000000000004
            ],
            "sizemode": "area",
            "sizeref": 0.007521234088473867,
            "symbol": "circle"
           },
           "mode": "markers",
           "name": "Myanmar",
           "showlegend": true,
           "type": "scatter",
           "x": [
            0.27108000000000004
           ],
           "xaxis": "x",
           "y": [
            0.79588
           ],
           "yaxis": "y"
          },
          {
           "hovertemplate": "Country=Sri Lanka<br>Year=2015<br>Economy (GDP per Capita)=%{marker.size}<br>Generosity=%{y}<extra></extra>",
           "ids": [
            "Sri Lanka"
           ],
           "legendgroup": "Sri Lanka",
           "marker": {
            "color": "#ab63fa",
            "size": [
             0.83524
            ],
            "sizemode": "area",
            "sizeref": 0.007521234088473867,
            "symbol": "circle"
           },
           "mode": "markers",
           "name": "Sri Lanka",
           "showlegend": true,
           "type": "scatter",
           "x": [
            0.83524
           ],
           "xaxis": "x",
           "y": [
            0.40828
           ],
           "yaxis": "y"
          },
          {
           "hovertemplate": "Country=Cambodia<br>Year=2015<br>Economy (GDP per Capita)=%{marker.size}<br>Generosity=%{y}<extra></extra>",
           "ids": [
            "Cambodia"
           ],
           "legendgroup": "Cambodia",
           "marker": {
            "color": "#FFA15A",
            "size": [
             0.46038
            ],
            "sizemode": "area",
            "sizeref": 0.007521234088473867,
            "symbol": "circle"
           },
           "mode": "markers",
           "name": "Cambodia",
           "showlegend": true,
           "type": "scatter",
           "x": [
            0.46038
           ],
           "xaxis": "x",
           "y": [
            0.40359
           ],
           "yaxis": "y"
          },
          {
           "hovertemplate": "Country=Afghanistan<br>Year=2015<br>Economy (GDP per Capita)=%{marker.size}<br>Generosity=%{y}<extra></extra>",
           "ids": [
            "Afghanistan"
           ],
           "legendgroup": "Afghanistan",
           "marker": {
            "color": "#19d3f3",
            "size": [
             0.31982
            ],
            "sizemode": "area",
            "sizeref": 0.007521234088473867,
            "symbol": "circle"
           },
           "mode": "markers",
           "name": "Afghanistan",
           "showlegend": true,
           "type": "scatter",
           "x": [
            0.31982
           ],
           "xaxis": "x",
           "y": [
            0.3651
           ],
           "yaxis": "y"
          }
         ],
         "name": "2015"
        },
        {
         "data": [
          {
           "hovertemplate": "Country=Singapore<br>Year=2016<br>Economy (GDP per Capita)=%{marker.size}<br>Generosity=%{y}<extra></extra>",
           "ids": [
            "Singapore"
           ],
           "legendgroup": "Singapore",
           "marker": {
            "color": "#636efa",
            "size": [
             1.64555
            ],
            "sizemode": "area",
            "sizeref": 0.007521234088473867,
            "symbol": "circle"
           },
           "mode": "markers",
           "name": "Singapore",
           "showlegend": true,
           "type": "scatter",
           "x": [
            1.64555
           ],
           "xaxis": "x",
           "y": [
            0.32706
           ],
           "yaxis": "y"
          },
          {
           "hovertemplate": "Country=Thailand<br>Year=2016<br>Economy (GDP per Capita)=%{marker.size}<br>Generosity=%{y}<extra></extra>",
           "ids": [
            "Thailand"
           ],
           "legendgroup": "Thailand",
           "marker": {
            "color": "#EF553B",
            "size": [
             1.0893
            ],
            "sizemode": "area",
            "sizeref": 0.007521234088473867,
            "symbol": "circle"
           },
           "mode": "markers",
           "name": "Thailand",
           "showlegend": true,
           "type": "scatter",
           "x": [
            1.0893
           ],
           "xaxis": "x",
           "y": [
            0.58696
           ],
           "yaxis": "y"
          },
          {
           "hovertemplate": "Country=Malaysia<br>Year=2016<br>Economy (GDP per Capita)=%{marker.size}<br>Generosity=%{y}<extra></extra>",
           "ids": [
            "Malaysia"
           ],
           "legendgroup": "Malaysia",
           "marker": {
            "color": "#00cc96",
            "size": [
             1.25142
            ],
            "sizemode": "area",
            "sizeref": 0.007521234088473867,
            "symbol": "circle"
           },
           "mode": "markers",
           "name": "Malaysia",
           "showlegend": true,
           "type": "scatter",
           "x": [
            1.25142
           ],
           "xaxis": "x",
           "y": [
            0.41474
           ],
           "yaxis": "y"
          },
          {
           "hovertemplate": "Country=Indonesia<br>Year=2016<br>Economy (GDP per Capita)=%{marker.size}<br>Generosity=%{y}<extra></extra>",
           "ids": [
            "Indonesia"
           ],
           "legendgroup": "Indonesia",
           "marker": {
            "color": "#ab63fa",
            "size": [
             0.95104
            ],
            "sizemode": "area",
            "sizeref": 0.007521234088473867,
            "symbol": "circle"
           },
           "mode": "markers",
           "name": "Indonesia",
           "showlegend": true,
           "type": "scatter",
           "x": [
            0.95104
           ],
           "xaxis": "x",
           "y": [
            0.56521
           ],
           "yaxis": "y"
          },
          {
           "hovertemplate": "Country=Vietnam<br>Year=2016<br>Economy (GDP per Capita)=%{marker.size}<br>Generosity=%{y}<extra></extra>",
           "ids": [
            "Vietnam"
           ],
           "legendgroup": "Vietnam",
           "marker": {
            "color": "#FFA15A",
            "size": [
             0.74037
            ],
            "sizemode": "area",
            "sizeref": 0.007521234088473867,
            "symbol": "circle"
           },
           "mode": "markers",
           "name": "Vietnam",
           "showlegend": true,
           "type": "scatter",
           "x": [
            0.74037
           ],
           "xaxis": "x",
           "y": [
            0.25075
           ],
           "yaxis": "y"
          },
          {
           "hovertemplate": "Country=Bhutan<br>Year=2016<br>Economy (GDP per Capita)=%{marker.size}<br>Generosity=%{y}<extra></extra>",
           "ids": [
            "Bhutan"
           ],
           "legendgroup": "Bhutan",
           "marker": {
            "color": "#19d3f3",
            "size": [
             0.8527
            ],
            "sizemode": "area",
            "sizeref": 0.007521234088473867,
            "symbol": "circle"
           },
           "mode": "markers",
           "name": "Bhutan",
           "showlegend": true,
           "type": "scatter",
           "x": [
            0.8527
           ],
           "xaxis": "x",
           "y": [
            0.4854600000000001
           ],
           "yaxis": "y"
          },
          {
           "hovertemplate": "Country=Pakistan<br>Year=2016<br>Economy (GDP per Capita)=%{marker.size}<br>Generosity=%{y}<extra></extra>",
           "ids": [
            "Pakistan"
           ],
           "legendgroup": "Pakistan",
           "marker": {
            "color": "#FF6692",
            "size": [
             0.68816
            ],
            "sizemode": "area",
            "sizeref": 0.007521234088473867,
            "symbol": "circle"
           },
           "mode": "markers",
           "name": "Pakistan",
           "showlegend": true,
           "type": "scatter",
           "x": [
            0.68816
           ],
           "xaxis": "x",
           "y": [
            0.31185
           ],
           "yaxis": "y"
          },
          {
           "hovertemplate": "Country=Philippines<br>Year=2016<br>Economy (GDP per Capita)=%{marker.size}<br>Generosity=%{y}<extra></extra>",
           "ids": [
            "Philippines"
           ],
           "legendgroup": "Philippines",
           "marker": {
            "color": "#B6E880",
            "size": [
             0.81217
            ],
            "sizemode": "area",
            "sizeref": 0.007521234088473867,
            "symbol": "circle"
           },
           "mode": "markers",
           "name": "Philippines",
           "showlegend": true,
           "type": "scatter",
           "x": [
            0.81217
           ],
           "xaxis": "x",
           "y": [
            0.21674
           ],
           "yaxis": "y"
          },
          {
           "hovertemplate": "Country=Laos<br>Year=2016<br>Economy (GDP per Capita)=%{marker.size}<br>Generosity=%{y}<extra></extra>",
           "ids": [
            "Laos"
           ],
           "legendgroup": "Laos",
           "marker": {
            "color": "#FF97FF",
            "size": [
             0.68042
            ],
            "sizemode": "area",
            "sizeref": 0.007521234088473867,
            "symbol": "circle"
           },
           "mode": "markers",
           "name": "Laos",
           "showlegend": true,
           "type": "scatter",
           "x": [
            0.68042
           ],
           "xaxis": "x",
           "y": [
            0.43079
           ],
           "yaxis": "y"
          },
          {
           "hovertemplate": "Country=Bangladesh<br>Year=2016<br>Economy (GDP per Capita)=%{marker.size}<br>Generosity=%{y}<extra></extra>",
           "ids": [
            "Bangladesh"
           ],
           "legendgroup": "Bangladesh",
           "marker": {
            "color": "#FECB52",
            "size": [
             0.54177
            ],
            "sizemode": "area",
            "sizeref": 0.007521234088473867,
            "symbol": "circle"
           },
           "mode": "markers",
           "name": "Bangladesh",
           "showlegend": true,
           "type": "scatter",
           "x": [
            0.54177
           ],
           "xaxis": "x",
           "y": [
            0.19132
           ],
           "yaxis": "y"
          },
          {
           "hovertemplate": "Country=India<br>Year=2016<br>Economy (GDP per Capita)=%{marker.size}<br>Generosity=%{y}<extra></extra>",
           "ids": [
            "India"
           ],
           "legendgroup": "India",
           "marker": {
            "color": "#636efa",
            "size": [
             0.74036
            ],
            "sizemode": "area",
            "sizeref": 0.007521234088473867,
            "symbol": "circle"
           },
           "mode": "markers",
           "name": "India",
           "showlegend": true,
           "type": "scatter",
           "x": [
            0.74036
           ],
           "xaxis": "x",
           "y": [
            0.25028
           ],
           "yaxis": "y"
          },
          {
           "hovertemplate": "Country=Nepal<br>Year=2016<br>Economy (GDP per Capita)=%{marker.size}<br>Generosity=%{y}<extra></extra>",
           "ids": [
            "Nepal"
           ],
           "legendgroup": "Nepal",
           "marker": {
            "color": "#EF553B",
            "size": [
             0.4462600000000001
            ],
            "sizemode": "area",
            "sizeref": 0.007521234088473867,
            "symbol": "circle"
           },
           "mode": "markers",
           "name": "Nepal",
           "showlegend": true,
           "type": "scatter",
           "x": [
            0.4462600000000001
           ],
           "xaxis": "x",
           "y": [
            0.3816
           ],
           "yaxis": "y"
          },
          {
           "hovertemplate": "Country=Myanmar<br>Year=2016<br>Economy (GDP per Capita)=%{marker.size}<br>Generosity=%{y}<extra></extra>",
           "ids": [
            "Myanmar"
           ],
           "legendgroup": "Myanmar",
           "marker": {
            "color": "#00cc96",
            "size": [
             0.34112
            ],
            "sizemode": "area",
            "sizeref": 0.007521234088473867,
            "symbol": "circle"
           },
           "mode": "markers",
           "name": "Myanmar",
           "showlegend": true,
           "type": "scatter",
           "x": [
            0.34112
           ],
           "xaxis": "x",
           "y": [
            0.81971
           ],
           "yaxis": "y"
          },
          {
           "hovertemplate": "Country=Sri Lanka<br>Year=2016<br>Economy (GDP per Capita)=%{marker.size}<br>Generosity=%{y}<extra></extra>",
           "ids": [
            "Sri Lanka"
           ],
           "legendgroup": "Sri Lanka",
           "marker": {
            "color": "#ab63fa",
            "size": [
             0.97318
            ],
            "sizemode": "area",
            "sizeref": 0.007521234088473867,
            "symbol": "circle"
           },
           "mode": "markers",
           "name": "Sri Lanka",
           "showlegend": true,
           "type": "scatter",
           "x": [
            0.97318
           ],
           "xaxis": "x",
           "y": [
            0.46978
           ],
           "yaxis": "y"
          },
          {
           "hovertemplate": "Country=Cambodia<br>Year=2016<br>Economy (GDP per Capita)=%{marker.size}<br>Generosity=%{y}<extra></extra>",
           "ids": [
            "Cambodia"
           ],
           "legendgroup": "Cambodia",
           "marker": {
            "color": "#FFA15A",
            "size": [
             0.55604
            ],
            "sizemode": "area",
            "sizeref": 0.007521234088473867,
            "symbol": "circle"
           },
           "mode": "markers",
           "name": "Cambodia",
           "showlegend": true,
           "type": "scatter",
           "x": [
            0.55604
           ],
           "xaxis": "x",
           "y": [
            0.40339
           ],
           "yaxis": "y"
          },
          {
           "hovertemplate": "Country=Afghanistan<br>Year=2016<br>Economy (GDP per Capita)=%{marker.size}<br>Generosity=%{y}<extra></extra>",
           "ids": [
            "Afghanistan"
           ],
           "legendgroup": "Afghanistan",
           "marker": {
            "color": "#19d3f3",
            "size": [
             0.38227
            ],
            "sizemode": "area",
            "sizeref": 0.007521234088473867,
            "symbol": "circle"
           },
           "mode": "markers",
           "name": "Afghanistan",
           "showlegend": true,
           "type": "scatter",
           "x": [
            0.38227
           ],
           "xaxis": "x",
           "y": [
            0.31268
           ],
           "yaxis": "y"
          }
         ],
         "name": "2016"
        },
        {
         "data": [
          {
           "hovertemplate": "Country=Singapore<br>Year=2017<br>Economy (GDP per Capita)=%{marker.size}<br>Generosity=%{y}<extra></extra>",
           "ids": [
            "Singapore"
           ],
           "legendgroup": "Singapore",
           "marker": {
            "color": "#636efa",
            "size": [
             1.69227766990662
            ],
            "sizemode": "area",
            "sizeref": 0.007521234088473867,
            "symbol": "circle"
           },
           "mode": "markers",
           "name": "Singapore",
           "showlegend": true,
           "type": "scatter",
           "x": [
            1.69227766990662
           ],
           "xaxis": "x",
           "y": [
            0.46430778503418
           ],
           "yaxis": "y"
          },
          {
           "hovertemplate": "Country=Thailand<br>Year=2017<br>Economy (GDP per Capita)=%{marker.size}<br>Generosity=%{y}<extra></extra>",
           "ids": [
            "Thailand"
           ],
           "legendgroup": "Thailand",
           "marker": {
            "color": "#EF553B",
            "size": [
             1.12786877155304
            ],
            "sizemode": "area",
            "sizeref": 0.007521234088473867,
            "symbol": "circle"
           },
           "mode": "markers",
           "name": "Thailand",
           "showlegend": true,
           "type": "scatter",
           "x": [
            1.12786877155304
           ],
           "xaxis": "x",
           "y": [
            0.0316127352416515
           ],
           "yaxis": "y"
          },
          {
           "hovertemplate": "Country=Malaysia<br>Year=2017<br>Economy (GDP per Capita)=%{marker.size}<br>Generosity=%{y}<extra></extra>",
           "ids": [
            "Malaysia"
           ],
           "legendgroup": "Malaysia",
           "marker": {
            "color": "#00cc96",
            "size": [
             1.29121541976929
            ],
            "sizemode": "area",
            "sizeref": 0.007521234088473867,
            "symbol": "circle"
           },
           "mode": "markers",
           "name": "Malaysia",
           "showlegend": true,
           "type": "scatter",
           "x": [
            1.29121541976929
           ],
           "xaxis": "x",
           "y": [
            0.0656007081270218
           ],
           "yaxis": "y"
          },
          {
           "hovertemplate": "Country=Indonesia<br>Year=2017<br>Economy (GDP per Capita)=%{marker.size}<br>Generosity=%{y}<extra></extra>",
           "ids": [
            "Indonesia"
           ],
           "legendgroup": "Indonesia",
           "marker": {
            "color": "#ab63fa",
            "size": [
             0.995538592338562
            ],
            "sizemode": "area",
            "sizeref": 0.007521234088473867,
            "symbol": "circle"
           },
           "mode": "markers",
           "name": "Indonesia",
           "showlegend": true,
           "type": "scatter",
           "x": [
            0.995538592338562
           ],
           "xaxis": "x",
           "y": [
            0.0153171354904771
           ],
           "yaxis": "y"
          },
          {
           "hovertemplate": "Country=Vietnam<br>Year=2017<br>Economy (GDP per Capita)=%{marker.size}<br>Generosity=%{y}<extra></extra>",
           "ids": [
            "Vietnam"
           ],
           "legendgroup": "Vietnam",
           "marker": {
            "color": "#FFA15A",
            "size": [
             0.7885475754737851
            ],
            "sizemode": "area",
            "sizeref": 0.007521234088473867,
            "symbol": "circle"
           },
           "mode": "markers",
           "name": "Vietnam",
           "showlegend": true,
           "type": "scatter",
           "x": [
            0.7885475754737851
           ],
           "xaxis": "x",
           "y": [
            0.0876332372426987
           ],
           "yaxis": "y"
          },
          {
           "hovertemplate": "Country=Bhutan<br>Year=2017<br>Economy (GDP per Capita)=%{marker.size}<br>Generosity=%{y}<extra></extra>",
           "ids": [
            "Bhutan"
           ],
           "legendgroup": "Bhutan",
           "marker": {
            "color": "#19d3f3",
            "size": [
             0.885416388511658
            ],
            "sizemode": "area",
            "sizeref": 0.007521234088473867,
            "symbol": "circle"
           },
           "mode": "markers",
           "name": "Bhutan",
           "showlegend": true,
           "type": "scatter",
           "x": [
            0.885416388511658
           ],
           "xaxis": "x",
           "y": [
            0.17338038980960802
           ],
           "yaxis": "y"
          },
          {
           "hovertemplate": "Country=Pakistan<br>Year=2017<br>Economy (GDP per Capita)=%{marker.size}<br>Generosity=%{y}<extra></extra>",
           "ids": [
            "Pakistan"
           ],
           "legendgroup": "Pakistan",
           "marker": {
            "color": "#FF6692",
            "size": [
             0.7268835306167599
            ],
            "sizemode": "area",
            "sizeref": 0.007521234088473867,
            "symbol": "circle"
           },
           "mode": "markers",
           "name": "Pakistan",
           "showlegend": true,
           "type": "scatter",
           "x": [
            0.7268835306167599
           ],
           "xaxis": "x",
           "y": [
            0.124348066747189
           ],
           "yaxis": "y"
          },
          {
           "hovertemplate": "Country=Philippines<br>Year=2017<br>Economy (GDP per Capita)=%{marker.size}<br>Generosity=%{y}<extra></extra>",
           "ids": [
            "Philippines"
           ],
           "legendgroup": "Philippines",
           "marker": {
            "color": "#B6E880",
            "size": [
             0.85769921541214
            ],
            "sizemode": "area",
            "sizeref": 0.007521234088473867,
            "symbol": "circle"
           },
           "mode": "markers",
           "name": "Philippines",
           "showlegend": true,
           "type": "scatter",
           "x": [
            0.85769921541214
           ],
           "xaxis": "x",
           "y": [
            0.0993318930268288
           ],
           "yaxis": "y"
          },
          {
           "hovertemplate": "Country=Bangladesh<br>Year=2017<br>Economy (GDP per Capita)=%{marker.size}<br>Generosity=%{y}<extra></extra>",
           "ids": [
            "Bangladesh"
           ],
           "legendgroup": "Bangladesh",
           "marker": {
            "color": "#FECB52",
            "size": [
             0.586682975292206
            ],
            "sizemode": "area",
            "sizeref": 0.007521234088473867,
            "symbol": "circle"
           },
           "mode": "markers",
           "name": "Bangladesh",
           "showlegend": true,
           "type": "scatter",
           "x": [
            0.586682975292206
           ],
           "xaxis": "x",
           "y": [
            0.123717859387398
           ],
           "yaxis": "y"
          },
          {
           "hovertemplate": "Country=India<br>Year=2017<br>Economy (GDP per Capita)=%{marker.size}<br>Generosity=%{y}<extra></extra>",
           "ids": [
            "India"
           ],
           "legendgroup": "India",
           "marker": {
            "color": "#636efa",
            "size": [
             0.7922212481498722
            ],
            "sizemode": "area",
            "sizeref": 0.007521234088473867,
            "symbol": "circle"
           },
           "mode": "markers",
           "name": "India",
           "showlegend": true,
           "type": "scatter",
           "x": [
            0.7922212481498722
           ],
           "xaxis": "x",
           "y": [
            0.0922268852591515
           ],
           "yaxis": "y"
          },
          {
           "hovertemplate": "Country=Nepal<br>Year=2017<br>Economy (GDP per Capita)=%{marker.size}<br>Generosity=%{y}<extra></extra>",
           "ids": [
            "Nepal"
           ],
           "legendgroup": "Nepal",
           "marker": {
            "color": "#EF553B",
            "size": [
             0.479820191860199
            ],
            "sizemode": "area",
            "sizeref": 0.007521234088473867,
            "symbol": "circle"
           },
           "mode": "markers",
           "name": "Nepal",
           "showlegend": true,
           "type": "scatter",
           "x": [
            0.479820191860199
           ],
           "xaxis": "x",
           "y": [
            0.0729755461215973
           ],
           "yaxis": "y"
          },
          {
           "hovertemplate": "Country=Myanmar<br>Year=2017<br>Economy (GDP per Capita)=%{marker.size}<br>Generosity=%{y}<extra></extra>",
           "ids": [
            "Myanmar"
           ],
           "legendgroup": "Myanmar",
           "marker": {
            "color": "#00cc96",
            "size": [
             0.36711055040359497
            ],
            "sizemode": "area",
            "sizeref": 0.007521234088473867,
            "symbol": "circle"
           },
           "mode": "markers",
           "name": "Myanmar",
           "showlegend": true,
           "type": "scatter",
           "x": [
            0.36711055040359497
           ],
           "xaxis": "x",
           "y": [
            0.188816204667091
           ],
           "yaxis": "y"
          },
          {
           "hovertemplate": "Country=Sri Lanka<br>Year=2017<br>Economy (GDP per Capita)=%{marker.size}<br>Generosity=%{y}<extra></extra>",
           "ids": [
            "Sri Lanka"
           ],
           "legendgroup": "Sri Lanka",
           "marker": {
            "color": "#ab63fa",
            "size": [
             1.00985014438629
            ],
            "sizemode": "area",
            "sizeref": 0.007521234088473867,
            "symbol": "circle"
           },
           "mode": "markers",
           "name": "Sri Lanka",
           "showlegend": true,
           "type": "scatter",
           "x": [
            1.00985014438629
           ],
           "xaxis": "x",
           "y": [
            0.0736539661884308
           ],
           "yaxis": "y"
          },
          {
           "hovertemplate": "Country=Cambodia<br>Year=2017<br>Economy (GDP per Capita)=%{marker.size}<br>Generosity=%{y}<extra></extra>",
           "ids": [
            "Cambodia"
           ],
           "legendgroup": "Cambodia",
           "marker": {
            "color": "#FFA15A",
            "size": [
             0.6017650961875921
            ],
            "sizemode": "area",
            "sizeref": 0.007521234088473867,
            "symbol": "circle"
           },
           "mode": "markers",
           "name": "Cambodia",
           "showlegend": true,
           "type": "scatter",
           "x": [
            0.6017650961875921
           ],
           "xaxis": "x",
           "y": [
            0.0681059509515762
           ],
           "yaxis": "y"
          },
          {
           "hovertemplate": "Country=Afghanistan<br>Year=2017<br>Economy (GDP per Capita)=%{marker.size}<br>Generosity=%{y}<extra></extra>",
           "ids": [
            "Afghanistan"
           ],
           "legendgroup": "Afghanistan",
           "marker": {
            "color": "#19d3f3",
            "size": [
             0.401477217674255
            ],
            "sizemode": "area",
            "sizeref": 0.007521234088473867,
            "symbol": "circle"
           },
           "mode": "markers",
           "name": "Afghanistan",
           "showlegend": true,
           "type": "scatter",
           "x": [
            0.401477217674255
           ],
           "xaxis": "x",
           "y": [
            0.0611578300595284
           ],
           "yaxis": "y"
          }
         ],
         "name": "2017"
        },
        {
         "data": [
          {
           "hovertemplate": "Country=Singapore<br>Year=2018<br>Economy (GDP per Capita)=%{marker.size}<br>Generosity=%{y}<extra></extra>",
           "ids": [
            "Singapore"
           ],
           "legendgroup": "Singapore",
           "marker": {
            "color": "#636efa",
            "size": [
             1.529
            ],
            "sizemode": "area",
            "sizeref": 0.007521234088473867,
            "symbol": "circle"
           },
           "mode": "markers",
           "name": "Singapore",
           "showlegend": true,
           "type": "scatter",
           "x": [
            1.529
           ],
           "xaxis": "x",
           "y": [
            0.261
           ],
           "yaxis": "y"
          },
          {
           "hovertemplate": "Country=Thailand<br>Year=2018<br>Economy (GDP per Capita)=%{marker.size}<br>Generosity=%{y}<extra></extra>",
           "ids": [
            "Thailand"
           ],
           "legendgroup": "Thailand",
           "marker": {
            "color": "#EF553B",
            "size": [
             1.016
            ],
            "sizemode": "area",
            "sizeref": 0.007521234088473867,
            "symbol": "circle"
           },
           "mode": "markers",
           "name": "Thailand",
           "showlegend": true,
           "type": "scatter",
           "x": [
            1.016
           ],
           "xaxis": "x",
           "y": [
            0.364
           ],
           "yaxis": "y"
          },
          {
           "hovertemplate": "Country=Malaysia<br>Year=2018<br>Economy (GDP per Capita)=%{marker.size}<br>Generosity=%{y}<extra></extra>",
           "ids": [
            "Malaysia"
           ],
           "legendgroup": "Malaysia",
           "marker": {
            "color": "#00cc96",
            "size": [
             1.161
            ],
            "sizemode": "area",
            "sizeref": 0.007521234088473867,
            "symbol": "circle"
           },
           "mode": "markers",
           "name": "Malaysia",
           "showlegend": true,
           "type": "scatter",
           "x": [
            1.161
           ],
           "xaxis": "x",
           "y": [
            0.311
           ],
           "yaxis": "y"
          },
          {
           "hovertemplate": "Country=Indonesia<br>Year=2018<br>Economy (GDP per Capita)=%{marker.size}<br>Generosity=%{y}<extra></extra>",
           "ids": [
            "Indonesia"
           ],
           "legendgroup": "Indonesia",
           "marker": {
            "color": "#ab63fa",
            "size": [
             0.899
            ],
            "sizemode": "area",
            "sizeref": 0.007521234088473867,
            "symbol": "circle"
           },
           "mode": "markers",
           "name": "Indonesia",
           "showlegend": true,
           "type": "scatter",
           "x": [
            0.899
           ],
           "xaxis": "x",
           "y": [
            0.484
           ],
           "yaxis": "y"
          },
          {
           "hovertemplate": "Country=Vietnam<br>Year=2018<br>Economy (GDP per Capita)=%{marker.size}<br>Generosity=%{y}<extra></extra>",
           "ids": [
            "Vietnam"
           ],
           "legendgroup": "Vietnam",
           "marker": {
            "color": "#FFA15A",
            "size": [
             0.715
            ],
            "sizemode": "area",
            "sizeref": 0.007521234088473867,
            "symbol": "circle"
           },
           "mode": "markers",
           "name": "Vietnam",
           "showlegend": true,
           "type": "scatter",
           "x": [
            0.715
           ],
           "xaxis": "x",
           "y": [
            0.177
           ],
           "yaxis": "y"
          },
          {
           "hovertemplate": "Country=Bhutan<br>Year=2018<br>Economy (GDP per Capita)=%{marker.size}<br>Generosity=%{y}<extra></extra>",
           "ids": [
            "Bhutan"
           ],
           "legendgroup": "Bhutan",
           "marker": {
            "color": "#19d3f3",
            "size": [
             0.7959999999999999
            ],
            "sizemode": "area",
            "sizeref": 0.007521234088473867,
            "symbol": "circle"
           },
           "mode": "markers",
           "name": "Bhutan",
           "showlegend": true,
           "type": "scatter",
           "x": [
            0.7959999999999999
           ],
           "xaxis": "x",
           "y": [
            0.364
           ],
           "yaxis": "y"
          },
          {
           "hovertemplate": "Country=Pakistan<br>Year=2018<br>Economy (GDP per Capita)=%{marker.size}<br>Generosity=%{y}<extra></extra>",
           "ids": [
            "Pakistan"
           ],
           "legendgroup": "Pakistan",
           "marker": {
            "color": "#FF6692",
            "size": [
             0.652
            ],
            "sizemode": "area",
            "sizeref": 0.007521234088473867,
            "symbol": "circle"
           },
           "mode": "markers",
           "name": "Pakistan",
           "showlegend": true,
           "type": "scatter",
           "x": [
            0.652
           ],
           "xaxis": "x",
           "y": [
            0.21600000000000005
           ],
           "yaxis": "y"
          },
          {
           "hovertemplate": "Country=Philippines<br>Year=2018<br>Economy (GDP per Capita)=%{marker.size}<br>Generosity=%{y}<extra></extra>",
           "ids": [
            "Philippines"
           ],
           "legendgroup": "Philippines",
           "marker": {
            "color": "#B6E880",
            "size": [
             0.775
            ],
            "sizemode": "area",
            "sizeref": 0.007521234088473867,
            "symbol": "circle"
           },
           "mode": "markers",
           "name": "Philippines",
           "showlegend": true,
           "type": "scatter",
           "x": [
            0.775
           ],
           "xaxis": "x",
           "y": [
            0.12
           ],
           "yaxis": "y"
          },
          {
           "hovertemplate": "Country=Laos<br>Year=2018<br>Economy (GDP per Capita)=%{marker.size}<br>Generosity=%{y}<extra></extra>",
           "ids": [
            "Laos"
           ],
           "legendgroup": "Laos",
           "marker": {
            "color": "#FF97FF",
            "size": [
             0.72
            ],
            "sizemode": "area",
            "sizeref": 0.007521234088473867,
            "symbol": "circle"
           },
           "mode": "markers",
           "name": "Laos",
           "showlegend": true,
           "type": "scatter",
           "x": [
            0.72
           ],
           "xaxis": "x",
           "y": [
            0.23
           ],
           "yaxis": "y"
          },
          {
           "hovertemplate": "Country=Bangladesh<br>Year=2018<br>Economy (GDP per Capita)=%{marker.size}<br>Generosity=%{y}<extra></extra>",
           "ids": [
            "Bangladesh"
           ],
           "legendgroup": "Bangladesh",
           "marker": {
            "color": "#FECB52",
            "size": [
             0.532
            ],
            "sizemode": "area",
            "sizeref": 0.007521234088473867,
            "symbol": "circle"
           },
           "mode": "markers",
           "name": "Bangladesh",
           "showlegend": true,
           "type": "scatter",
           "x": [
            0.532
           ],
           "xaxis": "x",
           "y": [
            0.153
           ],
           "yaxis": "y"
          },
          {
           "hovertemplate": "Country=India<br>Year=2018<br>Economy (GDP per Capita)=%{marker.size}<br>Generosity=%{y}<extra></extra>",
           "ids": [
            "India"
           ],
           "legendgroup": "India",
           "marker": {
            "color": "#636efa",
            "size": [
             0.721
            ],
            "sizemode": "area",
            "sizeref": 0.007521234088473867,
            "symbol": "circle"
           },
           "mode": "markers",
           "name": "India",
           "showlegend": true,
           "type": "scatter",
           "x": [
            0.721
           ],
           "xaxis": "x",
           "y": [
            0.172
           ],
           "yaxis": "y"
          },
          {
           "hovertemplate": "Country=Nepal<br>Year=2018<br>Economy (GDP per Capita)=%{marker.size}<br>Generosity=%{y}<extra></extra>",
           "ids": [
            "Nepal"
           ],
           "legendgroup": "Nepal",
           "marker": {
            "color": "#EF553B",
            "size": [
             0.425
            ],
            "sizemode": "area",
            "sizeref": 0.007521234088473867,
            "symbol": "circle"
           },
           "mode": "markers",
           "name": "Nepal",
           "showlegend": true,
           "type": "scatter",
           "x": [
            0.425
           ],
           "xaxis": "x",
           "y": [
            0.302
           ],
           "yaxis": "y"
          },
          {
           "hovertemplate": "Country=Myanmar<br>Year=2018<br>Economy (GDP per Capita)=%{marker.size}<br>Generosity=%{y}<extra></extra>",
           "ids": [
            "Myanmar"
           ],
           "legendgroup": "Myanmar",
           "marker": {
            "color": "#00cc96",
            "size": [
             0.682
            ],
            "sizemode": "area",
            "sizeref": 0.007521234088473867,
            "symbol": "circle"
           },
           "mode": "markers",
           "name": "Myanmar",
           "showlegend": true,
           "type": "scatter",
           "x": [
            0.682
           ],
           "xaxis": "x",
           "y": [
            0.598
           ],
           "yaxis": "y"
          },
          {
           "hovertemplate": "Country=Sri Lanka<br>Year=2018<br>Economy (GDP per Capita)=%{marker.size}<br>Generosity=%{y}<extra></extra>",
           "ids": [
            "Sri Lanka"
           ],
           "legendgroup": "Sri Lanka",
           "marker": {
            "color": "#ab63fa",
            "size": [
             0.918
            ],
            "sizemode": "area",
            "sizeref": 0.007521234088473867,
            "symbol": "circle"
           },
           "mode": "markers",
           "name": "Sri Lanka",
           "showlegend": true,
           "type": "scatter",
           "x": [
            0.918
           ],
           "xaxis": "x",
           "y": [
            0.307
           ],
           "yaxis": "y"
          },
          {
           "hovertemplate": "Country=Cambodia<br>Year=2018<br>Economy (GDP per Capita)=%{marker.size}<br>Generosity=%{y}<extra></extra>",
           "ids": [
            "Cambodia"
           ],
           "legendgroup": "Cambodia",
           "marker": {
            "color": "#FFA15A",
            "size": [
             0.5489999999999999
            ],
            "sizemode": "area",
            "sizeref": 0.007521234088473867,
            "symbol": "circle"
           },
           "mode": "markers",
           "name": "Cambodia",
           "showlegend": true,
           "type": "scatter",
           "x": [
            0.5489999999999999
           ],
           "xaxis": "x",
           "y": [
            0.256
           ],
           "yaxis": "y"
          },
          {
           "hovertemplate": "Country=Afghanistan<br>Year=2018<br>Economy (GDP per Capita)=%{marker.size}<br>Generosity=%{y}<extra></extra>",
           "ids": [
            "Afghanistan"
           ],
           "legendgroup": "Afghanistan",
           "marker": {
            "color": "#19d3f3",
            "size": [
             0.332
            ],
            "sizemode": "area",
            "sizeref": 0.007521234088473867,
            "symbol": "circle"
           },
           "mode": "markers",
           "name": "Afghanistan",
           "showlegend": true,
           "type": "scatter",
           "x": [
            0.332
           ],
           "xaxis": "x",
           "y": [
            0.191
           ],
           "yaxis": "y"
          }
         ],
         "name": "2018"
        },
        {
         "data": [
          {
           "hovertemplate": "Country=Singapore<br>Year=2019<br>Economy (GDP per Capita)=%{marker.size}<br>Generosity=%{y}<extra></extra>",
           "ids": [
            "Singapore"
           ],
           "legendgroup": "Singapore",
           "marker": {
            "color": "#636efa",
            "size": [
             1.5719999999999998
            ],
            "sizemode": "area",
            "sizeref": 0.007521234088473867,
            "symbol": "circle"
           },
           "mode": "markers",
           "name": "Singapore",
           "showlegend": true,
           "type": "scatter",
           "x": [
            1.5719999999999998
           ],
           "xaxis": "x",
           "y": [
            0.271
           ],
           "yaxis": "y"
          },
          {
           "hovertemplate": "Country=Thailand<br>Year=2019<br>Economy (GDP per Capita)=%{marker.size}<br>Generosity=%{y}<extra></extra>",
           "ids": [
            "Thailand"
           ],
           "legendgroup": "Thailand",
           "marker": {
            "color": "#EF553B",
            "size": [
             1.05
            ],
            "sizemode": "area",
            "sizeref": 0.007521234088473867,
            "symbol": "circle"
           },
           "mode": "markers",
           "name": "Thailand",
           "showlegend": true,
           "type": "scatter",
           "x": [
            1.05
           ],
           "xaxis": "x",
           "y": [
            0.359
           ],
           "yaxis": "y"
          },
          {
           "hovertemplate": "Country=Malaysia<br>Year=2019<br>Economy (GDP per Capita)=%{marker.size}<br>Generosity=%{y}<extra></extra>",
           "ids": [
            "Malaysia"
           ],
           "legendgroup": "Malaysia",
           "marker": {
            "color": "#00cc96",
            "size": [
             1.221
            ],
            "sizemode": "area",
            "sizeref": 0.007521234088473867,
            "symbol": "circle"
           },
           "mode": "markers",
           "name": "Malaysia",
           "showlegend": true,
           "type": "scatter",
           "x": [
            1.221
           ],
           "xaxis": "x",
           "y": [
            0.26
           ],
           "yaxis": "y"
          },
          {
           "hovertemplate": "Country=Indonesia<br>Year=2019<br>Economy (GDP per Capita)=%{marker.size}<br>Generosity=%{y}<extra></extra>",
           "ids": [
            "Indonesia"
           ],
           "legendgroup": "Indonesia",
           "marker": {
            "color": "#ab63fa",
            "size": [
             0.931
            ],
            "sizemode": "area",
            "sizeref": 0.007521234088473867,
            "symbol": "circle"
           },
           "mode": "markers",
           "name": "Indonesia",
           "showlegend": true,
           "type": "scatter",
           "x": [
            0.931
           ],
           "xaxis": "x",
           "y": [
            0.498
           ],
           "yaxis": "y"
          },
          {
           "hovertemplate": "Country=Vietnam<br>Year=2019<br>Economy (GDP per Capita)=%{marker.size}<br>Generosity=%{y}<extra></extra>",
           "ids": [
            "Vietnam"
           ],
           "legendgroup": "Vietnam",
           "marker": {
            "color": "#FFA15A",
            "size": [
             0.741
            ],
            "sizemode": "area",
            "sizeref": 0.007521234088473867,
            "symbol": "circle"
           },
           "mode": "markers",
           "name": "Vietnam",
           "showlegend": true,
           "type": "scatter",
           "x": [
            0.741
           ],
           "xaxis": "x",
           "y": [
            0.147
           ],
           "yaxis": "y"
          },
          {
           "hovertemplate": "Country=Bhutan<br>Year=2019<br>Economy (GDP per Capita)=%{marker.size}<br>Generosity=%{y}<extra></extra>",
           "ids": [
            "Bhutan"
           ],
           "legendgroup": "Bhutan",
           "marker": {
            "color": "#19d3f3",
            "size": [
             0.813
            ],
            "sizemode": "area",
            "sizeref": 0.007521234088473867,
            "symbol": "circle"
           },
           "mode": "markers",
           "name": "Bhutan",
           "showlegend": true,
           "type": "scatter",
           "x": [
            0.813
           ],
           "xaxis": "x",
           "y": [
            0.37
           ],
           "yaxis": "y"
          },
          {
           "hovertemplate": "Country=Pakistan<br>Year=2019<br>Economy (GDP per Capita)=%{marker.size}<br>Generosity=%{y}<extra></extra>",
           "ids": [
            "Pakistan"
           ],
           "legendgroup": "Pakistan",
           "marker": {
            "color": "#FF6692",
            "size": [
             0.677
            ],
            "sizemode": "area",
            "sizeref": 0.007521234088473867,
            "symbol": "circle"
           },
           "mode": "markers",
           "name": "Pakistan",
           "showlegend": true,
           "type": "scatter",
           "x": [
            0.677
           ],
           "xaxis": "x",
           "y": [
            0.22
           ],
           "yaxis": "y"
          },
          {
           "hovertemplate": "Country=Philippines<br>Year=2019<br>Economy (GDP per Capita)=%{marker.size}<br>Generosity=%{y}<extra></extra>",
           "ids": [
            "Philippines"
           ],
           "legendgroup": "Philippines",
           "marker": {
            "color": "#B6E880",
            "size": [
             0.807
            ],
            "sizemode": "area",
            "sizeref": 0.007521234088473867,
            "symbol": "circle"
           },
           "mode": "markers",
           "name": "Philippines",
           "showlegend": true,
           "type": "scatter",
           "x": [
            0.807
           ],
           "xaxis": "x",
           "y": [
            0.117
           ],
           "yaxis": "y"
          },
          {
           "hovertemplate": "Country=Laos<br>Year=2019<br>Economy (GDP per Capita)=%{marker.size}<br>Generosity=%{y}<extra></extra>",
           "ids": [
            "Laos"
           ],
           "legendgroup": "Laos",
           "marker": {
            "color": "#FF97FF",
            "size": [
             0.764
            ],
            "sizemode": "area",
            "sizeref": 0.007521234088473867,
            "symbol": "circle"
           },
           "mode": "markers",
           "name": "Laos",
           "showlegend": true,
           "type": "scatter",
           "x": [
            0.764
           ],
           "xaxis": "x",
           "y": [
            0.266
           ],
           "yaxis": "y"
          },
          {
           "hovertemplate": "Country=Bangladesh<br>Year=2019<br>Economy (GDP per Capita)=%{marker.size}<br>Generosity=%{y}<extra></extra>",
           "ids": [
            "Bangladesh"
           ],
           "legendgroup": "Bangladesh",
           "marker": {
            "color": "#FECB52",
            "size": [
             0.562
            ],
            "sizemode": "area",
            "sizeref": 0.007521234088473867,
            "symbol": "circle"
           },
           "mode": "markers",
           "name": "Bangladesh",
           "showlegend": true,
           "type": "scatter",
           "x": [
            0.562
           ],
           "xaxis": "x",
           "y": [
            0.166
           ],
           "yaxis": "y"
          },
          {
           "hovertemplate": "Country=India<br>Year=2019<br>Economy (GDP per Capita)=%{marker.size}<br>Generosity=%{y}<extra></extra>",
           "ids": [
            "India"
           ],
           "legendgroup": "India",
           "marker": {
            "color": "#636efa",
            "size": [
             0.755
            ],
            "sizemode": "area",
            "sizeref": 0.007521234088473867,
            "symbol": "circle"
           },
           "mode": "markers",
           "name": "India",
           "showlegend": true,
           "type": "scatter",
           "x": [
            0.755
           ],
           "xaxis": "x",
           "y": [
            0.2
           ],
           "yaxis": "y"
          },
          {
           "hovertemplate": "Country=Nepal<br>Year=2019<br>Economy (GDP per Capita)=%{marker.size}<br>Generosity=%{y}<extra></extra>",
           "ids": [
            "Nepal"
           ],
           "legendgroup": "Nepal",
           "marker": {
            "color": "#EF553B",
            "size": [
             0.446
            ],
            "sizemode": "area",
            "sizeref": 0.007521234088473867,
            "symbol": "circle"
           },
           "mode": "markers",
           "name": "Nepal",
           "showlegend": true,
           "type": "scatter",
           "x": [
            0.446
           ],
           "xaxis": "x",
           "y": [
            0.285
           ],
           "yaxis": "y"
          },
          {
           "hovertemplate": "Country=Myanmar<br>Year=2019<br>Economy (GDP per Capita)=%{marker.size}<br>Generosity=%{y}<extra></extra>",
           "ids": [
            "Myanmar"
           ],
           "legendgroup": "Myanmar",
           "marker": {
            "color": "#00cc96",
            "size": [
             0.71
            ],
            "sizemode": "area",
            "sizeref": 0.007521234088473867,
            "symbol": "circle"
           },
           "mode": "markers",
           "name": "Myanmar",
           "showlegend": true,
           "type": "scatter",
           "x": [
            0.71
           ],
           "xaxis": "x",
           "y": [
            0.5660000000000001
           ],
           "yaxis": "y"
          },
          {
           "hovertemplate": "Country=Sri Lanka<br>Year=2019<br>Economy (GDP per Capita)=%{marker.size}<br>Generosity=%{y}<extra></extra>",
           "ids": [
            "Sri Lanka"
           ],
           "legendgroup": "Sri Lanka",
           "marker": {
            "color": "#ab63fa",
            "size": [
             0.949
            ],
            "sizemode": "area",
            "sizeref": 0.007521234088473867,
            "symbol": "circle"
           },
           "mode": "markers",
           "name": "Sri Lanka",
           "showlegend": true,
           "type": "scatter",
           "x": [
            0.949
           ],
           "xaxis": "x",
           "y": [
            0.244
           ],
           "yaxis": "y"
          },
          {
           "hovertemplate": "Country=Cambodia<br>Year=2019<br>Economy (GDP per Capita)=%{marker.size}<br>Generosity=%{y}<extra></extra>",
           "ids": [
            "Cambodia"
           ],
           "legendgroup": "Cambodia",
           "marker": {
            "color": "#FFA15A",
            "size": [
             0.574
            ],
            "sizemode": "area",
            "sizeref": 0.007521234088473867,
            "symbol": "circle"
           },
           "mode": "markers",
           "name": "Cambodia",
           "showlegend": true,
           "type": "scatter",
           "x": [
            0.574
           ],
           "xaxis": "x",
           "y": [
            0.232
           ],
           "yaxis": "y"
          },
          {
           "hovertemplate": "Country=Afghanistan<br>Year=2019<br>Economy (GDP per Capita)=%{marker.size}<br>Generosity=%{y}<extra></extra>",
           "ids": [
            "Afghanistan"
           ],
           "legendgroup": "Afghanistan",
           "marker": {
            "color": "#19d3f3",
            "size": [
             0.35
            ],
            "sizemode": "area",
            "sizeref": 0.007521234088473867,
            "symbol": "circle"
           },
           "mode": "markers",
           "name": "Afghanistan",
           "showlegend": true,
           "type": "scatter",
           "x": [
            0.35
           ],
           "xaxis": "x",
           "y": [
            0.158
           ],
           "yaxis": "y"
          }
         ],
         "name": "2019"
        }
       ],
       "layout": {
        "height": 600,
        "legend": {
         "itemsizing": "constant",
         "title": {
          "text": "Country"
         },
         "tracegroupgap": 0
        },
        "margin": {
         "t": 60
        },
        "sliders": [
         {
          "active": 0,
          "currentvalue": {
           "prefix": "Year="
          },
          "len": 0.9,
          "pad": {
           "b": 10,
           "t": 60
          },
          "steps": [
           {
            "args": [
             [
              "2015"
             ],
             {
              "frame": {
               "duration": 0,
               "redraw": false
              },
              "fromcurrent": true,
              "mode": "immediate",
              "transition": {
               "duration": 0,
               "easing": "linear"
              }
             }
            ],
            "label": "2015",
            "method": "animate"
           },
           {
            "args": [
             [
              "2016"
             ],
             {
              "frame": {
               "duration": 0,
               "redraw": false
              },
              "fromcurrent": true,
              "mode": "immediate",
              "transition": {
               "duration": 0,
               "easing": "linear"
              }
             }
            ],
            "label": "2016",
            "method": "animate"
           },
           {
            "args": [
             [
              "2017"
             ],
             {
              "frame": {
               "duration": 0,
               "redraw": false
              },
              "fromcurrent": true,
              "mode": "immediate",
              "transition": {
               "duration": 0,
               "easing": "linear"
              }
             }
            ],
            "label": "2017",
            "method": "animate"
           },
           {
            "args": [
             [
              "2018"
             ],
             {
              "frame": {
               "duration": 0,
               "redraw": false
              },
              "fromcurrent": true,
              "mode": "immediate",
              "transition": {
               "duration": 0,
               "easing": "linear"
              }
             }
            ],
            "label": "2018",
            "method": "animate"
           },
           {
            "args": [
             [
              "2019"
             ],
             {
              "frame": {
               "duration": 0,
               "redraw": false
              },
              "fromcurrent": true,
              "mode": "immediate",
              "transition": {
               "duration": 0,
               "easing": "linear"
              }
             }
            ],
            "label": "2019",
            "method": "animate"
           }
          ],
          "x": 0.1,
          "xanchor": "left",
          "y": 0,
          "yanchor": "top"
         }
        ],
        "template": {
         "data": {
          "bar": [
           {
            "error_x": {
             "color": "#2a3f5f"
            },
            "error_y": {
             "color": "#2a3f5f"
            },
            "marker": {
             "line": {
              "color": "#E5ECF6",
              "width": 0.5
             }
            },
            "type": "bar"
           }
          ],
          "barpolar": [
           {
            "marker": {
             "line": {
              "color": "#E5ECF6",
              "width": 0.5
             }
            },
            "type": "barpolar"
           }
          ],
          "carpet": [
           {
            "aaxis": {
             "endlinecolor": "#2a3f5f",
             "gridcolor": "white",
             "linecolor": "white",
             "minorgridcolor": "white",
             "startlinecolor": "#2a3f5f"
            },
            "baxis": {
             "endlinecolor": "#2a3f5f",
             "gridcolor": "white",
             "linecolor": "white",
             "minorgridcolor": "white",
             "startlinecolor": "#2a3f5f"
            },
            "type": "carpet"
           }
          ],
          "choropleth": [
           {
            "colorbar": {
             "outlinewidth": 0,
             "ticks": ""
            },
            "type": "choropleth"
           }
          ],
          "contour": [
           {
            "colorbar": {
             "outlinewidth": 0,
             "ticks": ""
            },
            "colorscale": [
             [
              0,
              "#0d0887"
             ],
             [
              0.1111111111111111,
              "#46039f"
             ],
             [
              0.2222222222222222,
              "#7201a8"
             ],
             [
              0.3333333333333333,
              "#9c179e"
             ],
             [
              0.4444444444444444,
              "#bd3786"
             ],
             [
              0.5555555555555556,
              "#d8576b"
             ],
             [
              0.6666666666666666,
              "#ed7953"
             ],
             [
              0.7777777777777778,
              "#fb9f3a"
             ],
             [
              0.8888888888888888,
              "#fdca26"
             ],
             [
              1,
              "#f0f921"
             ]
            ],
            "type": "contour"
           }
          ],
          "contourcarpet": [
           {
            "colorbar": {
             "outlinewidth": 0,
             "ticks": ""
            },
            "type": "contourcarpet"
           }
          ],
          "heatmap": [
           {
            "colorbar": {
             "outlinewidth": 0,
             "ticks": ""
            },
            "colorscale": [
             [
              0,
              "#0d0887"
             ],
             [
              0.1111111111111111,
              "#46039f"
             ],
             [
              0.2222222222222222,
              "#7201a8"
             ],
             [
              0.3333333333333333,
              "#9c179e"
             ],
             [
              0.4444444444444444,
              "#bd3786"
             ],
             [
              0.5555555555555556,
              "#d8576b"
             ],
             [
              0.6666666666666666,
              "#ed7953"
             ],
             [
              0.7777777777777778,
              "#fb9f3a"
             ],
             [
              0.8888888888888888,
              "#fdca26"
             ],
             [
              1,
              "#f0f921"
             ]
            ],
            "type": "heatmap"
           }
          ],
          "heatmapgl": [
           {
            "colorbar": {
             "outlinewidth": 0,
             "ticks": ""
            },
            "colorscale": [
             [
              0,
              "#0d0887"
             ],
             [
              0.1111111111111111,
              "#46039f"
             ],
             [
              0.2222222222222222,
              "#7201a8"
             ],
             [
              0.3333333333333333,
              "#9c179e"
             ],
             [
              0.4444444444444444,
              "#bd3786"
             ],
             [
              0.5555555555555556,
              "#d8576b"
             ],
             [
              0.6666666666666666,
              "#ed7953"
             ],
             [
              0.7777777777777778,
              "#fb9f3a"
             ],
             [
              0.8888888888888888,
              "#fdca26"
             ],
             [
              1,
              "#f0f921"
             ]
            ],
            "type": "heatmapgl"
           }
          ],
          "histogram": [
           {
            "marker": {
             "colorbar": {
              "outlinewidth": 0,
              "ticks": ""
             }
            },
            "type": "histogram"
           }
          ],
          "histogram2d": [
           {
            "colorbar": {
             "outlinewidth": 0,
             "ticks": ""
            },
            "colorscale": [
             [
              0,
              "#0d0887"
             ],
             [
              0.1111111111111111,
              "#46039f"
             ],
             [
              0.2222222222222222,
              "#7201a8"
             ],
             [
              0.3333333333333333,
              "#9c179e"
             ],
             [
              0.4444444444444444,
              "#bd3786"
             ],
             [
              0.5555555555555556,
              "#d8576b"
             ],
             [
              0.6666666666666666,
              "#ed7953"
             ],
             [
              0.7777777777777778,
              "#fb9f3a"
             ],
             [
              0.8888888888888888,
              "#fdca26"
             ],
             [
              1,
              "#f0f921"
             ]
            ],
            "type": "histogram2d"
           }
          ],
          "histogram2dcontour": [
           {
            "colorbar": {
             "outlinewidth": 0,
             "ticks": ""
            },
            "colorscale": [
             [
              0,
              "#0d0887"
             ],
             [
              0.1111111111111111,
              "#46039f"
             ],
             [
              0.2222222222222222,
              "#7201a8"
             ],
             [
              0.3333333333333333,
              "#9c179e"
             ],
             [
              0.4444444444444444,
              "#bd3786"
             ],
             [
              0.5555555555555556,
              "#d8576b"
             ],
             [
              0.6666666666666666,
              "#ed7953"
             ],
             [
              0.7777777777777778,
              "#fb9f3a"
             ],
             [
              0.8888888888888888,
              "#fdca26"
             ],
             [
              1,
              "#f0f921"
             ]
            ],
            "type": "histogram2dcontour"
           }
          ],
          "mesh3d": [
           {
            "colorbar": {
             "outlinewidth": 0,
             "ticks": ""
            },
            "type": "mesh3d"
           }
          ],
          "parcoords": [
           {
            "line": {
             "colorbar": {
              "outlinewidth": 0,
              "ticks": ""
             }
            },
            "type": "parcoords"
           }
          ],
          "pie": [
           {
            "automargin": true,
            "type": "pie"
           }
          ],
          "scatter": [
           {
            "marker": {
             "colorbar": {
              "outlinewidth": 0,
              "ticks": ""
             }
            },
            "type": "scatter"
           }
          ],
          "scatter3d": [
           {
            "line": {
             "colorbar": {
              "outlinewidth": 0,
              "ticks": ""
             }
            },
            "marker": {
             "colorbar": {
              "outlinewidth": 0,
              "ticks": ""
             }
            },
            "type": "scatter3d"
           }
          ],
          "scattercarpet": [
           {
            "marker": {
             "colorbar": {
              "outlinewidth": 0,
              "ticks": ""
             }
            },
            "type": "scattercarpet"
           }
          ],
          "scattergeo": [
           {
            "marker": {
             "colorbar": {
              "outlinewidth": 0,
              "ticks": ""
             }
            },
            "type": "scattergeo"
           }
          ],
          "scattergl": [
           {
            "marker": {
             "colorbar": {
              "outlinewidth": 0,
              "ticks": ""
             }
            },
            "type": "scattergl"
           }
          ],
          "scattermapbox": [
           {
            "marker": {
             "colorbar": {
              "outlinewidth": 0,
              "ticks": ""
             }
            },
            "type": "scattermapbox"
           }
          ],
          "scatterpolar": [
           {
            "marker": {
             "colorbar": {
              "outlinewidth": 0,
              "ticks": ""
             }
            },
            "type": "scatterpolar"
           }
          ],
          "scatterpolargl": [
           {
            "marker": {
             "colorbar": {
              "outlinewidth": 0,
              "ticks": ""
             }
            },
            "type": "scatterpolargl"
           }
          ],
          "scatterternary": [
           {
            "marker": {
             "colorbar": {
              "outlinewidth": 0,
              "ticks": ""
             }
            },
            "type": "scatterternary"
           }
          ],
          "surface": [
           {
            "colorbar": {
             "outlinewidth": 0,
             "ticks": ""
            },
            "colorscale": [
             [
              0,
              "#0d0887"
             ],
             [
              0.1111111111111111,
              "#46039f"
             ],
             [
              0.2222222222222222,
              "#7201a8"
             ],
             [
              0.3333333333333333,
              "#9c179e"
             ],
             [
              0.4444444444444444,
              "#bd3786"
             ],
             [
              0.5555555555555556,
              "#d8576b"
             ],
             [
              0.6666666666666666,
              "#ed7953"
             ],
             [
              0.7777777777777778,
              "#fb9f3a"
             ],
             [
              0.8888888888888888,
              "#fdca26"
             ],
             [
              1,
              "#f0f921"
             ]
            ],
            "type": "surface"
           }
          ],
          "table": [
           {
            "cells": {
             "fill": {
              "color": "#EBF0F8"
             },
             "line": {
              "color": "white"
             }
            },
            "header": {
             "fill": {
              "color": "#C8D4E3"
             },
             "line": {
              "color": "white"
             }
            },
            "type": "table"
           }
          ]
         },
         "layout": {
          "annotationdefaults": {
           "arrowcolor": "#2a3f5f",
           "arrowhead": 0,
           "arrowwidth": 1
          },
          "coloraxis": {
           "colorbar": {
            "outlinewidth": 0,
            "ticks": ""
           }
          },
          "colorscale": {
           "diverging": [
            [
             0,
             "#8e0152"
            ],
            [
             0.1,
             "#c51b7d"
            ],
            [
             0.2,
             "#de77ae"
            ],
            [
             0.3,
             "#f1b6da"
            ],
            [
             0.4,
             "#fde0ef"
            ],
            [
             0.5,
             "#f7f7f7"
            ],
            [
             0.6,
             "#e6f5d0"
            ],
            [
             0.7,
             "#b8e186"
            ],
            [
             0.8,
             "#7fbc41"
            ],
            [
             0.9,
             "#4d9221"
            ],
            [
             1,
             "#276419"
            ]
           ],
           "sequential": [
            [
             0,
             "#0d0887"
            ],
            [
             0.1111111111111111,
             "#46039f"
            ],
            [
             0.2222222222222222,
             "#7201a8"
            ],
            [
             0.3333333333333333,
             "#9c179e"
            ],
            [
             0.4444444444444444,
             "#bd3786"
            ],
            [
             0.5555555555555556,
             "#d8576b"
            ],
            [
             0.6666666666666666,
             "#ed7953"
            ],
            [
             0.7777777777777778,
             "#fb9f3a"
            ],
            [
             0.8888888888888888,
             "#fdca26"
            ],
            [
             1,
             "#f0f921"
            ]
           ],
           "sequentialminus": [
            [
             0,
             "#0d0887"
            ],
            [
             0.1111111111111111,
             "#46039f"
            ],
            [
             0.2222222222222222,
             "#7201a8"
            ],
            [
             0.3333333333333333,
             "#9c179e"
            ],
            [
             0.4444444444444444,
             "#bd3786"
            ],
            [
             0.5555555555555556,
             "#d8576b"
            ],
            [
             0.6666666666666666,
             "#ed7953"
            ],
            [
             0.7777777777777778,
             "#fb9f3a"
            ],
            [
             0.8888888888888888,
             "#fdca26"
            ],
            [
             1,
             "#f0f921"
            ]
           ]
          },
          "colorway": [
           "#636efa",
           "#EF553B",
           "#00cc96",
           "#ab63fa",
           "#FFA15A",
           "#19d3f3",
           "#FF6692",
           "#B6E880",
           "#FF97FF",
           "#FECB52"
          ],
          "font": {
           "color": "#2a3f5f"
          },
          "geo": {
           "bgcolor": "white",
           "lakecolor": "white",
           "landcolor": "#E5ECF6",
           "showlakes": true,
           "showland": true,
           "subunitcolor": "white"
          },
          "hoverlabel": {
           "align": "left"
          },
          "hovermode": "closest",
          "mapbox": {
           "style": "light"
          },
          "paper_bgcolor": "white",
          "plot_bgcolor": "#E5ECF6",
          "polar": {
           "angularaxis": {
            "gridcolor": "white",
            "linecolor": "white",
            "ticks": ""
           },
           "bgcolor": "#E5ECF6",
           "radialaxis": {
            "gridcolor": "white",
            "linecolor": "white",
            "ticks": ""
           }
          },
          "scene": {
           "xaxis": {
            "backgroundcolor": "#E5ECF6",
            "gridcolor": "white",
            "gridwidth": 2,
            "linecolor": "white",
            "showbackground": true,
            "ticks": "",
            "zerolinecolor": "white"
           },
           "yaxis": {
            "backgroundcolor": "#E5ECF6",
            "gridcolor": "white",
            "gridwidth": 2,
            "linecolor": "white",
            "showbackground": true,
            "ticks": "",
            "zerolinecolor": "white"
           },
           "zaxis": {
            "backgroundcolor": "#E5ECF6",
            "gridcolor": "white",
            "gridwidth": 2,
            "linecolor": "white",
            "showbackground": true,
            "ticks": "",
            "zerolinecolor": "white"
           }
          },
          "shapedefaults": {
           "line": {
            "color": "#2a3f5f"
           }
          },
          "ternary": {
           "aaxis": {
            "gridcolor": "white",
            "linecolor": "white",
            "ticks": ""
           },
           "baxis": {
            "gridcolor": "white",
            "linecolor": "white",
            "ticks": ""
           },
           "bgcolor": "#E5ECF6",
           "caxis": {
            "gridcolor": "white",
            "linecolor": "white",
            "ticks": ""
           }
          },
          "title": {
           "x": 0.05
          },
          "xaxis": {
           "automargin": true,
           "gridcolor": "white",
           "linecolor": "white",
           "ticks": "",
           "title": {
            "standoff": 15
           },
           "zerolinecolor": "white",
           "zerolinewidth": 2
          },
          "yaxis": {
           "automargin": true,
           "gridcolor": "white",
           "linecolor": "white",
           "ticks": "",
           "title": {
            "standoff": 15
           },
           "zerolinecolor": "white",
           "zerolinewidth": 2
          }
         }
        },
        "updatemenus": [
         {
          "buttons": [
           {
            "args": [
             null,
             {
              "frame": {
               "duration": 500,
               "redraw": false
              },
              "fromcurrent": true,
              "mode": "immediate",
              "transition": {
               "duration": 500,
               "easing": "linear"
              }
             }
            ],
            "label": "&#9654;",
            "method": "animate"
           },
           {
            "args": [
             [
              null
             ],
             {
              "frame": {
               "duration": 0,
               "redraw": false
              },
              "fromcurrent": true,
              "mode": "immediate",
              "transition": {
               "duration": 0,
               "easing": "linear"
              }
             }
            ],
            "label": "&#9724;",
            "method": "animate"
           }
          ],
          "direction": "left",
          "pad": {
           "r": 10,
           "t": 70
          },
          "showactive": false,
          "type": "buttons",
          "x": 0.1,
          "xanchor": "right",
          "y": 0,
          "yanchor": "top"
         }
        ],
        "xaxis": {
         "anchor": "y",
         "domain": [
          0,
          1
         ],
         "range": [
          -0.5,
          1.338075160980225
         ],
         "title": {
          "text": "Economy (GDP per Capita)"
         }
        },
        "yaxis": {
         "anchor": "x",
         "domain": [
          0,
          1
         ],
         "range": [
          -0.5,
          1.16246
         ],
         "title": {
          "text": "Generosity"
         }
        }
       }
      },
      "text/html": [
       "<div>\n",
       "        \n",
       "        \n",
       "            <div id=\"c25d8365-a10d-40d0-b740-8efd3353d1b4\" class=\"plotly-graph-div\" style=\"height:600px; width:100%;\"></div>\n",
       "            <script type=\"text/javascript\">\n",
       "                require([\"plotly\"], function(Plotly) {\n",
       "                    window.PLOTLYENV=window.PLOTLYENV || {};\n",
       "                    \n",
       "                if (document.getElementById(\"c25d8365-a10d-40d0-b740-8efd3353d1b4\")) {\n",
       "                    Plotly.newPlot(\n",
       "                        'c25d8365-a10d-40d0-b740-8efd3353d1b4',\n",
       "                        [{\"hovertemplate\": \"Country=Singapore<br>Year=2015<br>Economy (GDP per Capita)=%{marker.size}<br>Generosity=%{y}<extra></extra>\", \"ids\": [\"Singapore\"], \"legendgroup\": \"Singapore\", \"marker\": {\"color\": \"#636efa\", \"size\": [1.52186], \"sizemode\": \"area\", \"sizeref\": 0.007521234088473867, \"symbol\": \"circle\"}, \"mode\": \"markers\", \"name\": \"Singapore\", \"showlegend\": true, \"type\": \"scatter\", \"x\": [1.52186], \"xaxis\": \"x\", \"y\": [0.31105], \"yaxis\": \"y\"}, {\"hovertemplate\": \"Country=Thailand<br>Year=2015<br>Economy (GDP per Capita)=%{marker.size}<br>Generosity=%{y}<extra></extra>\", \"ids\": [\"Thailand\"], \"legendgroup\": \"Thailand\", \"marker\": {\"color\": \"#EF553B\", \"size\": [0.9669], \"sizemode\": \"area\", \"sizeref\": 0.007521234088473867, \"symbol\": \"circle\"}, \"mode\": \"markers\", \"name\": \"Thailand\", \"showlegend\": true, \"type\": \"scatter\", \"x\": [0.9669], \"xaxis\": \"x\", \"y\": [0.5763], \"yaxis\": \"y\"}, {\"hovertemplate\": \"Country=Malaysia<br>Year=2015<br>Economy (GDP per Capita)=%{marker.size}<br>Generosity=%{y}<extra></extra>\", \"ids\": [\"Malaysia\"], \"legendgroup\": \"Malaysia\", \"marker\": {\"color\": \"#00cc96\", \"size\": [1.12486], \"sizemode\": \"area\", \"sizeref\": 0.007521234088473867, \"symbol\": \"circle\"}, \"mode\": \"markers\", \"name\": \"Malaysia\", \"showlegend\": true, \"type\": \"scatter\", \"x\": [1.12486], \"xaxis\": \"x\", \"y\": [0.33075], \"yaxis\": \"y\"}, {\"hovertemplate\": \"Country=Indonesia<br>Year=2015<br>Economy (GDP per Capita)=%{marker.size}<br>Generosity=%{y}<extra></extra>\", \"ids\": [\"Indonesia\"], \"legendgroup\": \"Indonesia\", \"marker\": {\"color\": \"#ab63fa\", \"size\": [0.8282700000000001], \"sizemode\": \"area\", \"sizeref\": 0.007521234088473867, \"symbol\": \"circle\"}, \"mode\": \"markers\", \"name\": \"Indonesia\", \"showlegend\": true, \"type\": \"scatter\", \"x\": [0.8282700000000001], \"xaxis\": \"x\", \"y\": [0.51535], \"yaxis\": \"y\"}, {\"hovertemplate\": \"Country=Vietnam<br>Year=2015<br>Economy (GDP per Capita)=%{marker.size}<br>Generosity=%{y}<extra></extra>\", \"ids\": [\"Vietnam\"], \"legendgroup\": \"Vietnam\", \"marker\": {\"color\": \"#FFA15A\", \"size\": [0.63216], \"sizemode\": \"area\", \"sizeref\": 0.007521234088473867, \"symbol\": \"circle\"}, \"mode\": \"markers\", \"name\": \"Vietnam\", \"showlegend\": true, \"type\": \"scatter\", \"x\": [0.63216], \"xaxis\": \"x\", \"y\": [0.1686], \"yaxis\": \"y\"}, {\"hovertemplate\": \"Country=Bhutan<br>Year=2015<br>Economy (GDP per Capita)=%{marker.size}<br>Generosity=%{y}<extra></extra>\", \"ids\": [\"Bhutan\"], \"legendgroup\": \"Bhutan\", \"marker\": {\"color\": \"#19d3f3\", \"size\": [0.77042], \"sizemode\": \"area\", \"sizeref\": 0.007521234088473867, \"symbol\": \"circle\"}, \"mode\": \"markers\", \"name\": \"Bhutan\", \"showlegend\": true, \"type\": \"scatter\", \"x\": [0.77042], \"xaxis\": \"x\", \"y\": [0.47998], \"yaxis\": \"y\"}, {\"hovertemplate\": \"Country=Pakistan<br>Year=2015<br>Economy (GDP per Capita)=%{marker.size}<br>Generosity=%{y}<extra></extra>\", \"ids\": [\"Pakistan\"], \"legendgroup\": \"Pakistan\", \"marker\": {\"color\": \"#FF6692\", \"size\": [0.59543], \"sizemode\": \"area\", \"sizeref\": 0.007521234088473867, \"symbol\": \"circle\"}, \"mode\": \"markers\", \"name\": \"Pakistan\", \"showlegend\": true, \"type\": \"scatter\", \"x\": [0.59543], \"xaxis\": \"x\", \"y\": [0.33671], \"yaxis\": \"y\"}, {\"hovertemplate\": \"Country=Philippines<br>Year=2015<br>Economy (GDP per Capita)=%{marker.size}<br>Generosity=%{y}<extra></extra>\", \"ids\": [\"Philippines\"], \"legendgroup\": \"Philippines\", \"marker\": {\"color\": \"#B6E880\", \"size\": [0.70532], \"sizemode\": \"area\", \"sizeref\": 0.007521234088473867, \"symbol\": \"circle\"}, \"mode\": \"markers\", \"name\": \"Philippines\", \"showlegend\": true, \"type\": \"scatter\", \"x\": [0.70532], \"xaxis\": \"x\", \"y\": [0.24991], \"yaxis\": \"y\"}, {\"hovertemplate\": \"Country=Laos<br>Year=2015<br>Economy (GDP per Capita)=%{marker.size}<br>Generosity=%{y}<extra></extra>\", \"ids\": [\"Laos\"], \"legendgroup\": \"Laos\", \"marker\": {\"color\": \"#FF97FF\", \"size\": [0.5906600000000001], \"sizemode\": \"area\", \"sizeref\": 0.007521234088473867, \"symbol\": \"circle\"}, \"mode\": \"markers\", \"name\": \"Laos\", \"showlegend\": true, \"type\": \"scatter\", \"x\": [0.5906600000000001], \"xaxis\": \"x\", \"y\": [0.42192], \"yaxis\": \"y\"}, {\"hovertemplate\": \"Country=Bangladesh<br>Year=2015<br>Economy (GDP per Capita)=%{marker.size}<br>Generosity=%{y}<extra></extra>\", \"ids\": [\"Bangladesh\"], \"legendgroup\": \"Bangladesh\", \"marker\": {\"color\": \"#FECB52\", \"size\": [0.39753], \"sizemode\": \"area\", \"sizeref\": 0.007521234088473867, \"symbol\": \"circle\"}, \"mode\": \"markers\", \"name\": \"Bangladesh\", \"showlegend\": true, \"type\": \"scatter\", \"x\": [0.39753], \"xaxis\": \"x\", \"y\": [0.21222], \"yaxis\": \"y\"}, {\"hovertemplate\": \"Country=India<br>Year=2015<br>Economy (GDP per Capita)=%{marker.size}<br>Generosity=%{y}<extra></extra>\", \"ids\": [\"India\"], \"legendgroup\": \"India\", \"marker\": {\"color\": \"#636efa\", \"size\": [0.64499], \"sizemode\": \"area\", \"sizeref\": 0.007521234088473867, \"symbol\": \"circle\"}, \"mode\": \"markers\", \"name\": \"India\", \"showlegend\": true, \"type\": \"scatter\", \"x\": [0.64499], \"xaxis\": \"x\", \"y\": [0.26475], \"yaxis\": \"y\"}, {\"hovertemplate\": \"Country=Nepal<br>Year=2015<br>Economy (GDP per Capita)=%{marker.size}<br>Generosity=%{y}<extra></extra>\", \"ids\": [\"Nepal\"], \"legendgroup\": \"Nepal\", \"marker\": {\"color\": \"#EF553B\", \"size\": [0.35997], \"sizemode\": \"area\", \"sizeref\": 0.007521234088473867, \"symbol\": \"circle\"}, \"mode\": \"markers\", \"name\": \"Nepal\", \"showlegend\": true, \"type\": \"scatter\", \"x\": [0.35997], \"xaxis\": \"x\", \"y\": [0.32296], \"yaxis\": \"y\"}, {\"hovertemplate\": \"Country=Myanmar<br>Year=2015<br>Economy (GDP per Capita)=%{marker.size}<br>Generosity=%{y}<extra></extra>\", \"ids\": [\"Myanmar\"], \"legendgroup\": \"Myanmar\", \"marker\": {\"color\": \"#00cc96\", \"size\": [0.27108000000000004], \"sizemode\": \"area\", \"sizeref\": 0.007521234088473867, \"symbol\": \"circle\"}, \"mode\": \"markers\", \"name\": \"Myanmar\", \"showlegend\": true, \"type\": \"scatter\", \"x\": [0.27108000000000004], \"xaxis\": \"x\", \"y\": [0.79588], \"yaxis\": \"y\"}, {\"hovertemplate\": \"Country=Sri Lanka<br>Year=2015<br>Economy (GDP per Capita)=%{marker.size}<br>Generosity=%{y}<extra></extra>\", \"ids\": [\"Sri Lanka\"], \"legendgroup\": \"Sri Lanka\", \"marker\": {\"color\": \"#ab63fa\", \"size\": [0.83524], \"sizemode\": \"area\", \"sizeref\": 0.007521234088473867, \"symbol\": \"circle\"}, \"mode\": \"markers\", \"name\": \"Sri Lanka\", \"showlegend\": true, \"type\": \"scatter\", \"x\": [0.83524], \"xaxis\": \"x\", \"y\": [0.40828], \"yaxis\": \"y\"}, {\"hovertemplate\": \"Country=Cambodia<br>Year=2015<br>Economy (GDP per Capita)=%{marker.size}<br>Generosity=%{y}<extra></extra>\", \"ids\": [\"Cambodia\"], \"legendgroup\": \"Cambodia\", \"marker\": {\"color\": \"#FFA15A\", \"size\": [0.46038], \"sizemode\": \"area\", \"sizeref\": 0.007521234088473867, \"symbol\": \"circle\"}, \"mode\": \"markers\", \"name\": \"Cambodia\", \"showlegend\": true, \"type\": \"scatter\", \"x\": [0.46038], \"xaxis\": \"x\", \"y\": [0.40359], \"yaxis\": \"y\"}, {\"hovertemplate\": \"Country=Afghanistan<br>Year=2015<br>Economy (GDP per Capita)=%{marker.size}<br>Generosity=%{y}<extra></extra>\", \"ids\": [\"Afghanistan\"], \"legendgroup\": \"Afghanistan\", \"marker\": {\"color\": \"#19d3f3\", \"size\": [0.31982], \"sizemode\": \"area\", \"sizeref\": 0.007521234088473867, \"symbol\": \"circle\"}, \"mode\": \"markers\", \"name\": \"Afghanistan\", \"showlegend\": true, \"type\": \"scatter\", \"x\": [0.31982], \"xaxis\": \"x\", \"y\": [0.3651], \"yaxis\": \"y\"}],\n",
       "                        {\"height\": 600, \"legend\": {\"itemsizing\": \"constant\", \"title\": {\"text\": \"Country\"}, \"tracegroupgap\": 0}, \"margin\": {\"t\": 60}, \"sliders\": [{\"active\": 0, \"currentvalue\": {\"prefix\": \"Year=\"}, \"len\": 0.9, \"pad\": {\"b\": 10, \"t\": 60}, \"steps\": [{\"args\": [[\"2015\"], {\"frame\": {\"duration\": 0, \"redraw\": false}, \"fromcurrent\": true, \"mode\": \"immediate\", \"transition\": {\"duration\": 0, \"easing\": \"linear\"}}], \"label\": \"2015\", \"method\": \"animate\"}, {\"args\": [[\"2016\"], {\"frame\": {\"duration\": 0, \"redraw\": false}, \"fromcurrent\": true, \"mode\": \"immediate\", \"transition\": {\"duration\": 0, \"easing\": \"linear\"}}], \"label\": \"2016\", \"method\": \"animate\"}, {\"args\": [[\"2017\"], {\"frame\": {\"duration\": 0, \"redraw\": false}, \"fromcurrent\": true, \"mode\": \"immediate\", \"transition\": {\"duration\": 0, \"easing\": \"linear\"}}], \"label\": \"2017\", \"method\": \"animate\"}, {\"args\": [[\"2018\"], {\"frame\": {\"duration\": 0, \"redraw\": false}, \"fromcurrent\": true, \"mode\": \"immediate\", \"transition\": {\"duration\": 0, \"easing\": \"linear\"}}], \"label\": \"2018\", \"method\": \"animate\"}, {\"args\": [[\"2019\"], {\"frame\": {\"duration\": 0, \"redraw\": false}, \"fromcurrent\": true, \"mode\": \"immediate\", \"transition\": {\"duration\": 0, \"easing\": \"linear\"}}], \"label\": \"2019\", \"method\": \"animate\"}], \"x\": 0.1, \"xanchor\": \"left\", \"y\": 0, \"yanchor\": \"top\"}], \"template\": {\"data\": {\"bar\": [{\"error_x\": {\"color\": \"#2a3f5f\"}, \"error_y\": {\"color\": \"#2a3f5f\"}, \"marker\": {\"line\": {\"color\": \"#E5ECF6\", \"width\": 0.5}}, \"type\": \"bar\"}], \"barpolar\": [{\"marker\": {\"line\": {\"color\": \"#E5ECF6\", \"width\": 0.5}}, \"type\": \"barpolar\"}], \"carpet\": [{\"aaxis\": {\"endlinecolor\": \"#2a3f5f\", \"gridcolor\": \"white\", \"linecolor\": \"white\", \"minorgridcolor\": \"white\", \"startlinecolor\": \"#2a3f5f\"}, \"baxis\": {\"endlinecolor\": \"#2a3f5f\", \"gridcolor\": \"white\", \"linecolor\": \"white\", \"minorgridcolor\": \"white\", \"startlinecolor\": \"#2a3f5f\"}, \"type\": \"carpet\"}], \"choropleth\": [{\"colorbar\": {\"outlinewidth\": 0, \"ticks\": \"\"}, \"type\": \"choropleth\"}], \"contour\": [{\"colorbar\": {\"outlinewidth\": 0, \"ticks\": \"\"}, \"colorscale\": [[0.0, \"#0d0887\"], [0.1111111111111111, \"#46039f\"], [0.2222222222222222, \"#7201a8\"], [0.3333333333333333, \"#9c179e\"], [0.4444444444444444, \"#bd3786\"], [0.5555555555555556, \"#d8576b\"], [0.6666666666666666, \"#ed7953\"], [0.7777777777777778, \"#fb9f3a\"], [0.8888888888888888, \"#fdca26\"], [1.0, \"#f0f921\"]], \"type\": \"contour\"}], \"contourcarpet\": [{\"colorbar\": {\"outlinewidth\": 0, \"ticks\": \"\"}, \"type\": \"contourcarpet\"}], \"heatmap\": [{\"colorbar\": {\"outlinewidth\": 0, \"ticks\": \"\"}, \"colorscale\": [[0.0, \"#0d0887\"], [0.1111111111111111, \"#46039f\"], [0.2222222222222222, \"#7201a8\"], [0.3333333333333333, \"#9c179e\"], [0.4444444444444444, \"#bd3786\"], [0.5555555555555556, \"#d8576b\"], [0.6666666666666666, \"#ed7953\"], [0.7777777777777778, \"#fb9f3a\"], [0.8888888888888888, \"#fdca26\"], [1.0, \"#f0f921\"]], \"type\": \"heatmap\"}], \"heatmapgl\": [{\"colorbar\": {\"outlinewidth\": 0, \"ticks\": \"\"}, \"colorscale\": [[0.0, \"#0d0887\"], [0.1111111111111111, \"#46039f\"], [0.2222222222222222, \"#7201a8\"], [0.3333333333333333, \"#9c179e\"], [0.4444444444444444, \"#bd3786\"], [0.5555555555555556, \"#d8576b\"], [0.6666666666666666, \"#ed7953\"], [0.7777777777777778, \"#fb9f3a\"], [0.8888888888888888, \"#fdca26\"], [1.0, \"#f0f921\"]], \"type\": \"heatmapgl\"}], \"histogram\": [{\"marker\": {\"colorbar\": {\"outlinewidth\": 0, \"ticks\": \"\"}}, \"type\": \"histogram\"}], \"histogram2d\": [{\"colorbar\": {\"outlinewidth\": 0, \"ticks\": \"\"}, \"colorscale\": [[0.0, \"#0d0887\"], [0.1111111111111111, \"#46039f\"], [0.2222222222222222, \"#7201a8\"], [0.3333333333333333, \"#9c179e\"], [0.4444444444444444, \"#bd3786\"], [0.5555555555555556, \"#d8576b\"], [0.6666666666666666, \"#ed7953\"], [0.7777777777777778, \"#fb9f3a\"], [0.8888888888888888, \"#fdca26\"], [1.0, \"#f0f921\"]], \"type\": \"histogram2d\"}], \"histogram2dcontour\": [{\"colorbar\": {\"outlinewidth\": 0, \"ticks\": \"\"}, \"colorscale\": [[0.0, \"#0d0887\"], [0.1111111111111111, \"#46039f\"], [0.2222222222222222, \"#7201a8\"], [0.3333333333333333, \"#9c179e\"], [0.4444444444444444, \"#bd3786\"], [0.5555555555555556, \"#d8576b\"], [0.6666666666666666, \"#ed7953\"], [0.7777777777777778, \"#fb9f3a\"], [0.8888888888888888, \"#fdca26\"], [1.0, \"#f0f921\"]], \"type\": \"histogram2dcontour\"}], \"mesh3d\": [{\"colorbar\": {\"outlinewidth\": 0, \"ticks\": \"\"}, \"type\": \"mesh3d\"}], \"parcoords\": [{\"line\": {\"colorbar\": {\"outlinewidth\": 0, \"ticks\": \"\"}}, \"type\": \"parcoords\"}], \"pie\": [{\"automargin\": true, \"type\": \"pie\"}], \"scatter\": [{\"marker\": {\"colorbar\": {\"outlinewidth\": 0, \"ticks\": \"\"}}, \"type\": \"scatter\"}], \"scatter3d\": [{\"line\": {\"colorbar\": {\"outlinewidth\": 0, \"ticks\": \"\"}}, \"marker\": {\"colorbar\": {\"outlinewidth\": 0, \"ticks\": \"\"}}, \"type\": \"scatter3d\"}], \"scattercarpet\": [{\"marker\": {\"colorbar\": {\"outlinewidth\": 0, \"ticks\": \"\"}}, \"type\": \"scattercarpet\"}], \"scattergeo\": [{\"marker\": {\"colorbar\": {\"outlinewidth\": 0, \"ticks\": \"\"}}, \"type\": \"scattergeo\"}], \"scattergl\": [{\"marker\": {\"colorbar\": {\"outlinewidth\": 0, \"ticks\": \"\"}}, \"type\": \"scattergl\"}], \"scattermapbox\": [{\"marker\": {\"colorbar\": {\"outlinewidth\": 0, \"ticks\": \"\"}}, \"type\": \"scattermapbox\"}], \"scatterpolar\": [{\"marker\": {\"colorbar\": {\"outlinewidth\": 0, \"ticks\": \"\"}}, \"type\": \"scatterpolar\"}], \"scatterpolargl\": [{\"marker\": {\"colorbar\": {\"outlinewidth\": 0, \"ticks\": \"\"}}, \"type\": \"scatterpolargl\"}], \"scatterternary\": [{\"marker\": {\"colorbar\": {\"outlinewidth\": 0, \"ticks\": \"\"}}, \"type\": \"scatterternary\"}], \"surface\": [{\"colorbar\": {\"outlinewidth\": 0, \"ticks\": \"\"}, \"colorscale\": [[0.0, \"#0d0887\"], [0.1111111111111111, \"#46039f\"], [0.2222222222222222, \"#7201a8\"], [0.3333333333333333, \"#9c179e\"], [0.4444444444444444, \"#bd3786\"], [0.5555555555555556, \"#d8576b\"], [0.6666666666666666, \"#ed7953\"], [0.7777777777777778, \"#fb9f3a\"], [0.8888888888888888, \"#fdca26\"], [1.0, \"#f0f921\"]], \"type\": \"surface\"}], \"table\": [{\"cells\": {\"fill\": {\"color\": \"#EBF0F8\"}, \"line\": {\"color\": \"white\"}}, \"header\": {\"fill\": {\"color\": \"#C8D4E3\"}, \"line\": {\"color\": \"white\"}}, \"type\": \"table\"}]}, \"layout\": {\"annotationdefaults\": {\"arrowcolor\": \"#2a3f5f\", \"arrowhead\": 0, \"arrowwidth\": 1}, \"coloraxis\": {\"colorbar\": {\"outlinewidth\": 0, \"ticks\": \"\"}}, \"colorscale\": {\"diverging\": [[0, \"#8e0152\"], [0.1, \"#c51b7d\"], [0.2, \"#de77ae\"], [0.3, \"#f1b6da\"], [0.4, \"#fde0ef\"], [0.5, \"#f7f7f7\"], [0.6, \"#e6f5d0\"], [0.7, \"#b8e186\"], [0.8, \"#7fbc41\"], [0.9, \"#4d9221\"], [1, \"#276419\"]], \"sequential\": [[0.0, \"#0d0887\"], [0.1111111111111111, \"#46039f\"], [0.2222222222222222, \"#7201a8\"], [0.3333333333333333, \"#9c179e\"], [0.4444444444444444, \"#bd3786\"], [0.5555555555555556, \"#d8576b\"], [0.6666666666666666, \"#ed7953\"], [0.7777777777777778, \"#fb9f3a\"], [0.8888888888888888, \"#fdca26\"], [1.0, \"#f0f921\"]], \"sequentialminus\": [[0.0, \"#0d0887\"], [0.1111111111111111, \"#46039f\"], [0.2222222222222222, \"#7201a8\"], [0.3333333333333333, \"#9c179e\"], [0.4444444444444444, \"#bd3786\"], [0.5555555555555556, \"#d8576b\"], [0.6666666666666666, \"#ed7953\"], [0.7777777777777778, \"#fb9f3a\"], [0.8888888888888888, \"#fdca26\"], [1.0, \"#f0f921\"]]}, \"colorway\": [\"#636efa\", \"#EF553B\", \"#00cc96\", \"#ab63fa\", \"#FFA15A\", \"#19d3f3\", \"#FF6692\", \"#B6E880\", \"#FF97FF\", \"#FECB52\"], \"font\": {\"color\": \"#2a3f5f\"}, \"geo\": {\"bgcolor\": \"white\", \"lakecolor\": \"white\", \"landcolor\": \"#E5ECF6\", \"showlakes\": true, \"showland\": true, \"subunitcolor\": \"white\"}, \"hoverlabel\": {\"align\": \"left\"}, \"hovermode\": \"closest\", \"mapbox\": {\"style\": \"light\"}, \"paper_bgcolor\": \"white\", \"plot_bgcolor\": \"#E5ECF6\", \"polar\": {\"angularaxis\": {\"gridcolor\": \"white\", \"linecolor\": \"white\", \"ticks\": \"\"}, \"bgcolor\": \"#E5ECF6\", \"radialaxis\": {\"gridcolor\": \"white\", \"linecolor\": \"white\", \"ticks\": \"\"}}, \"scene\": {\"xaxis\": {\"backgroundcolor\": \"#E5ECF6\", \"gridcolor\": \"white\", \"gridwidth\": 2, \"linecolor\": \"white\", \"showbackground\": true, \"ticks\": \"\", \"zerolinecolor\": \"white\"}, \"yaxis\": {\"backgroundcolor\": \"#E5ECF6\", \"gridcolor\": \"white\", \"gridwidth\": 2, \"linecolor\": \"white\", \"showbackground\": true, \"ticks\": \"\", \"zerolinecolor\": \"white\"}, \"zaxis\": {\"backgroundcolor\": \"#E5ECF6\", \"gridcolor\": \"white\", \"gridwidth\": 2, \"linecolor\": \"white\", \"showbackground\": true, \"ticks\": \"\", \"zerolinecolor\": \"white\"}}, \"shapedefaults\": {\"line\": {\"color\": \"#2a3f5f\"}}, \"ternary\": {\"aaxis\": {\"gridcolor\": \"white\", \"linecolor\": \"white\", \"ticks\": \"\"}, \"baxis\": {\"gridcolor\": \"white\", \"linecolor\": \"white\", \"ticks\": \"\"}, \"bgcolor\": \"#E5ECF6\", \"caxis\": {\"gridcolor\": \"white\", \"linecolor\": \"white\", \"ticks\": \"\"}}, \"title\": {\"x\": 0.05}, \"xaxis\": {\"automargin\": true, \"gridcolor\": \"white\", \"linecolor\": \"white\", \"ticks\": \"\", \"title\": {\"standoff\": 15}, \"zerolinecolor\": \"white\", \"zerolinewidth\": 2}, \"yaxis\": {\"automargin\": true, \"gridcolor\": \"white\", \"linecolor\": \"white\", \"ticks\": \"\", \"title\": {\"standoff\": 15}, \"zerolinecolor\": \"white\", \"zerolinewidth\": 2}}}, \"updatemenus\": [{\"buttons\": [{\"args\": [null, {\"frame\": {\"duration\": 500, \"redraw\": false}, \"fromcurrent\": true, \"mode\": \"immediate\", \"transition\": {\"duration\": 500, \"easing\": \"linear\"}}], \"label\": \"&#9654;\", \"method\": \"animate\"}, {\"args\": [[null], {\"frame\": {\"duration\": 0, \"redraw\": false}, \"fromcurrent\": true, \"mode\": \"immediate\", \"transition\": {\"duration\": 0, \"easing\": \"linear\"}}], \"label\": \"&#9724;\", \"method\": \"animate\"}], \"direction\": \"left\", \"pad\": {\"r\": 10, \"t\": 70}, \"showactive\": false, \"type\": \"buttons\", \"x\": 0.1, \"xanchor\": \"right\", \"y\": 0, \"yanchor\": \"top\"}], \"xaxis\": {\"anchor\": \"y\", \"domain\": [0.0, 1.0], \"range\": [-0.5, 1.338075160980225], \"title\": {\"text\": \"Economy (GDP per Capita)\"}}, \"yaxis\": {\"anchor\": \"x\", \"domain\": [0.0, 1.0], \"range\": [-0.5, 1.16246], \"title\": {\"text\": \"Generosity\"}}},\n",
       "                        {\"responsive\": true}\n",
       "                    ).then(function(){\n",
       "                            Plotly.addFrames('c25d8365-a10d-40d0-b740-8efd3353d1b4', [{\"data\": [{\"hovertemplate\": \"Country=Singapore<br>Year=2015<br>Economy (GDP per Capita)=%{marker.size}<br>Generosity=%{y}<extra></extra>\", \"ids\": [\"Singapore\"], \"legendgroup\": \"Singapore\", \"marker\": {\"color\": \"#636efa\", \"size\": [1.52186], \"sizemode\": \"area\", \"sizeref\": 0.007521234088473867, \"symbol\": \"circle\"}, \"mode\": \"markers\", \"name\": \"Singapore\", \"showlegend\": true, \"x\": [1.52186], \"xaxis\": \"x\", \"y\": [0.31105], \"yaxis\": \"y\", \"type\": \"scatter\"}, {\"hovertemplate\": \"Country=Thailand<br>Year=2015<br>Economy (GDP per Capita)=%{marker.size}<br>Generosity=%{y}<extra></extra>\", \"ids\": [\"Thailand\"], \"legendgroup\": \"Thailand\", \"marker\": {\"color\": \"#EF553B\", \"size\": [0.9669], \"sizemode\": \"area\", \"sizeref\": 0.007521234088473867, \"symbol\": \"circle\"}, \"mode\": \"markers\", \"name\": \"Thailand\", \"showlegend\": true, \"x\": [0.9669], \"xaxis\": \"x\", \"y\": [0.5763], \"yaxis\": \"y\", \"type\": \"scatter\"}, {\"hovertemplate\": \"Country=Malaysia<br>Year=2015<br>Economy (GDP per Capita)=%{marker.size}<br>Generosity=%{y}<extra></extra>\", \"ids\": [\"Malaysia\"], \"legendgroup\": \"Malaysia\", \"marker\": {\"color\": \"#00cc96\", \"size\": [1.12486], \"sizemode\": \"area\", \"sizeref\": 0.007521234088473867, \"symbol\": \"circle\"}, \"mode\": \"markers\", \"name\": \"Malaysia\", \"showlegend\": true, \"x\": [1.12486], \"xaxis\": \"x\", \"y\": [0.33075], \"yaxis\": \"y\", \"type\": \"scatter\"}, {\"hovertemplate\": \"Country=Indonesia<br>Year=2015<br>Economy (GDP per Capita)=%{marker.size}<br>Generosity=%{y}<extra></extra>\", \"ids\": [\"Indonesia\"], \"legendgroup\": \"Indonesia\", \"marker\": {\"color\": \"#ab63fa\", \"size\": [0.8282700000000001], \"sizemode\": \"area\", \"sizeref\": 0.007521234088473867, \"symbol\": \"circle\"}, \"mode\": \"markers\", \"name\": \"Indonesia\", \"showlegend\": true, \"x\": [0.8282700000000001], \"xaxis\": \"x\", \"y\": [0.51535], \"yaxis\": \"y\", \"type\": \"scatter\"}, {\"hovertemplate\": \"Country=Vietnam<br>Year=2015<br>Economy (GDP per Capita)=%{marker.size}<br>Generosity=%{y}<extra></extra>\", \"ids\": [\"Vietnam\"], \"legendgroup\": \"Vietnam\", \"marker\": {\"color\": \"#FFA15A\", \"size\": [0.63216], \"sizemode\": \"area\", \"sizeref\": 0.007521234088473867, \"symbol\": \"circle\"}, \"mode\": \"markers\", \"name\": \"Vietnam\", \"showlegend\": true, \"x\": [0.63216], \"xaxis\": \"x\", \"y\": [0.1686], \"yaxis\": \"y\", \"type\": \"scatter\"}, {\"hovertemplate\": \"Country=Bhutan<br>Year=2015<br>Economy (GDP per Capita)=%{marker.size}<br>Generosity=%{y}<extra></extra>\", \"ids\": [\"Bhutan\"], \"legendgroup\": \"Bhutan\", \"marker\": {\"color\": \"#19d3f3\", \"size\": [0.77042], \"sizemode\": \"area\", \"sizeref\": 0.007521234088473867, \"symbol\": \"circle\"}, \"mode\": \"markers\", \"name\": \"Bhutan\", \"showlegend\": true, \"x\": [0.77042], \"xaxis\": \"x\", \"y\": [0.47998], \"yaxis\": \"y\", \"type\": \"scatter\"}, {\"hovertemplate\": \"Country=Pakistan<br>Year=2015<br>Economy (GDP per Capita)=%{marker.size}<br>Generosity=%{y}<extra></extra>\", \"ids\": [\"Pakistan\"], \"legendgroup\": \"Pakistan\", \"marker\": {\"color\": \"#FF6692\", \"size\": [0.59543], \"sizemode\": \"area\", \"sizeref\": 0.007521234088473867, \"symbol\": \"circle\"}, \"mode\": \"markers\", \"name\": \"Pakistan\", \"showlegend\": true, \"x\": [0.59543], \"xaxis\": \"x\", \"y\": [0.33671], \"yaxis\": \"y\", \"type\": \"scatter\"}, {\"hovertemplate\": \"Country=Philippines<br>Year=2015<br>Economy (GDP per Capita)=%{marker.size}<br>Generosity=%{y}<extra></extra>\", \"ids\": [\"Philippines\"], \"legendgroup\": \"Philippines\", \"marker\": {\"color\": \"#B6E880\", \"size\": [0.70532], \"sizemode\": \"area\", \"sizeref\": 0.007521234088473867, \"symbol\": \"circle\"}, \"mode\": \"markers\", \"name\": \"Philippines\", \"showlegend\": true, \"x\": [0.70532], \"xaxis\": \"x\", \"y\": [0.24991], \"yaxis\": \"y\", \"type\": \"scatter\"}, {\"hovertemplate\": \"Country=Laos<br>Year=2015<br>Economy (GDP per Capita)=%{marker.size}<br>Generosity=%{y}<extra></extra>\", \"ids\": [\"Laos\"], \"legendgroup\": \"Laos\", \"marker\": {\"color\": \"#FF97FF\", \"size\": [0.5906600000000001], \"sizemode\": \"area\", \"sizeref\": 0.007521234088473867, \"symbol\": \"circle\"}, \"mode\": \"markers\", \"name\": \"Laos\", \"showlegend\": true, \"x\": [0.5906600000000001], \"xaxis\": \"x\", \"y\": [0.42192], \"yaxis\": \"y\", \"type\": \"scatter\"}, {\"hovertemplate\": \"Country=Bangladesh<br>Year=2015<br>Economy (GDP per Capita)=%{marker.size}<br>Generosity=%{y}<extra></extra>\", \"ids\": [\"Bangladesh\"], \"legendgroup\": \"Bangladesh\", \"marker\": {\"color\": \"#FECB52\", \"size\": [0.39753], \"sizemode\": \"area\", \"sizeref\": 0.007521234088473867, \"symbol\": \"circle\"}, \"mode\": \"markers\", \"name\": \"Bangladesh\", \"showlegend\": true, \"x\": [0.39753], \"xaxis\": \"x\", \"y\": [0.21222], \"yaxis\": \"y\", \"type\": \"scatter\"}, {\"hovertemplate\": \"Country=India<br>Year=2015<br>Economy (GDP per Capita)=%{marker.size}<br>Generosity=%{y}<extra></extra>\", \"ids\": [\"India\"], \"legendgroup\": \"India\", \"marker\": {\"color\": \"#636efa\", \"size\": [0.64499], \"sizemode\": \"area\", \"sizeref\": 0.007521234088473867, \"symbol\": \"circle\"}, \"mode\": \"markers\", \"name\": \"India\", \"showlegend\": true, \"x\": [0.64499], \"xaxis\": \"x\", \"y\": [0.26475], \"yaxis\": \"y\", \"type\": \"scatter\"}, {\"hovertemplate\": \"Country=Nepal<br>Year=2015<br>Economy (GDP per Capita)=%{marker.size}<br>Generosity=%{y}<extra></extra>\", \"ids\": [\"Nepal\"], \"legendgroup\": \"Nepal\", \"marker\": {\"color\": \"#EF553B\", \"size\": [0.35997], \"sizemode\": \"area\", \"sizeref\": 0.007521234088473867, \"symbol\": \"circle\"}, \"mode\": \"markers\", \"name\": \"Nepal\", \"showlegend\": true, \"x\": [0.35997], \"xaxis\": \"x\", \"y\": [0.32296], \"yaxis\": \"y\", \"type\": \"scatter\"}, {\"hovertemplate\": \"Country=Myanmar<br>Year=2015<br>Economy (GDP per Capita)=%{marker.size}<br>Generosity=%{y}<extra></extra>\", \"ids\": [\"Myanmar\"], \"legendgroup\": \"Myanmar\", \"marker\": {\"color\": \"#00cc96\", \"size\": [0.27108000000000004], \"sizemode\": \"area\", \"sizeref\": 0.007521234088473867, \"symbol\": \"circle\"}, \"mode\": \"markers\", \"name\": \"Myanmar\", \"showlegend\": true, \"x\": [0.27108000000000004], \"xaxis\": \"x\", \"y\": [0.79588], \"yaxis\": \"y\", \"type\": \"scatter\"}, {\"hovertemplate\": \"Country=Sri Lanka<br>Year=2015<br>Economy (GDP per Capita)=%{marker.size}<br>Generosity=%{y}<extra></extra>\", \"ids\": [\"Sri Lanka\"], \"legendgroup\": \"Sri Lanka\", \"marker\": {\"color\": \"#ab63fa\", \"size\": [0.83524], \"sizemode\": \"area\", \"sizeref\": 0.007521234088473867, \"symbol\": \"circle\"}, \"mode\": \"markers\", \"name\": \"Sri Lanka\", \"showlegend\": true, \"x\": [0.83524], \"xaxis\": \"x\", \"y\": [0.40828], \"yaxis\": \"y\", \"type\": \"scatter\"}, {\"hovertemplate\": \"Country=Cambodia<br>Year=2015<br>Economy (GDP per Capita)=%{marker.size}<br>Generosity=%{y}<extra></extra>\", \"ids\": [\"Cambodia\"], \"legendgroup\": \"Cambodia\", \"marker\": {\"color\": \"#FFA15A\", \"size\": [0.46038], \"sizemode\": \"area\", \"sizeref\": 0.007521234088473867, \"symbol\": \"circle\"}, \"mode\": \"markers\", \"name\": \"Cambodia\", \"showlegend\": true, \"x\": [0.46038], \"xaxis\": \"x\", \"y\": [0.40359], \"yaxis\": \"y\", \"type\": \"scatter\"}, {\"hovertemplate\": \"Country=Afghanistan<br>Year=2015<br>Economy (GDP per Capita)=%{marker.size}<br>Generosity=%{y}<extra></extra>\", \"ids\": [\"Afghanistan\"], \"legendgroup\": \"Afghanistan\", \"marker\": {\"color\": \"#19d3f3\", \"size\": [0.31982], \"sizemode\": \"area\", \"sizeref\": 0.007521234088473867, \"symbol\": \"circle\"}, \"mode\": \"markers\", \"name\": \"Afghanistan\", \"showlegend\": true, \"x\": [0.31982], \"xaxis\": \"x\", \"y\": [0.3651], \"yaxis\": \"y\", \"type\": \"scatter\"}], \"name\": \"2015\"}, {\"data\": [{\"hovertemplate\": \"Country=Singapore<br>Year=2016<br>Economy (GDP per Capita)=%{marker.size}<br>Generosity=%{y}<extra></extra>\", \"ids\": [\"Singapore\"], \"legendgroup\": \"Singapore\", \"marker\": {\"color\": \"#636efa\", \"size\": [1.64555], \"sizemode\": \"area\", \"sizeref\": 0.007521234088473867, \"symbol\": \"circle\"}, \"mode\": \"markers\", \"name\": \"Singapore\", \"showlegend\": true, \"x\": [1.64555], \"xaxis\": \"x\", \"y\": [0.32706], \"yaxis\": \"y\", \"type\": \"scatter\"}, {\"hovertemplate\": \"Country=Thailand<br>Year=2016<br>Economy (GDP per Capita)=%{marker.size}<br>Generosity=%{y}<extra></extra>\", \"ids\": [\"Thailand\"], \"legendgroup\": \"Thailand\", \"marker\": {\"color\": \"#EF553B\", \"size\": [1.0893], \"sizemode\": \"area\", \"sizeref\": 0.007521234088473867, \"symbol\": \"circle\"}, \"mode\": \"markers\", \"name\": \"Thailand\", \"showlegend\": true, \"x\": [1.0893], \"xaxis\": \"x\", \"y\": [0.58696], \"yaxis\": \"y\", \"type\": \"scatter\"}, {\"hovertemplate\": \"Country=Malaysia<br>Year=2016<br>Economy (GDP per Capita)=%{marker.size}<br>Generosity=%{y}<extra></extra>\", \"ids\": [\"Malaysia\"], \"legendgroup\": \"Malaysia\", \"marker\": {\"color\": \"#00cc96\", \"size\": [1.25142], \"sizemode\": \"area\", \"sizeref\": 0.007521234088473867, \"symbol\": \"circle\"}, \"mode\": \"markers\", \"name\": \"Malaysia\", \"showlegend\": true, \"x\": [1.25142], \"xaxis\": \"x\", \"y\": [0.41474], \"yaxis\": \"y\", \"type\": \"scatter\"}, {\"hovertemplate\": \"Country=Indonesia<br>Year=2016<br>Economy (GDP per Capita)=%{marker.size}<br>Generosity=%{y}<extra></extra>\", \"ids\": [\"Indonesia\"], \"legendgroup\": \"Indonesia\", \"marker\": {\"color\": \"#ab63fa\", \"size\": [0.95104], \"sizemode\": \"area\", \"sizeref\": 0.007521234088473867, \"symbol\": \"circle\"}, \"mode\": \"markers\", \"name\": \"Indonesia\", \"showlegend\": true, \"x\": [0.95104], \"xaxis\": \"x\", \"y\": [0.56521], \"yaxis\": \"y\", \"type\": \"scatter\"}, {\"hovertemplate\": \"Country=Vietnam<br>Year=2016<br>Economy (GDP per Capita)=%{marker.size}<br>Generosity=%{y}<extra></extra>\", \"ids\": [\"Vietnam\"], \"legendgroup\": \"Vietnam\", \"marker\": {\"color\": \"#FFA15A\", \"size\": [0.74037], \"sizemode\": \"area\", \"sizeref\": 0.007521234088473867, \"symbol\": \"circle\"}, \"mode\": \"markers\", \"name\": \"Vietnam\", \"showlegend\": true, \"x\": [0.74037], \"xaxis\": \"x\", \"y\": [0.25075], \"yaxis\": \"y\", \"type\": \"scatter\"}, {\"hovertemplate\": \"Country=Bhutan<br>Year=2016<br>Economy (GDP per Capita)=%{marker.size}<br>Generosity=%{y}<extra></extra>\", \"ids\": [\"Bhutan\"], \"legendgroup\": \"Bhutan\", \"marker\": {\"color\": \"#19d3f3\", \"size\": [0.8527], \"sizemode\": \"area\", \"sizeref\": 0.007521234088473867, \"symbol\": \"circle\"}, \"mode\": \"markers\", \"name\": \"Bhutan\", \"showlegend\": true, \"x\": [0.8527], \"xaxis\": \"x\", \"y\": [0.4854600000000001], \"yaxis\": \"y\", \"type\": \"scatter\"}, {\"hovertemplate\": \"Country=Pakistan<br>Year=2016<br>Economy (GDP per Capita)=%{marker.size}<br>Generosity=%{y}<extra></extra>\", \"ids\": [\"Pakistan\"], \"legendgroup\": \"Pakistan\", \"marker\": {\"color\": \"#FF6692\", \"size\": [0.68816], \"sizemode\": \"area\", \"sizeref\": 0.007521234088473867, \"symbol\": \"circle\"}, \"mode\": \"markers\", \"name\": \"Pakistan\", \"showlegend\": true, \"x\": [0.68816], \"xaxis\": \"x\", \"y\": [0.31185], \"yaxis\": \"y\", \"type\": \"scatter\"}, {\"hovertemplate\": \"Country=Philippines<br>Year=2016<br>Economy (GDP per Capita)=%{marker.size}<br>Generosity=%{y}<extra></extra>\", \"ids\": [\"Philippines\"], \"legendgroup\": \"Philippines\", \"marker\": {\"color\": \"#B6E880\", \"size\": [0.81217], \"sizemode\": \"area\", \"sizeref\": 0.007521234088473867, \"symbol\": \"circle\"}, \"mode\": \"markers\", \"name\": \"Philippines\", \"showlegend\": true, \"x\": [0.81217], \"xaxis\": \"x\", \"y\": [0.21674], \"yaxis\": \"y\", \"type\": \"scatter\"}, {\"hovertemplate\": \"Country=Laos<br>Year=2016<br>Economy (GDP per Capita)=%{marker.size}<br>Generosity=%{y}<extra></extra>\", \"ids\": [\"Laos\"], \"legendgroup\": \"Laos\", \"marker\": {\"color\": \"#FF97FF\", \"size\": [0.68042], \"sizemode\": \"area\", \"sizeref\": 0.007521234088473867, \"symbol\": \"circle\"}, \"mode\": \"markers\", \"name\": \"Laos\", \"showlegend\": true, \"x\": [0.68042], \"xaxis\": \"x\", \"y\": [0.43079], \"yaxis\": \"y\", \"type\": \"scatter\"}, {\"hovertemplate\": \"Country=Bangladesh<br>Year=2016<br>Economy (GDP per Capita)=%{marker.size}<br>Generosity=%{y}<extra></extra>\", \"ids\": [\"Bangladesh\"], \"legendgroup\": \"Bangladesh\", \"marker\": {\"color\": \"#FECB52\", \"size\": [0.54177], \"sizemode\": \"area\", \"sizeref\": 0.007521234088473867, \"symbol\": \"circle\"}, \"mode\": \"markers\", \"name\": \"Bangladesh\", \"showlegend\": true, \"x\": [0.54177], \"xaxis\": \"x\", \"y\": [0.19132], \"yaxis\": \"y\", \"type\": \"scatter\"}, {\"hovertemplate\": \"Country=India<br>Year=2016<br>Economy (GDP per Capita)=%{marker.size}<br>Generosity=%{y}<extra></extra>\", \"ids\": [\"India\"], \"legendgroup\": \"India\", \"marker\": {\"color\": \"#636efa\", \"size\": [0.74036], \"sizemode\": \"area\", \"sizeref\": 0.007521234088473867, \"symbol\": \"circle\"}, \"mode\": \"markers\", \"name\": \"India\", \"showlegend\": true, \"x\": [0.74036], \"xaxis\": \"x\", \"y\": [0.25028], \"yaxis\": \"y\", \"type\": \"scatter\"}, {\"hovertemplate\": \"Country=Nepal<br>Year=2016<br>Economy (GDP per Capita)=%{marker.size}<br>Generosity=%{y}<extra></extra>\", \"ids\": [\"Nepal\"], \"legendgroup\": \"Nepal\", \"marker\": {\"color\": \"#EF553B\", \"size\": [0.4462600000000001], \"sizemode\": \"area\", \"sizeref\": 0.007521234088473867, \"symbol\": \"circle\"}, \"mode\": \"markers\", \"name\": \"Nepal\", \"showlegend\": true, \"x\": [0.4462600000000001], \"xaxis\": \"x\", \"y\": [0.3816], \"yaxis\": \"y\", \"type\": \"scatter\"}, {\"hovertemplate\": \"Country=Myanmar<br>Year=2016<br>Economy (GDP per Capita)=%{marker.size}<br>Generosity=%{y}<extra></extra>\", \"ids\": [\"Myanmar\"], \"legendgroup\": \"Myanmar\", \"marker\": {\"color\": \"#00cc96\", \"size\": [0.34112], \"sizemode\": \"area\", \"sizeref\": 0.007521234088473867, \"symbol\": \"circle\"}, \"mode\": \"markers\", \"name\": \"Myanmar\", \"showlegend\": true, \"x\": [0.34112], \"xaxis\": \"x\", \"y\": [0.81971], \"yaxis\": \"y\", \"type\": \"scatter\"}, {\"hovertemplate\": \"Country=Sri Lanka<br>Year=2016<br>Economy (GDP per Capita)=%{marker.size}<br>Generosity=%{y}<extra></extra>\", \"ids\": [\"Sri Lanka\"], \"legendgroup\": \"Sri Lanka\", \"marker\": {\"color\": \"#ab63fa\", \"size\": [0.97318], \"sizemode\": \"area\", \"sizeref\": 0.007521234088473867, \"symbol\": \"circle\"}, \"mode\": \"markers\", \"name\": \"Sri Lanka\", \"showlegend\": true, \"x\": [0.97318], \"xaxis\": \"x\", \"y\": [0.46978], \"yaxis\": \"y\", \"type\": \"scatter\"}, {\"hovertemplate\": \"Country=Cambodia<br>Year=2016<br>Economy (GDP per Capita)=%{marker.size}<br>Generosity=%{y}<extra></extra>\", \"ids\": [\"Cambodia\"], \"legendgroup\": \"Cambodia\", \"marker\": {\"color\": \"#FFA15A\", \"size\": [0.55604], \"sizemode\": \"area\", \"sizeref\": 0.007521234088473867, \"symbol\": \"circle\"}, \"mode\": \"markers\", \"name\": \"Cambodia\", \"showlegend\": true, \"x\": [0.55604], \"xaxis\": \"x\", \"y\": [0.40339], \"yaxis\": \"y\", \"type\": \"scatter\"}, {\"hovertemplate\": \"Country=Afghanistan<br>Year=2016<br>Economy (GDP per Capita)=%{marker.size}<br>Generosity=%{y}<extra></extra>\", \"ids\": [\"Afghanistan\"], \"legendgroup\": \"Afghanistan\", \"marker\": {\"color\": \"#19d3f3\", \"size\": [0.38227], \"sizemode\": \"area\", \"sizeref\": 0.007521234088473867, \"symbol\": \"circle\"}, \"mode\": \"markers\", \"name\": \"Afghanistan\", \"showlegend\": true, \"x\": [0.38227], \"xaxis\": \"x\", \"y\": [0.31268], \"yaxis\": \"y\", \"type\": \"scatter\"}], \"name\": \"2016\"}, {\"data\": [{\"hovertemplate\": \"Country=Singapore<br>Year=2017<br>Economy (GDP per Capita)=%{marker.size}<br>Generosity=%{y}<extra></extra>\", \"ids\": [\"Singapore\"], \"legendgroup\": \"Singapore\", \"marker\": {\"color\": \"#636efa\", \"size\": [1.69227766990662], \"sizemode\": \"area\", \"sizeref\": 0.007521234088473867, \"symbol\": \"circle\"}, \"mode\": \"markers\", \"name\": \"Singapore\", \"showlegend\": true, \"x\": [1.69227766990662], \"xaxis\": \"x\", \"y\": [0.46430778503418], \"yaxis\": \"y\", \"type\": \"scatter\"}, {\"hovertemplate\": \"Country=Thailand<br>Year=2017<br>Economy (GDP per Capita)=%{marker.size}<br>Generosity=%{y}<extra></extra>\", \"ids\": [\"Thailand\"], \"legendgroup\": \"Thailand\", \"marker\": {\"color\": \"#EF553B\", \"size\": [1.12786877155304], \"sizemode\": \"area\", \"sizeref\": 0.007521234088473867, \"symbol\": \"circle\"}, \"mode\": \"markers\", \"name\": \"Thailand\", \"showlegend\": true, \"x\": [1.12786877155304], \"xaxis\": \"x\", \"y\": [0.0316127352416515], \"yaxis\": \"y\", \"type\": \"scatter\"}, {\"hovertemplate\": \"Country=Malaysia<br>Year=2017<br>Economy (GDP per Capita)=%{marker.size}<br>Generosity=%{y}<extra></extra>\", \"ids\": [\"Malaysia\"], \"legendgroup\": \"Malaysia\", \"marker\": {\"color\": \"#00cc96\", \"size\": [1.29121541976929], \"sizemode\": \"area\", \"sizeref\": 0.007521234088473867, \"symbol\": \"circle\"}, \"mode\": \"markers\", \"name\": \"Malaysia\", \"showlegend\": true, \"x\": [1.29121541976929], \"xaxis\": \"x\", \"y\": [0.0656007081270218], \"yaxis\": \"y\", \"type\": \"scatter\"}, {\"hovertemplate\": \"Country=Indonesia<br>Year=2017<br>Economy (GDP per Capita)=%{marker.size}<br>Generosity=%{y}<extra></extra>\", \"ids\": [\"Indonesia\"], \"legendgroup\": \"Indonesia\", \"marker\": {\"color\": \"#ab63fa\", \"size\": [0.995538592338562], \"sizemode\": \"area\", \"sizeref\": 0.007521234088473867, \"symbol\": \"circle\"}, \"mode\": \"markers\", \"name\": \"Indonesia\", \"showlegend\": true, \"x\": [0.995538592338562], \"xaxis\": \"x\", \"y\": [0.0153171354904771], \"yaxis\": \"y\", \"type\": \"scatter\"}, {\"hovertemplate\": \"Country=Vietnam<br>Year=2017<br>Economy (GDP per Capita)=%{marker.size}<br>Generosity=%{y}<extra></extra>\", \"ids\": [\"Vietnam\"], \"legendgroup\": \"Vietnam\", \"marker\": {\"color\": \"#FFA15A\", \"size\": [0.7885475754737851], \"sizemode\": \"area\", \"sizeref\": 0.007521234088473867, \"symbol\": \"circle\"}, \"mode\": \"markers\", \"name\": \"Vietnam\", \"showlegend\": true, \"x\": [0.7885475754737851], \"xaxis\": \"x\", \"y\": [0.0876332372426987], \"yaxis\": \"y\", \"type\": \"scatter\"}, {\"hovertemplate\": \"Country=Bhutan<br>Year=2017<br>Economy (GDP per Capita)=%{marker.size}<br>Generosity=%{y}<extra></extra>\", \"ids\": [\"Bhutan\"], \"legendgroup\": \"Bhutan\", \"marker\": {\"color\": \"#19d3f3\", \"size\": [0.885416388511658], \"sizemode\": \"area\", \"sizeref\": 0.007521234088473867, \"symbol\": \"circle\"}, \"mode\": \"markers\", \"name\": \"Bhutan\", \"showlegend\": true, \"x\": [0.885416388511658], \"xaxis\": \"x\", \"y\": [0.17338038980960802], \"yaxis\": \"y\", \"type\": \"scatter\"}, {\"hovertemplate\": \"Country=Pakistan<br>Year=2017<br>Economy (GDP per Capita)=%{marker.size}<br>Generosity=%{y}<extra></extra>\", \"ids\": [\"Pakistan\"], \"legendgroup\": \"Pakistan\", \"marker\": {\"color\": \"#FF6692\", \"size\": [0.7268835306167599], \"sizemode\": \"area\", \"sizeref\": 0.007521234088473867, \"symbol\": \"circle\"}, \"mode\": \"markers\", \"name\": \"Pakistan\", \"showlegend\": true, \"x\": [0.7268835306167599], \"xaxis\": \"x\", \"y\": [0.124348066747189], \"yaxis\": \"y\", \"type\": \"scatter\"}, {\"hovertemplate\": \"Country=Philippines<br>Year=2017<br>Economy (GDP per Capita)=%{marker.size}<br>Generosity=%{y}<extra></extra>\", \"ids\": [\"Philippines\"], \"legendgroup\": \"Philippines\", \"marker\": {\"color\": \"#B6E880\", \"size\": [0.85769921541214], \"sizemode\": \"area\", \"sizeref\": 0.007521234088473867, \"symbol\": \"circle\"}, \"mode\": \"markers\", \"name\": \"Philippines\", \"showlegend\": true, \"x\": [0.85769921541214], \"xaxis\": \"x\", \"y\": [0.0993318930268288], \"yaxis\": \"y\", \"type\": \"scatter\"}, {\"hovertemplate\": \"Country=Bangladesh<br>Year=2017<br>Economy (GDP per Capita)=%{marker.size}<br>Generosity=%{y}<extra></extra>\", \"ids\": [\"Bangladesh\"], \"legendgroup\": \"Bangladesh\", \"marker\": {\"color\": \"#FECB52\", \"size\": [0.586682975292206], \"sizemode\": \"area\", \"sizeref\": 0.007521234088473867, \"symbol\": \"circle\"}, \"mode\": \"markers\", \"name\": \"Bangladesh\", \"showlegend\": true, \"x\": [0.586682975292206], \"xaxis\": \"x\", \"y\": [0.123717859387398], \"yaxis\": \"y\", \"type\": \"scatter\"}, {\"hovertemplate\": \"Country=India<br>Year=2017<br>Economy (GDP per Capita)=%{marker.size}<br>Generosity=%{y}<extra></extra>\", \"ids\": [\"India\"], \"legendgroup\": \"India\", \"marker\": {\"color\": \"#636efa\", \"size\": [0.7922212481498722], \"sizemode\": \"area\", \"sizeref\": 0.007521234088473867, \"symbol\": \"circle\"}, \"mode\": \"markers\", \"name\": \"India\", \"showlegend\": true, \"x\": [0.7922212481498722], \"xaxis\": \"x\", \"y\": [0.0922268852591515], \"yaxis\": \"y\", \"type\": \"scatter\"}, {\"hovertemplate\": \"Country=Nepal<br>Year=2017<br>Economy (GDP per Capita)=%{marker.size}<br>Generosity=%{y}<extra></extra>\", \"ids\": [\"Nepal\"], \"legendgroup\": \"Nepal\", \"marker\": {\"color\": \"#EF553B\", \"size\": [0.479820191860199], \"sizemode\": \"area\", \"sizeref\": 0.007521234088473867, \"symbol\": \"circle\"}, \"mode\": \"markers\", \"name\": \"Nepal\", \"showlegend\": true, \"x\": [0.479820191860199], \"xaxis\": \"x\", \"y\": [0.0729755461215973], \"yaxis\": \"y\", \"type\": \"scatter\"}, {\"hovertemplate\": \"Country=Myanmar<br>Year=2017<br>Economy (GDP per Capita)=%{marker.size}<br>Generosity=%{y}<extra></extra>\", \"ids\": [\"Myanmar\"], \"legendgroup\": \"Myanmar\", \"marker\": {\"color\": \"#00cc96\", \"size\": [0.36711055040359497], \"sizemode\": \"area\", \"sizeref\": 0.007521234088473867, \"symbol\": \"circle\"}, \"mode\": \"markers\", \"name\": \"Myanmar\", \"showlegend\": true, \"x\": [0.36711055040359497], \"xaxis\": \"x\", \"y\": [0.188816204667091], \"yaxis\": \"y\", \"type\": \"scatter\"}, {\"hovertemplate\": \"Country=Sri Lanka<br>Year=2017<br>Economy (GDP per Capita)=%{marker.size}<br>Generosity=%{y}<extra></extra>\", \"ids\": [\"Sri Lanka\"], \"legendgroup\": \"Sri Lanka\", \"marker\": {\"color\": \"#ab63fa\", \"size\": [1.00985014438629], \"sizemode\": \"area\", \"sizeref\": 0.007521234088473867, \"symbol\": \"circle\"}, \"mode\": \"markers\", \"name\": \"Sri Lanka\", \"showlegend\": true, \"x\": [1.00985014438629], \"xaxis\": \"x\", \"y\": [0.0736539661884308], \"yaxis\": \"y\", \"type\": \"scatter\"}, {\"hovertemplate\": \"Country=Cambodia<br>Year=2017<br>Economy (GDP per Capita)=%{marker.size}<br>Generosity=%{y}<extra></extra>\", \"ids\": [\"Cambodia\"], \"legendgroup\": \"Cambodia\", \"marker\": {\"color\": \"#FFA15A\", \"size\": [0.6017650961875921], \"sizemode\": \"area\", \"sizeref\": 0.007521234088473867, \"symbol\": \"circle\"}, \"mode\": \"markers\", \"name\": \"Cambodia\", \"showlegend\": true, \"x\": [0.6017650961875921], \"xaxis\": \"x\", \"y\": [0.0681059509515762], \"yaxis\": \"y\", \"type\": \"scatter\"}, {\"hovertemplate\": \"Country=Afghanistan<br>Year=2017<br>Economy (GDP per Capita)=%{marker.size}<br>Generosity=%{y}<extra></extra>\", \"ids\": [\"Afghanistan\"], \"legendgroup\": \"Afghanistan\", \"marker\": {\"color\": \"#19d3f3\", \"size\": [0.401477217674255], \"sizemode\": \"area\", \"sizeref\": 0.007521234088473867, \"symbol\": \"circle\"}, \"mode\": \"markers\", \"name\": \"Afghanistan\", \"showlegend\": true, \"x\": [0.401477217674255], \"xaxis\": \"x\", \"y\": [0.0611578300595284], \"yaxis\": \"y\", \"type\": \"scatter\"}], \"name\": \"2017\"}, {\"data\": [{\"hovertemplate\": \"Country=Singapore<br>Year=2018<br>Economy (GDP per Capita)=%{marker.size}<br>Generosity=%{y}<extra></extra>\", \"ids\": [\"Singapore\"], \"legendgroup\": \"Singapore\", \"marker\": {\"color\": \"#636efa\", \"size\": [1.529], \"sizemode\": \"area\", \"sizeref\": 0.007521234088473867, \"symbol\": \"circle\"}, \"mode\": \"markers\", \"name\": \"Singapore\", \"showlegend\": true, \"x\": [1.529], \"xaxis\": \"x\", \"y\": [0.261], \"yaxis\": \"y\", \"type\": \"scatter\"}, {\"hovertemplate\": \"Country=Thailand<br>Year=2018<br>Economy (GDP per Capita)=%{marker.size}<br>Generosity=%{y}<extra></extra>\", \"ids\": [\"Thailand\"], \"legendgroup\": \"Thailand\", \"marker\": {\"color\": \"#EF553B\", \"size\": [1.016], \"sizemode\": \"area\", \"sizeref\": 0.007521234088473867, \"symbol\": \"circle\"}, \"mode\": \"markers\", \"name\": \"Thailand\", \"showlegend\": true, \"x\": [1.016], \"xaxis\": \"x\", \"y\": [0.364], \"yaxis\": \"y\", \"type\": \"scatter\"}, {\"hovertemplate\": \"Country=Malaysia<br>Year=2018<br>Economy (GDP per Capita)=%{marker.size}<br>Generosity=%{y}<extra></extra>\", \"ids\": [\"Malaysia\"], \"legendgroup\": \"Malaysia\", \"marker\": {\"color\": \"#00cc96\", \"size\": [1.161], \"sizemode\": \"area\", \"sizeref\": 0.007521234088473867, \"symbol\": \"circle\"}, \"mode\": \"markers\", \"name\": \"Malaysia\", \"showlegend\": true, \"x\": [1.161], \"xaxis\": \"x\", \"y\": [0.311], \"yaxis\": \"y\", \"type\": \"scatter\"}, {\"hovertemplate\": \"Country=Indonesia<br>Year=2018<br>Economy (GDP per Capita)=%{marker.size}<br>Generosity=%{y}<extra></extra>\", \"ids\": [\"Indonesia\"], \"legendgroup\": \"Indonesia\", \"marker\": {\"color\": \"#ab63fa\", \"size\": [0.899], \"sizemode\": \"area\", \"sizeref\": 0.007521234088473867, \"symbol\": \"circle\"}, \"mode\": \"markers\", \"name\": \"Indonesia\", \"showlegend\": true, \"x\": [0.899], \"xaxis\": \"x\", \"y\": [0.484], \"yaxis\": \"y\", \"type\": \"scatter\"}, {\"hovertemplate\": \"Country=Vietnam<br>Year=2018<br>Economy (GDP per Capita)=%{marker.size}<br>Generosity=%{y}<extra></extra>\", \"ids\": [\"Vietnam\"], \"legendgroup\": \"Vietnam\", \"marker\": {\"color\": \"#FFA15A\", \"size\": [0.715], \"sizemode\": \"area\", \"sizeref\": 0.007521234088473867, \"symbol\": \"circle\"}, \"mode\": \"markers\", \"name\": \"Vietnam\", \"showlegend\": true, \"x\": [0.715], \"xaxis\": \"x\", \"y\": [0.177], \"yaxis\": \"y\", \"type\": \"scatter\"}, {\"hovertemplate\": \"Country=Bhutan<br>Year=2018<br>Economy (GDP per Capita)=%{marker.size}<br>Generosity=%{y}<extra></extra>\", \"ids\": [\"Bhutan\"], \"legendgroup\": \"Bhutan\", \"marker\": {\"color\": \"#19d3f3\", \"size\": [0.7959999999999999], \"sizemode\": \"area\", \"sizeref\": 0.007521234088473867, \"symbol\": \"circle\"}, \"mode\": \"markers\", \"name\": \"Bhutan\", \"showlegend\": true, \"x\": [0.7959999999999999], \"xaxis\": \"x\", \"y\": [0.364], \"yaxis\": \"y\", \"type\": \"scatter\"}, {\"hovertemplate\": \"Country=Pakistan<br>Year=2018<br>Economy (GDP per Capita)=%{marker.size}<br>Generosity=%{y}<extra></extra>\", \"ids\": [\"Pakistan\"], \"legendgroup\": \"Pakistan\", \"marker\": {\"color\": \"#FF6692\", \"size\": [0.652], \"sizemode\": \"area\", \"sizeref\": 0.007521234088473867, \"symbol\": \"circle\"}, \"mode\": \"markers\", \"name\": \"Pakistan\", \"showlegend\": true, \"x\": [0.652], \"xaxis\": \"x\", \"y\": [0.21600000000000005], \"yaxis\": \"y\", \"type\": \"scatter\"}, {\"hovertemplate\": \"Country=Philippines<br>Year=2018<br>Economy (GDP per Capita)=%{marker.size}<br>Generosity=%{y}<extra></extra>\", \"ids\": [\"Philippines\"], \"legendgroup\": \"Philippines\", \"marker\": {\"color\": \"#B6E880\", \"size\": [0.775], \"sizemode\": \"area\", \"sizeref\": 0.007521234088473867, \"symbol\": \"circle\"}, \"mode\": \"markers\", \"name\": \"Philippines\", \"showlegend\": true, \"x\": [0.775], \"xaxis\": \"x\", \"y\": [0.12], \"yaxis\": \"y\", \"type\": \"scatter\"}, {\"hovertemplate\": \"Country=Laos<br>Year=2018<br>Economy (GDP per Capita)=%{marker.size}<br>Generosity=%{y}<extra></extra>\", \"ids\": [\"Laos\"], \"legendgroup\": \"Laos\", \"marker\": {\"color\": \"#FF97FF\", \"size\": [0.72], \"sizemode\": \"area\", \"sizeref\": 0.007521234088473867, \"symbol\": \"circle\"}, \"mode\": \"markers\", \"name\": \"Laos\", \"showlegend\": true, \"x\": [0.72], \"xaxis\": \"x\", \"y\": [0.23], \"yaxis\": \"y\", \"type\": \"scatter\"}, {\"hovertemplate\": \"Country=Bangladesh<br>Year=2018<br>Economy (GDP per Capita)=%{marker.size}<br>Generosity=%{y}<extra></extra>\", \"ids\": [\"Bangladesh\"], \"legendgroup\": \"Bangladesh\", \"marker\": {\"color\": \"#FECB52\", \"size\": [0.532], \"sizemode\": \"area\", \"sizeref\": 0.007521234088473867, \"symbol\": \"circle\"}, \"mode\": \"markers\", \"name\": \"Bangladesh\", \"showlegend\": true, \"x\": [0.532], \"xaxis\": \"x\", \"y\": [0.153], \"yaxis\": \"y\", \"type\": \"scatter\"}, {\"hovertemplate\": \"Country=India<br>Year=2018<br>Economy (GDP per Capita)=%{marker.size}<br>Generosity=%{y}<extra></extra>\", \"ids\": [\"India\"], \"legendgroup\": \"India\", \"marker\": {\"color\": \"#636efa\", \"size\": [0.721], \"sizemode\": \"area\", \"sizeref\": 0.007521234088473867, \"symbol\": \"circle\"}, \"mode\": \"markers\", \"name\": \"India\", \"showlegend\": true, \"x\": [0.721], \"xaxis\": \"x\", \"y\": [0.172], \"yaxis\": \"y\", \"type\": \"scatter\"}, {\"hovertemplate\": \"Country=Nepal<br>Year=2018<br>Economy (GDP per Capita)=%{marker.size}<br>Generosity=%{y}<extra></extra>\", \"ids\": [\"Nepal\"], \"legendgroup\": \"Nepal\", \"marker\": {\"color\": \"#EF553B\", \"size\": [0.425], \"sizemode\": \"area\", \"sizeref\": 0.007521234088473867, \"symbol\": \"circle\"}, \"mode\": \"markers\", \"name\": \"Nepal\", \"showlegend\": true, \"x\": [0.425], \"xaxis\": \"x\", \"y\": [0.302], \"yaxis\": \"y\", \"type\": \"scatter\"}, {\"hovertemplate\": \"Country=Myanmar<br>Year=2018<br>Economy (GDP per Capita)=%{marker.size}<br>Generosity=%{y}<extra></extra>\", \"ids\": [\"Myanmar\"], \"legendgroup\": \"Myanmar\", \"marker\": {\"color\": \"#00cc96\", \"size\": [0.682], \"sizemode\": \"area\", \"sizeref\": 0.007521234088473867, \"symbol\": \"circle\"}, \"mode\": \"markers\", \"name\": \"Myanmar\", \"showlegend\": true, \"x\": [0.682], \"xaxis\": \"x\", \"y\": [0.598], \"yaxis\": \"y\", \"type\": \"scatter\"}, {\"hovertemplate\": \"Country=Sri Lanka<br>Year=2018<br>Economy (GDP per Capita)=%{marker.size}<br>Generosity=%{y}<extra></extra>\", \"ids\": [\"Sri Lanka\"], \"legendgroup\": \"Sri Lanka\", \"marker\": {\"color\": \"#ab63fa\", \"size\": [0.918], \"sizemode\": \"area\", \"sizeref\": 0.007521234088473867, \"symbol\": \"circle\"}, \"mode\": \"markers\", \"name\": \"Sri Lanka\", \"showlegend\": true, \"x\": [0.918], \"xaxis\": \"x\", \"y\": [0.307], \"yaxis\": \"y\", \"type\": \"scatter\"}, {\"hovertemplate\": \"Country=Cambodia<br>Year=2018<br>Economy (GDP per Capita)=%{marker.size}<br>Generosity=%{y}<extra></extra>\", \"ids\": [\"Cambodia\"], \"legendgroup\": \"Cambodia\", \"marker\": {\"color\": \"#FFA15A\", \"size\": [0.5489999999999999], \"sizemode\": \"area\", \"sizeref\": 0.007521234088473867, \"symbol\": \"circle\"}, \"mode\": \"markers\", \"name\": \"Cambodia\", \"showlegend\": true, \"x\": [0.5489999999999999], \"xaxis\": \"x\", \"y\": [0.256], \"yaxis\": \"y\", \"type\": \"scatter\"}, {\"hovertemplate\": \"Country=Afghanistan<br>Year=2018<br>Economy (GDP per Capita)=%{marker.size}<br>Generosity=%{y}<extra></extra>\", \"ids\": [\"Afghanistan\"], \"legendgroup\": \"Afghanistan\", \"marker\": {\"color\": \"#19d3f3\", \"size\": [0.332], \"sizemode\": \"area\", \"sizeref\": 0.007521234088473867, \"symbol\": \"circle\"}, \"mode\": \"markers\", \"name\": \"Afghanistan\", \"showlegend\": true, \"x\": [0.332], \"xaxis\": \"x\", \"y\": [0.191], \"yaxis\": \"y\", \"type\": \"scatter\"}], \"name\": \"2018\"}, {\"data\": [{\"hovertemplate\": \"Country=Singapore<br>Year=2019<br>Economy (GDP per Capita)=%{marker.size}<br>Generosity=%{y}<extra></extra>\", \"ids\": [\"Singapore\"], \"legendgroup\": \"Singapore\", \"marker\": {\"color\": \"#636efa\", \"size\": [1.5719999999999998], \"sizemode\": \"area\", \"sizeref\": 0.007521234088473867, \"symbol\": \"circle\"}, \"mode\": \"markers\", \"name\": \"Singapore\", \"showlegend\": true, \"x\": [1.5719999999999998], \"xaxis\": \"x\", \"y\": [0.271], \"yaxis\": \"y\", \"type\": \"scatter\"}, {\"hovertemplate\": \"Country=Thailand<br>Year=2019<br>Economy (GDP per Capita)=%{marker.size}<br>Generosity=%{y}<extra></extra>\", \"ids\": [\"Thailand\"], \"legendgroup\": \"Thailand\", \"marker\": {\"color\": \"#EF553B\", \"size\": [1.05], \"sizemode\": \"area\", \"sizeref\": 0.007521234088473867, \"symbol\": \"circle\"}, \"mode\": \"markers\", \"name\": \"Thailand\", \"showlegend\": true, \"x\": [1.05], \"xaxis\": \"x\", \"y\": [0.359], \"yaxis\": \"y\", \"type\": \"scatter\"}, {\"hovertemplate\": \"Country=Malaysia<br>Year=2019<br>Economy (GDP per Capita)=%{marker.size}<br>Generosity=%{y}<extra></extra>\", \"ids\": [\"Malaysia\"], \"legendgroup\": \"Malaysia\", \"marker\": {\"color\": \"#00cc96\", \"size\": [1.221], \"sizemode\": \"area\", \"sizeref\": 0.007521234088473867, \"symbol\": \"circle\"}, \"mode\": \"markers\", \"name\": \"Malaysia\", \"showlegend\": true, \"x\": [1.221], \"xaxis\": \"x\", \"y\": [0.26], \"yaxis\": \"y\", \"type\": \"scatter\"}, {\"hovertemplate\": \"Country=Indonesia<br>Year=2019<br>Economy (GDP per Capita)=%{marker.size}<br>Generosity=%{y}<extra></extra>\", \"ids\": [\"Indonesia\"], \"legendgroup\": \"Indonesia\", \"marker\": {\"color\": \"#ab63fa\", \"size\": [0.931], \"sizemode\": \"area\", \"sizeref\": 0.007521234088473867, \"symbol\": \"circle\"}, \"mode\": \"markers\", \"name\": \"Indonesia\", \"showlegend\": true, \"x\": [0.931], \"xaxis\": \"x\", \"y\": [0.498], \"yaxis\": \"y\", \"type\": \"scatter\"}, {\"hovertemplate\": \"Country=Vietnam<br>Year=2019<br>Economy (GDP per Capita)=%{marker.size}<br>Generosity=%{y}<extra></extra>\", \"ids\": [\"Vietnam\"], \"legendgroup\": \"Vietnam\", \"marker\": {\"color\": \"#FFA15A\", \"size\": [0.741], \"sizemode\": \"area\", \"sizeref\": 0.007521234088473867, \"symbol\": \"circle\"}, \"mode\": \"markers\", \"name\": \"Vietnam\", \"showlegend\": true, \"x\": [0.741], \"xaxis\": \"x\", \"y\": [0.147], \"yaxis\": \"y\", \"type\": \"scatter\"}, {\"hovertemplate\": \"Country=Bhutan<br>Year=2019<br>Economy (GDP per Capita)=%{marker.size}<br>Generosity=%{y}<extra></extra>\", \"ids\": [\"Bhutan\"], \"legendgroup\": \"Bhutan\", \"marker\": {\"color\": \"#19d3f3\", \"size\": [0.813], \"sizemode\": \"area\", \"sizeref\": 0.007521234088473867, \"symbol\": \"circle\"}, \"mode\": \"markers\", \"name\": \"Bhutan\", \"showlegend\": true, \"x\": [0.813], \"xaxis\": \"x\", \"y\": [0.37], \"yaxis\": \"y\", \"type\": \"scatter\"}, {\"hovertemplate\": \"Country=Pakistan<br>Year=2019<br>Economy (GDP per Capita)=%{marker.size}<br>Generosity=%{y}<extra></extra>\", \"ids\": [\"Pakistan\"], \"legendgroup\": \"Pakistan\", \"marker\": {\"color\": \"#FF6692\", \"size\": [0.677], \"sizemode\": \"area\", \"sizeref\": 0.007521234088473867, \"symbol\": \"circle\"}, \"mode\": \"markers\", \"name\": \"Pakistan\", \"showlegend\": true, \"x\": [0.677], \"xaxis\": \"x\", \"y\": [0.22], \"yaxis\": \"y\", \"type\": \"scatter\"}, {\"hovertemplate\": \"Country=Philippines<br>Year=2019<br>Economy (GDP per Capita)=%{marker.size}<br>Generosity=%{y}<extra></extra>\", \"ids\": [\"Philippines\"], \"legendgroup\": \"Philippines\", \"marker\": {\"color\": \"#B6E880\", \"size\": [0.807], \"sizemode\": \"area\", \"sizeref\": 0.007521234088473867, \"symbol\": \"circle\"}, \"mode\": \"markers\", \"name\": \"Philippines\", \"showlegend\": true, \"x\": [0.807], \"xaxis\": \"x\", \"y\": [0.117], \"yaxis\": \"y\", \"type\": \"scatter\"}, {\"hovertemplate\": \"Country=Laos<br>Year=2019<br>Economy (GDP per Capita)=%{marker.size}<br>Generosity=%{y}<extra></extra>\", \"ids\": [\"Laos\"], \"legendgroup\": \"Laos\", \"marker\": {\"color\": \"#FF97FF\", \"size\": [0.764], \"sizemode\": \"area\", \"sizeref\": 0.007521234088473867, \"symbol\": \"circle\"}, \"mode\": \"markers\", \"name\": \"Laos\", \"showlegend\": true, \"x\": [0.764], \"xaxis\": \"x\", \"y\": [0.266], \"yaxis\": \"y\", \"type\": \"scatter\"}, {\"hovertemplate\": \"Country=Bangladesh<br>Year=2019<br>Economy (GDP per Capita)=%{marker.size}<br>Generosity=%{y}<extra></extra>\", \"ids\": [\"Bangladesh\"], \"legendgroup\": \"Bangladesh\", \"marker\": {\"color\": \"#FECB52\", \"size\": [0.562], \"sizemode\": \"area\", \"sizeref\": 0.007521234088473867, \"symbol\": \"circle\"}, \"mode\": \"markers\", \"name\": \"Bangladesh\", \"showlegend\": true, \"x\": [0.562], \"xaxis\": \"x\", \"y\": [0.166], \"yaxis\": \"y\", \"type\": \"scatter\"}, {\"hovertemplate\": \"Country=India<br>Year=2019<br>Economy (GDP per Capita)=%{marker.size}<br>Generosity=%{y}<extra></extra>\", \"ids\": [\"India\"], \"legendgroup\": \"India\", \"marker\": {\"color\": \"#636efa\", \"size\": [0.755], \"sizemode\": \"area\", \"sizeref\": 0.007521234088473867, \"symbol\": \"circle\"}, \"mode\": \"markers\", \"name\": \"India\", \"showlegend\": true, \"x\": [0.755], \"xaxis\": \"x\", \"y\": [0.2], \"yaxis\": \"y\", \"type\": \"scatter\"}, {\"hovertemplate\": \"Country=Nepal<br>Year=2019<br>Economy (GDP per Capita)=%{marker.size}<br>Generosity=%{y}<extra></extra>\", \"ids\": [\"Nepal\"], \"legendgroup\": \"Nepal\", \"marker\": {\"color\": \"#EF553B\", \"size\": [0.446], \"sizemode\": \"area\", \"sizeref\": 0.007521234088473867, \"symbol\": \"circle\"}, \"mode\": \"markers\", \"name\": \"Nepal\", \"showlegend\": true, \"x\": [0.446], \"xaxis\": \"x\", \"y\": [0.285], \"yaxis\": \"y\", \"type\": \"scatter\"}, {\"hovertemplate\": \"Country=Myanmar<br>Year=2019<br>Economy (GDP per Capita)=%{marker.size}<br>Generosity=%{y}<extra></extra>\", \"ids\": [\"Myanmar\"], \"legendgroup\": \"Myanmar\", \"marker\": {\"color\": \"#00cc96\", \"size\": [0.71], \"sizemode\": \"area\", \"sizeref\": 0.007521234088473867, \"symbol\": \"circle\"}, \"mode\": \"markers\", \"name\": \"Myanmar\", \"showlegend\": true, \"x\": [0.71], \"xaxis\": \"x\", \"y\": [0.5660000000000001], \"yaxis\": \"y\", \"type\": \"scatter\"}, {\"hovertemplate\": \"Country=Sri Lanka<br>Year=2019<br>Economy (GDP per Capita)=%{marker.size}<br>Generosity=%{y}<extra></extra>\", \"ids\": [\"Sri Lanka\"], \"legendgroup\": \"Sri Lanka\", \"marker\": {\"color\": \"#ab63fa\", \"size\": [0.949], \"sizemode\": \"area\", \"sizeref\": 0.007521234088473867, \"symbol\": \"circle\"}, \"mode\": \"markers\", \"name\": \"Sri Lanka\", \"showlegend\": true, \"x\": [0.949], \"xaxis\": \"x\", \"y\": [0.244], \"yaxis\": \"y\", \"type\": \"scatter\"}, {\"hovertemplate\": \"Country=Cambodia<br>Year=2019<br>Economy (GDP per Capita)=%{marker.size}<br>Generosity=%{y}<extra></extra>\", \"ids\": [\"Cambodia\"], \"legendgroup\": \"Cambodia\", \"marker\": {\"color\": \"#FFA15A\", \"size\": [0.574], \"sizemode\": \"area\", \"sizeref\": 0.007521234088473867, \"symbol\": \"circle\"}, \"mode\": \"markers\", \"name\": \"Cambodia\", \"showlegend\": true, \"x\": [0.574], \"xaxis\": \"x\", \"y\": [0.232], \"yaxis\": \"y\", \"type\": \"scatter\"}, {\"hovertemplate\": \"Country=Afghanistan<br>Year=2019<br>Economy (GDP per Capita)=%{marker.size}<br>Generosity=%{y}<extra></extra>\", \"ids\": [\"Afghanistan\"], \"legendgroup\": \"Afghanistan\", \"marker\": {\"color\": \"#19d3f3\", \"size\": [0.35], \"sizemode\": \"area\", \"sizeref\": 0.007521234088473867, \"symbol\": \"circle\"}, \"mode\": \"markers\", \"name\": \"Afghanistan\", \"showlegend\": true, \"x\": [0.35], \"xaxis\": \"x\", \"y\": [0.158], \"yaxis\": \"y\", \"type\": \"scatter\"}], \"name\": \"2019\"}]);\n",
       "                        }).then(function(){\n",
       "                            \n",
       "var gd = document.getElementById('c25d8365-a10d-40d0-b740-8efd3353d1b4');\n",
       "var x = new MutationObserver(function (mutations, observer) {{\n",
       "        var display = window.getComputedStyle(gd).display;\n",
       "        if (!display || display === 'none') {{\n",
       "            console.log([gd, 'removed!']);\n",
       "            Plotly.purge(gd);\n",
       "            observer.disconnect();\n",
       "        }}\n",
       "}});\n",
       "\n",
       "// Listen for the removal of the full notebook cells\n",
       "var notebookContainer = gd.closest('#notebook-container');\n",
       "if (notebookContainer) {{\n",
       "    x.observe(notebookContainer, {childList: true});\n",
       "}}\n",
       "\n",
       "// Listen for the clearing of the current output cell\n",
       "var outputEl = gd.closest('.output');\n",
       "if (outputEl) {{\n",
       "    x.observe(outputEl, {childList: true});\n",
       "}}\n",
       "\n",
       "                        })\n",
       "                };\n",
       "                });\n",
       "            </script>\n",
       "        </div>"
      ]
     },
     "metadata": {},
     "output_type": "display_data"
    }
   ],
   "source": [
    "## Run this plot and discuss insights\n",
    "r_x=[-0.5,max(df_asia['Trust (Government Corruption)'])+0.5]\n",
    "r_y=[-0.5,max(df_asia['Freedom'])+0.5]\n",
    "fig=px.scatter(df_asia,x='Economy (GDP per Capita)',y='Generosity',color='Country',size='Economy (GDP per Capita)', animation_frame=\"Year\", animation_group=\"Country\",\n",
    "     size_max=15,height=600,range_x=r_x,range_y=r_y)\n",
    "fig.show()"
   ]
  },
  {
   "cell_type": "markdown",
   "metadata": {},
   "source": [
    "# Statistics"
   ]
  },
  {
   "cell_type": "markdown",
   "metadata": {},
   "source": [
    "## 5. Plot Scatter_matix for numerical columns except Happiness Rank"
   ]
  },
  {
   "cell_type": "code",
   "execution_count": 13,
   "metadata": {},
   "outputs": [],
   "source": [
    "## Remember plotly insight\n",
    "# Discuss why this plot is relevant\n"
   ]
  },
  {
   "cell_type": "code",
   "execution_count": 15,
   "metadata": {},
   "outputs": [],
   "source": [
    "## Calculate the correlation for all the numerical varibles except happiness rank\n",
    "# Pick the 3 highly correlated variables to the target variable happiness score"
   ]
  },
  {
   "cell_type": "markdown",
   "metadata": {},
   "source": [
    "# Linear Regression"
   ]
  },
  {
   "cell_type": "markdown",
   "metadata": {},
   "source": [
    "Time to use what we learned last week"
   ]
  },
  {
   "cell_type": "markdown",
   "metadata": {},
   "source": [
    "## 6. Train two Models"
   ]
  },
  {
   "cell_type": "code",
   "execution_count": 17,
   "metadata": {},
   "outputs": [],
   "source": [
    "### Model 1: Only with the 3 highly correlated variables\n",
    "\n",
    "\n",
    "### Model 2: Only with all variables \n",
    "\n"
   ]
  },
  {
   "cell_type": "markdown",
   "metadata": {},
   "source": [
    "## 7. Accuracy of Models"
   ]
  },
  {
   "cell_type": "code",
   "execution_count": 19,
   "metadata": {},
   "outputs": [],
   "source": [
    "#Compare the accuracy of the two models\n",
    "# Explain the difference"
   ]
  },
  {
   "cell_type": "markdown",
   "metadata": {},
   "source": [
    "# Presentation"
   ]
  },
  {
   "cell_type": "markdown",
   "metadata": {},
   "source": [
    "In your presentation ,focus on the following:\n",
    "\n",
    "- Data transformation\n",
    "- Correlation insights\n",
    "- Two models and their accuracy\n",
    "\n",
    "Is feature selection an important step for ML modelling? "
   ]
  },
  {
   "cell_type": "code",
   "execution_count": null,
   "metadata": {},
   "outputs": [],
   "source": []
  }
 ],
 "metadata": {
  "kernelspec": {
   "display_name": "Python 3",
   "language": "python",
   "name": "python3"
  },
  "language_info": {
   "codemirror_mode": {
    "name": "ipython",
    "version": 3
   },
   "file_extension": ".py",
   "mimetype": "text/x-python",
   "name": "python",
   "nbconvert_exporter": "python",
   "pygments_lexer": "ipython3",
   "version": "3.7.3"
  }
 },
 "nbformat": 4,
 "nbformat_minor": 2
}
