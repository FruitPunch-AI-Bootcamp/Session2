{
 "cells": [
  {
   "cell_type": "markdown",
   "metadata": {},
   "source": [
    "# Data Analysis with Text"
   ]
  },
  {
   "cell_type": "markdown",
   "metadata": {},
   "source": [
    "The focus is what can be done on text data before NLP sentiment analysis. They are told to use seaborn and matplotlib only"
   ]
  },
  {
   "cell_type": "code",
   "execution_count": 1,
   "metadata": {
    "scrolled": true
   },
   "outputs": [
    {
     "name": "stderr",
     "output_type": "stream",
     "text": [
      "C:\\Users\\20193820\\AppData\\Local\\Continuum\\anaconda3\\lib\\site-packages\\statsmodels\\tools\\_testing.py:19: FutureWarning: pandas.util.testing is deprecated. Use the functions in the public API at pandas.testing instead.\n",
      "  import pandas.util.testing as tm\n"
     ]
    }
   ],
   "source": [
    "import numpy as np\n",
    "import pandas as pd\n",
    "import matplotlib.pyplot as plt\n",
    "import seaborn as sns\n",
    "import warnings\n",
    "warnings.filterwarnings('ignore')"
   ]
  },
  {
   "cell_type": "markdown",
   "metadata": {},
   "source": [
    "# Data Transformation"
   ]
  },
  {
   "cell_type": "markdown",
   "metadata": {},
   "source": [
    "They are require to load the data and order the activites by date"
   ]
  },
  {
   "cell_type": "code",
   "execution_count": 2,
   "metadata": {},
   "outputs": [
    {
     "data": {
      "text/html": [
       "<div>\n",
       "<style scoped>\n",
       "    .dataframe tbody tr th:only-of-type {\n",
       "        vertical-align: middle;\n",
       "    }\n",
       "\n",
       "    .dataframe tbody tr th {\n",
       "        vertical-align: top;\n",
       "    }\n",
       "\n",
       "    .dataframe thead th {\n",
       "        text-align: right;\n",
       "    }\n",
       "</style>\n",
       "<table border=\"1\" class=\"dataframe\">\n",
       "  <thead>\n",
       "    <tr style=\"text-align: right;\">\n",
       "      <th></th>\n",
       "      <th>Date</th>\n",
       "      <th>Activities</th>\n",
       "    </tr>\n",
       "  </thead>\n",
       "  <tbody>\n",
       "    <tr>\n",
       "      <th>10</th>\n",
       "      <td>2000-05-29 00:00:00</td>\n",
       "      <td>The following concerns a question in a physic...</td>\n",
       "    </tr>\n",
       "    <tr>\n",
       "      <th>11</th>\n",
       "      <td>2000-06-08 00:00:00</td>\n",
       "      <td>The more I work at the Student Publications b...</td>\n",
       "    </tr>\n",
       "    <tr>\n",
       "      <th>12</th>\n",
       "      <td>2000-06-07 00:00:00</td>\n",
       "      <td>urlLink PSone, the portable Sony Playstation ...</td>\n",
       "    </tr>\n",
       "    <tr>\n",
       "      <th>13</th>\n",
       "      <td>2000-06-07 00:00:00</td>\n",
       "      <td>A giant development in the world of cyberneti...</td>\n",
       "    </tr>\n",
       "    <tr>\n",
       "      <th>14</th>\n",
       "      <td>2000-06-07 00:00:00</td>\n",
       "      <td>This does not seem like much, but the implica...</td>\n",
       "    </tr>\n",
       "  </tbody>\n",
       "</table>\n",
       "</div>"
      ],
      "text/plain": [
       "                   Date                                         Activities\n",
       "10  2000-05-29 00:00:00   The following concerns a question in a physic...\n",
       "11  2000-06-08 00:00:00   The more I work at the Student Publications b...\n",
       "12  2000-06-07 00:00:00   urlLink PSone, the portable Sony Playstation ...\n",
       "13  2000-06-07 00:00:00   A giant development in the world of cyberneti...\n",
       "14  2000-06-07 00:00:00   This does not seem like much, but the implica..."
      ]
     },
     "execution_count": 2,
     "metadata": {},
     "output_type": "execute_result"
    }
   ],
   "source": [
    "df=pd.read_excel('Diary.xlsx')\n",
    "df=df.iloc[:-1,:-1]\n",
    "df.tail()"
   ]
  },
  {
   "cell_type": "markdown",
   "metadata": {},
   "source": [
    "## 1. Order the Activities"
   ]
  },
  {
   "cell_type": "code",
   "execution_count": 3,
   "metadata": {},
   "outputs": [
    {
     "data": {
      "text/html": [
       "<div>\n",
       "<style scoped>\n",
       "    .dataframe tbody tr th:only-of-type {\n",
       "        vertical-align: middle;\n",
       "    }\n",
       "\n",
       "    .dataframe tbody tr th {\n",
       "        vertical-align: top;\n",
       "    }\n",
       "\n",
       "    .dataframe thead th {\n",
       "        text-align: right;\n",
       "    }\n",
       "</style>\n",
       "<table border=\"1\" class=\"dataframe\">\n",
       "  <thead>\n",
       "    <tr style=\"text-align: right;\">\n",
       "      <th></th>\n",
       "      <th>Date</th>\n",
       "      <th>Activities</th>\n",
       "    </tr>\n",
       "  </thead>\n",
       "  <tbody>\n",
       "    <tr>\n",
       "      <th>3</th>\n",
       "      <td>2000-05-22</td>\n",
       "      <td>I can smell her now. The scent is reminiscent...</td>\n",
       "    </tr>\n",
       "    <tr>\n",
       "      <th>1</th>\n",
       "      <td>2000-05-23</td>\n",
       "      <td>urlLink Mac OS 9 versus Corel Linux ? At firs...</td>\n",
       "    </tr>\n",
       "    <tr>\n",
       "      <th>2</th>\n",
       "      <td>2000-05-23</td>\n",
       "      <td>Have they found out the urlLink mechanism for...</td>\n",
       "    </tr>\n",
       "    <tr>\n",
       "      <th>0</th>\n",
       "      <td>2000-05-24</td>\n",
       "      <td>I wish I was back in high school for this one...</td>\n",
       "    </tr>\n",
       "    <tr>\n",
       "      <th>7</th>\n",
       "      <td>2000-05-29</td>\n",
       "      <td>Last season was the first time I truly watche...</td>\n",
       "    </tr>\n",
       "  </tbody>\n",
       "</table>\n",
       "</div>"
      ],
      "text/plain": [
       "         Date                                         Activities\n",
       "3  2000-05-22   I can smell her now. The scent is reminiscent...\n",
       "1  2000-05-23   urlLink Mac OS 9 versus Corel Linux ? At firs...\n",
       "2  2000-05-23   Have they found out the urlLink mechanism for...\n",
       "0  2000-05-24   I wish I was back in high school for this one...\n",
       "7  2000-05-29   Last season was the first time I truly watche..."
      ]
     },
     "execution_count": 3,
     "metadata": {},
     "output_type": "execute_result"
    }
   ],
   "source": [
    "df['Date']=pd.to_datetime(df['Date']).dt.date\n",
    "df=df.sort_values(by='Date')\n",
    "df.head()"
   ]
  },
  {
   "cell_type": "markdown",
   "metadata": {},
   "source": [
    "# Data Visualization"
   ]
  },
  {
   "cell_type": "markdown",
   "metadata": {},
   "source": [
    "They are required to plot the countof activities a day and Build the entire story using print"
   ]
  },
  {
   "cell_type": "markdown",
   "metadata": {},
   "source": [
    "## 2. Bar chat of daily writing"
   ]
  },
  {
   "cell_type": "code",
   "execution_count": 4,
   "metadata": {},
   "outputs": [
    {
     "data": {
      "image/png": "[encoded data removed]",
      "text/plain": [
       "<Figure size 864x576 with 1 Axes>"
      ]
     },
     "metadata": {
      "needs_background": "light"
     },
     "output_type": "display_data"
    }
   ],
   "source": [
    "fig=plt.figure(figsize=(12,8))\n",
    "sns.barplot(df.Date.value_counts().index,df.Date.value_counts().values)\n",
    "fig.show()"
   ]
  },
  {
   "cell_type": "markdown",
   "metadata": {},
   "source": [
    "## 3. Build the Story"
   ]
  },
  {
   "cell_type": "code",
   "execution_count": 5,
   "metadata": {},
   "outputs": [
    {
     "name": "stdout",
     "output_type": "stream",
     "text": [
      " I can smell her now. The scent is reminiscent of a powder. Not baby powder, but a dry, mute aroma. A floral accent is present, similar to lilacs yet not as pungent. Before this, I only had one visual. The setting is always the same. Nighttime turns red to grey and yellow to white. She stands softly with her back to a wall of windows, covered mostly with draperies. It seems to be our bedroom. The visual of her is the strongest. Long, straight hair frames her oval face, giving her an intelligent air. The color black is an understatement, for her raven hair is so dark it is translucent. The contrast to her pale skin is remarkable. Though barely visible in the moonlight, her eyes burn with a comfortable evil. She is definitely my equal. Her attire is still a bit hazy. The Japanese aspects of my psyche scream out kimono, yet it could just be a simple shapeless dress she is wearing. The setting speaks that we are home for the night, or we could have just gotten home. There are many things I know, yet questions still remain. Her emotion toward me has two possibilities, she is either upset and concerned about something between us, or she has a joy in her heart boundless. The year I turn 22 is pivotal, but is it because we meet this year, or because we get married in that year? These images and soothsay swirl in my mind as a mist, never to be grasped.  \n",
      " urlLink Mac OS 9 versus Corel Linux ? At first, this \"Death Match\" made no sense at all. After reading the article, it still makes no sense at all but did a good job of explaining the abilities of these alternative OSs.  \n",
      " Have they found out the urlLink mechanism for memory ?  \n",
      " I wish I was back in high school for this one: urlLink Wireless Networking for the TI graphing calculators . Back in high school, our graphing calculators full of games saved some of our sanity. We went so far as to create Tetris tournaments. I went so far as to create games in BASIC for the TI-85, then to learn assembly for the TI-92. I never did get enough knowledge of the TI-92 to create games, but that knowledge did help me out with my college course in assembly. \n",
      " Last season was the first time I truly watched The Real World. It was a great season, and urlLink next season seems to have great promise.  \n",
      " Even though Jamie insists that this technology already exists, I think the development of urlLink instant water purification is facinating.  \n",
      " This is very promising, if not utterly amazing. urlLink Light can be accelerated to almost 300 times c .  \n",
      " The following concerns a question in a physics degree exam at the University of Copenhagen: \"Describe how to determine the height of a skyscraper with a barometer.\" One student replied: \"You tie a long piece of string to the neck of the barometer, then lower the barometer from the roof of the skyscraper to the ground. The length of the string plus the length of the barometer will equal the height of the building.\" This highly original answer so incensed the examiner that the student was failed immediately. The student appealed on the grounds that his answer was indisputably correct, and the university appointed an independent arbiter to decide the case. The arbiter judged that the answer was indeed correct, but did not display any noticeable knowledge of physics. To resolve the problem it was decided to call the student in and allow him six minutes in which to provide a verbal answer which showed at least a minimal familiarity with the basic principles of physics. For five minutes the student sat in silence, forehead creased in thought. The arbiter reminded him that time was running out, to which the student replied that he had several extremely relevant answers, but couldn't make up his mind which to use. On being advised to hurry up the student replied as follows: \"Firstly, you could take the barometer up to the roof of the skyscraper, drop it over the edge, and measure the time it takes to reach the ground. The height of the building can then be worked out from the formula H = 0.5g x t squared. But bad luck on the barometer.\" \"Or if the sun is shining you could measure the height of the barometer, then set it on end and measure the length of its shadow. Then you measure the length of the skyscraper's shadow, and thereafter it is a simple matter of proportional arithmetic to work out the height of the skyscraper.\" \"But if you wanted to be highly scientific about it, you could tie a short piece of string to the barometer and swing it like a pendulum, first at ground level and then on the roof of the skyscraper. The height is worked out by the difference in the gravitational restoring force T = 2 pi sqrroot (l / g).\" \"Or if the skyscraper has an outside emergency staircase, it would be easier to walk up it and mark off the height of the skyscraper in barometer lengths, then add them up.\" \"If you merely wanted to be boring and orthodox about it, of course, you could use the barometer to measure the air pressure on the roof of the skyscraper and on the ground, and convert the difference in millibars into feet to give the height of the building.\" \"But since we are constantly being exhorted to exercise independence of mind and apply scientific methods, undoubtedly the best way would be to knock on the janitor's door and say to him 'If you would like a nice new barometer, I will give you this one if you tell me the height of this skyscraper'.\" The student was Niels Bohr, the only Dane to win the Nobel prize for Physics.  \n",
      " I have waited this long to blog urlLink Sluggy Freelance because it took me about a week to read all of the archives. Some of the jokes get old after awhile, but the concept is great!  \n",
      " Sent by Jamie (no surprise there...) PICK UP LINES THAT MAY GET YOU HURT 1 If you and I were squirrels, could I bust a nut in your hole? 2 I'd like to wrap your legs around my head and wear you like a feed bag. 3 If it's true that we are what we eat, I could be you by morning! 4 How do you like your eggs: poached, scrambled, or fertilized? 5 I was about to go masturbate and I needed a name to go with your face. 6 You are so fine that I'd eat your shit just to see where it came from. 7 My love for you is like diarrhea, I just can't hold it in. 8 Roses are red. Violets are blue. I like spaghetti. Let's go f**k. 9 Is that a keg in your pants? 'Cause I would love to tap that ass! 10 If your right leg was Thanksgiving, and your left leg was Christmas, could I meet you between the holidays? 11 You remind me of a championship bass, I don't know whether to mount you or eat you! 12 Your parents must be retarded, because you are special. 13 Could I touch your belly button . . . from the inside? 14 I'm not too good at algebra, but doesn't U+I = 69? 15 How about we play lion and lion tamer? You hold your mouth open, and I'll give you the meat.  \n",
      " To counteract my actions of snobbery, my monitor decided that it really really liked Yellow. Trying to view the net in shades of yellow will kill your eyesight for at least an hour for every 5 minutes of surfing. It was a nice flat screen 17 inch NEC, but I got it used without a warranty. $350 will disappear from my wallet soon. I am currently using a 14'' POS, and 14 inches is not enough to satisfy.  \n",
      " urlLink PSone, the portable Sony Playstation . Even though they say that you must plug the system into a regular electrical outlet, you know someone is going to make a fat battery pack. Maybe even a base that will fit just underneath the PSone.  \n",
      " A giant development in the world of cybernetics has occured. The urlLink first true cyborg has been created. Based on a urlLink wheeled robot design (looks like a robobiscuit), but controlled by a few neurons from an eel, the cyborg can follow or flee light and move in a circle. \n",
      " This does not seem like much, but the implications are astounding.  \n",
      " The more I work at the Student Publications building, the closer I come to having this be my future: urlLink Who Wants to Marry a Sysadmin? If you are not into at least one flavor of UNIX, this will make no sense.  \n"
     ]
    }
   ],
   "source": [
    "for val in df.iloc[:,-1]:\n",
    "    print(val)"
   ]
  },
  {
   "cell_type": "markdown",
   "metadata": {},
   "source": [
    "# Statistics"
   ]
  },
  {
   "cell_type": "markdown",
   "metadata": {},
   "source": [
    "The code for 4. will be available for them, but thy need to write the code for 5. and 6. and explain the insights they get"
   ]
  },
  {
   "cell_type": "markdown",
   "metadata": {},
   "source": [
    "## 4. Count words in each activity"
   ]
  },
  {
   "cell_type": "code",
   "execution_count": 6,
   "metadata": {},
   "outputs": [
    {
     "data": {
      "text/html": [
       "<div>\n",
       "<style scoped>\n",
       "    .dataframe tbody tr th:only-of-type {\n",
       "        vertical-align: middle;\n",
       "    }\n",
       "\n",
       "    .dataframe tbody tr th {\n",
       "        vertical-align: top;\n",
       "    }\n",
       "\n",
       "    .dataframe thead th {\n",
       "        text-align: right;\n",
       "    }\n",
       "</style>\n",
       "<table border=\"1\" class=\"dataframe\">\n",
       "  <thead>\n",
       "    <tr style=\"text-align: right;\">\n",
       "      <th></th>\n",
       "      <th>Date</th>\n",
       "      <th>Activities</th>\n",
       "      <th>Word_count</th>\n",
       "      <th>Noun_count</th>\n",
       "      <th>Verb_count</th>\n",
       "    </tr>\n",
       "  </thead>\n",
       "  <tbody>\n",
       "    <tr>\n",
       "      <th>3</th>\n",
       "      <td>2000-05-22</td>\n",
       "      <td>I can smell her now. The scent is reminiscent...</td>\n",
       "      <td>255</td>\n",
       "      <td>50</td>\n",
       "      <td>47</td>\n",
       "    </tr>\n",
       "    <tr>\n",
       "      <th>1</th>\n",
       "      <td>2000-05-23</td>\n",
       "      <td>urlLink Mac OS 9 versus Corel Linux ? At firs...</td>\n",
       "      <td>41</td>\n",
       "      <td>13</td>\n",
       "      <td>5</td>\n",
       "    </tr>\n",
       "    <tr>\n",
       "      <th>2</th>\n",
       "      <td>2000-05-23</td>\n",
       "      <td>Have they found out the urlLink mechanism for...</td>\n",
       "      <td>9</td>\n",
       "      <td>3</td>\n",
       "      <td>2</td>\n",
       "    </tr>\n",
       "    <tr>\n",
       "      <th>0</th>\n",
       "      <td>2000-05-24</td>\n",
       "      <td>I wish I was back in high school for this one...</td>\n",
       "      <td>91</td>\n",
       "      <td>25</td>\n",
       "      <td>14</td>\n",
       "    </tr>\n",
       "    <tr>\n",
       "      <th>7</th>\n",
       "      <td>2000-05-29</td>\n",
       "      <td>Last season was the first time I truly watche...</td>\n",
       "      <td>26</td>\n",
       "      <td>6</td>\n",
       "      <td>6</td>\n",
       "    </tr>\n",
       "  </tbody>\n",
       "</table>\n",
       "</div>"
      ],
      "text/plain": [
       "         Date                                         Activities  Word_count  \\\n",
       "3  2000-05-22   I can smell her now. The scent is reminiscent...         255   \n",
       "1  2000-05-23   urlLink Mac OS 9 versus Corel Linux ? At firs...          41   \n",
       "2  2000-05-23   Have they found out the urlLink mechanism for...           9   \n",
       "0  2000-05-24   I wish I was back in high school for this one...          91   \n",
       "7  2000-05-29   Last season was the first time I truly watche...          26   \n",
       "\n",
       "   Noun_count  Verb_count  \n",
       "3          50          47  \n",
       "1          13           5  \n",
       "2           3           2  \n",
       "0          25          14  \n",
       "7           6           6  "
      ]
     },
     "execution_count": 6,
     "metadata": {},
     "output_type": "execute_result"
    }
   ],
   "source": [
    "import re\n",
    "from nltk import word_tokenize, pos_tag\n",
    "df['Word_count'] = df.iloc[:,-1].apply(lambda x: len(re.findall(r'\\w+', x)))\n",
    "df['Noun_count'] = df.iloc[:,1].apply(lambda x: sum(1 for word, pos in pos_tag(word_tokenize(x)) if pos.startswith('NN')))\n",
    "df['Verb_count'] = df.iloc[:,1].apply(lambda x: sum(1 for word, pos in pos_tag(word_tokenize(x)) if pos.startswith('VB')))\n",
    "df.head()"
   ]
  },
  {
   "cell_type": "markdown",
   "metadata": {},
   "source": [
    "## 5. Plot word count over noun count"
   ]
  },
  {
   "cell_type": "code",
   "execution_count": 7,
   "metadata": {
    "scrolled": true
   },
   "outputs": [
    {
     "data": {
      "text/plain": [
       "<matplotlib.axes._subplots.AxesSubplot at 0x20ac3588e80>"
      ]
     },
     "execution_count": 7,
     "metadata": {},
     "output_type": "execute_result"
    },
    {
     "data": {
      "image/png": "[encoded data removed]",
      "text/plain": [
       "<Figure size 432x288 with 1 Axes>"
      ]
     },
     "metadata": {
      "needs_background": "light"
     },
     "output_type": "display_data"
    }
   ],
   "source": [
    "sns.lineplot(x='Noun_count',y='Word_count',data=df)"
   ]
  },
  {
   "cell_type": "markdown",
   "metadata": {},
   "source": [
    "## 6. Plot the pairplot "
   ]
  },
  {
   "cell_type": "code",
   "execution_count": 8,
   "metadata": {},
   "outputs": [
    {
     "data": {
      "text/plain": [
       "<seaborn.axisgrid.PairGrid at 0x20ac7060ef0>"
      ]
     },
     "execution_count": 8,
     "metadata": {},
     "output_type": "execute_result"
    },
    {
     "data": {
      "image/png": "[encoded data removed]",
      "text/plain": [
       "<Figure size 540x540 with 12 Axes>"
      ]
     },
     "metadata": {
      "needs_background": "light"
     },
     "output_type": "display_data"
    }
   ],
   "source": [
    "sns.pairplot(df)"
   ]
  },
  {
   "cell_type": "markdown",
   "metadata": {},
   "source": [
    "The plot show that the word_count is correlated to both noun and verbcount"
   ]
  },
  {
   "cell_type": "markdown",
   "metadata": {},
   "source": [
    "# Modelling: Linear Regression"
   ]
  },
  {
   "cell_type": "markdown",
   "metadata": {},
   "source": [
    "This group will apply what they learned last week. they will write the code from scratch for 7. and 8. But you need to guide them through 8."
   ]
  },
  {
   "cell_type": "markdown",
   "metadata": {},
   "source": [
    "## 7. Train a Linear Regression and show the accuracy"
   ]
  },
  {
   "cell_type": "code",
   "execution_count": 9,
   "metadata": {},
   "outputs": [
    {
     "name": "stdout",
     "output_type": "stream",
     "text": [
      "Acurracy of Model:  99.79296371163095\n"
     ]
    }
   ],
   "source": [
    "from sklearn.model_selection import train_test_split\n",
    "from sklearn.linear_model import LinearRegression\n",
    "X=df.iloc[:, 3:]\n",
    "y=df.iloc[:, 2]\n",
    "X_train, X_test, y_train, y_test = train_test_split(X,y,test_size=0.2, random_state=10)\n",
    "reg= LinearRegression()\n",
    "reg.fit(X_train, y_train)\n",
    "print('Acurracy of Model: ',reg.score(X_test, y_test)*100)"
   ]
  },
  {
   "cell_type": "markdown",
   "metadata": {},
   "source": [
    "## 8. Predict the word count "
   ]
  },
  {
   "cell_type": "markdown",
   "metadata": {},
   "source": [
    "Here they will be given a table of noun and verb count to predict word count"
   ]
  },
  {
   "cell_type": "code",
   "execution_count": 10,
   "metadata": {},
   "outputs": [
    {
     "data": {
      "text/plain": [
       "array([121., 233.,  25.])"
      ]
     },
     "execution_count": 10,
     "metadata": {},
     "output_type": "execute_result"
    }
   ],
   "source": [
    "X_validate=pd.DataFrame()\n",
    "X_validate['Noun_count']=[45, 80, 7]\n",
    "X_validate['Verb_count']=[7,18,4]\n",
    "np.round(reg.predict(X_validate))"
   ]
  },
  {
   "cell_type": "markdown",
   "metadata": {},
   "source": [
    "Their presentation should focus on:\n",
    "\n",
    "- The data type and order\n",
    "- the additional transformation\n",
    "- model to predict word count and accuracy"
   ]
  },
  {
   "cell_type": "code",
   "execution_count": null,
   "metadata": {},
   "outputs": [],
   "source": []
  }
 ],
 "metadata": {
  "kernelspec": {
   "display_name": "Python 3",
   "language": "python",
   "name": "python3"
  },
  "language_info": {
   "codemirror_mode": {
    "name": "ipython",
    "version": 3
   },
   "file_extension": ".py",
   "mimetype": "text/x-python",
   "name": "python",
   "nbconvert_exporter": "python",
   "pygments_lexer": "ipython3",
   "version": "3.7.3"
  }
 },
 "nbformat": 4,
 "nbformat_minor": 2
}
